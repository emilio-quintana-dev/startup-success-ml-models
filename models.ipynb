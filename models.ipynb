{
  "cells": [
    {
      "cell_type": "markdown",
      "metadata": {
        "id": "bwo5Qb20vF3c"
      },
      "source": [
        "# Import of the dataset and necessary packages."
      ]
    },
    {
      "cell_type": "code",
      "execution_count": null,
      "metadata": {
        "id": "ApVRadlirxo1"
      },
      "outputs": [],
      "source": [
        "#pip install missingno\n",
        "# if you get an error in imports, uncomment this cell to run the necessary pip install"
      ]
    },
    {
      "cell_type": "code",
      "execution_count": null,
      "metadata": {
        "id": "VGDJggbnTO6g"
      },
      "outputs": [],
      "source": [
        "#pip install category_encoders\n",
        "# if you get an error in imports, uncomment this cell to run the necessary pip install"
      ]
    },
    {
      "cell_type": "code",
      "execution_count": null,
      "metadata": {
        "colab": {
          "base_uri": "https://localhost:8080/"
        },
        "id": "a_heRMfqqltK",
        "outputId": "c69fd3e1-ca2d-4536-aaa8-e4cdf07c8aee"
      },
      "outputs": [
        {
          "name": "stdout",
          "output_type": "stream",
          "text": [
            "Mounted at /content/drive\n"
          ]
        }
      ],
      "source": [
        "# Run this cell first to mount your entire google drive.\n",
        "# we will use this format for now while working on the project. Upon submission we will submit all the files including the dataset.\n",
        "# TODO: Change the read with pandas before submission.\n",
        "from google.colab import drive\n",
        "drive.mount ('/content/drive')"
      ]
    },
    {
      "cell_type": "code",
      "execution_count": null,
      "metadata": {
        "id": "9mqZUoEe0CvM"
      },
      "outputs": [],
      "source": [
        "# Run this cell next to read the dataset.\n",
        "# File_id is the id of dataset.\n",
        "# Package Import\n",
        "import pandas as pd\n",
        "import numpy as np\n",
        "import matplotlib.pyplot as plt\n",
        "import seaborn as sns\n",
        "from google.colab import files\n",
        "from sklearn.preprocessing import LabelEncoder\n",
        "from sklearn.model_selection import train_test_split, cross_val_score\n",
        "from sklearn.neighbors import KNeighborsClassifier\n",
        "from sklearn.preprocessing import StandardScaler\n",
        "from sklearn.model_selection import GridSearchCV\n",
        "from sklearn.pipeline import Pipeline\n",
        "from sklearn.model_selection import StratifiedKFold\n",
        "from sklearn.metrics import precision_score, recall_score, f1_score, roc_auc_score,confusion_matrix\n",
        "from sklearn.utils import resample\n",
        "from sklearn.metrics import accuracy_score\n",
        "from sklearn.utils import resample\n",
        "import tensorflow as tf\n",
        "from tensorflow.keras.models import Sequential\n",
        "from tensorflow.keras.layers import Dense\n",
        "from tensorflow.keras.metrics import Precision, Recall"
      ]
    },
    {
      "cell_type": "code",
      "execution_count": null,
      "metadata": {
        "id": "nK1f2zXCwkBO"
      },
      "outputs": [],
      "source": [
        "file_id = \"1crnj1FKEEaVlF_htFqSCLEma2HjIFhwg\"\n",
        "url = 'https://drive.google.com/uc?id={}'.format(file_id)\n",
        "df = pd.read_csv(url)"
      ]
    },
    {
      "cell_type": "code",
      "execution_count": null,
      "metadata": {
        "colab": {
          "base_uri": "https://localhost:8080/",
          "height": 574
        },
        "id": "2xZUai2o4uIu",
        "outputId": "67a2e5d5-baab-4771-8ea1-360c9fc25475"
      },
      "outputs": [
        {
          "data": {
            "text/html": [
              "\n",
              "  <div id=\"df-c593fe50-f713-472e-a213-cb6effee334a\" class=\"colab-df-container\">\n",
              "    <div>\n",
              "<style scoped>\n",
              "    .dataframe tbody tr th:only-of-type {\n",
              "        vertical-align: middle;\n",
              "    }\n",
              "\n",
              "    .dataframe tbody tr th {\n",
              "        vertical-align: top;\n",
              "    }\n",
              "\n",
              "    .dataframe thead th {\n",
              "        text-align: right;\n",
              "    }\n",
              "</style>\n",
              "<table border=\"1\" class=\"dataframe\">\n",
              "  <thead>\n",
              "    <tr style=\"text-align: right;\">\n",
              "      <th></th>\n",
              "      <th>permalink</th>\n",
              "      <th>name</th>\n",
              "      <th>homepage_url</th>\n",
              "      <th>category_list</th>\n",
              "      <th>funding_total_usd</th>\n",
              "      <th>status</th>\n",
              "      <th>country_code</th>\n",
              "      <th>state_code</th>\n",
              "      <th>region</th>\n",
              "      <th>city</th>\n",
              "      <th>funding_rounds</th>\n",
              "      <th>founded_at</th>\n",
              "      <th>first_funding_at</th>\n",
              "      <th>last_funding_at</th>\n",
              "    </tr>\n",
              "  </thead>\n",
              "  <tbody>\n",
              "    <tr>\n",
              "      <th>0</th>\n",
              "      <td>/organization/-fame</td>\n",
              "      <td>#fame</td>\n",
              "      <td>http://livfame.com</td>\n",
              "      <td>Media</td>\n",
              "      <td>10000000</td>\n",
              "      <td>operating</td>\n",
              "      <td>IND</td>\n",
              "      <td>16</td>\n",
              "      <td>Mumbai</td>\n",
              "      <td>Mumbai</td>\n",
              "      <td>1</td>\n",
              "      <td>NaN</td>\n",
              "      <td>2015-01-05</td>\n",
              "      <td>2015-01-05</td>\n",
              "    </tr>\n",
              "    <tr>\n",
              "      <th>1</th>\n",
              "      <td>/organization/-qounter</td>\n",
              "      <td>:Qounter</td>\n",
              "      <td>http://www.qounter.com</td>\n",
              "      <td>Application Platforms|Real Time|Social Network...</td>\n",
              "      <td>700000</td>\n",
              "      <td>operating</td>\n",
              "      <td>USA</td>\n",
              "      <td>DE</td>\n",
              "      <td>DE - Other</td>\n",
              "      <td>Delaware City</td>\n",
              "      <td>2</td>\n",
              "      <td>2014-09-04</td>\n",
              "      <td>2014-03-01</td>\n",
              "      <td>2014-10-14</td>\n",
              "    </tr>\n",
              "    <tr>\n",
              "      <th>2</th>\n",
              "      <td>/organization/-the-one-of-them-inc-</td>\n",
              "      <td>(THE) ONE of THEM,Inc.</td>\n",
              "      <td>http://oneofthem.jp</td>\n",
              "      <td>Apps|Games|Mobile</td>\n",
              "      <td>3406878</td>\n",
              "      <td>operating</td>\n",
              "      <td>NaN</td>\n",
              "      <td>NaN</td>\n",
              "      <td>NaN</td>\n",
              "      <td>NaN</td>\n",
              "      <td>1</td>\n",
              "      <td>NaN</td>\n",
              "      <td>2014-01-30</td>\n",
              "      <td>2014-01-30</td>\n",
              "    </tr>\n",
              "    <tr>\n",
              "      <th>3</th>\n",
              "      <td>/organization/0-6-com</td>\n",
              "      <td>0-6.com</td>\n",
              "      <td>http://www.0-6.com</td>\n",
              "      <td>Curated Web</td>\n",
              "      <td>2000000</td>\n",
              "      <td>operating</td>\n",
              "      <td>CHN</td>\n",
              "      <td>22</td>\n",
              "      <td>Beijing</td>\n",
              "      <td>Beijing</td>\n",
              "      <td>1</td>\n",
              "      <td>2007-01-01</td>\n",
              "      <td>2008-03-19</td>\n",
              "      <td>2008-03-19</td>\n",
              "    </tr>\n",
              "    <tr>\n",
              "      <th>4</th>\n",
              "      <td>/organization/004-technologies</td>\n",
              "      <td>004 Technologies</td>\n",
              "      <td>http://004gmbh.de/en/004-interact</td>\n",
              "      <td>Software</td>\n",
              "      <td>-</td>\n",
              "      <td>operating</td>\n",
              "      <td>USA</td>\n",
              "      <td>IL</td>\n",
              "      <td>Springfield, Illinois</td>\n",
              "      <td>Champaign</td>\n",
              "      <td>1</td>\n",
              "      <td>2010-01-01</td>\n",
              "      <td>2014-07-24</td>\n",
              "      <td>2014-07-24</td>\n",
              "    </tr>\n",
              "    <tr>\n",
              "      <th>5</th>\n",
              "      <td>/organization/01games-technology</td>\n",
              "      <td>01Games Technology</td>\n",
              "      <td>http://www.01games.hk/</td>\n",
              "      <td>Games</td>\n",
              "      <td>41250</td>\n",
              "      <td>operating</td>\n",
              "      <td>HKG</td>\n",
              "      <td>NaN</td>\n",
              "      <td>Hong Kong</td>\n",
              "      <td>Hong Kong</td>\n",
              "      <td>1</td>\n",
              "      <td>NaN</td>\n",
              "      <td>2014-07-01</td>\n",
              "      <td>2014-07-01</td>\n",
              "    </tr>\n",
              "    <tr>\n",
              "      <th>6</th>\n",
              "      <td>/organization/0ndine-biomedical-inc</td>\n",
              "      <td>Ondine Biomedical Inc.</td>\n",
              "      <td>http://ondinebio.com</td>\n",
              "      <td>Biotechnology</td>\n",
              "      <td>762851</td>\n",
              "      <td>operating</td>\n",
              "      <td>CAN</td>\n",
              "      <td>BC</td>\n",
              "      <td>Vancouver</td>\n",
              "      <td>Vancouver</td>\n",
              "      <td>2</td>\n",
              "      <td>1997-01-01</td>\n",
              "      <td>2009-09-11</td>\n",
              "      <td>2009-12-21</td>\n",
              "    </tr>\n",
              "    <tr>\n",
              "      <th>7</th>\n",
              "      <td>/organization/0xdata</td>\n",
              "      <td>H2O.ai</td>\n",
              "      <td>http://h2o.ai/</td>\n",
              "      <td>Analytics</td>\n",
              "      <td>33600000</td>\n",
              "      <td>operating</td>\n",
              "      <td>USA</td>\n",
              "      <td>CA</td>\n",
              "      <td>SF Bay Area</td>\n",
              "      <td>Mountain View</td>\n",
              "      <td>4</td>\n",
              "      <td>2011-01-01</td>\n",
              "      <td>2013-01-03</td>\n",
              "      <td>2015-11-09</td>\n",
              "    </tr>\n",
              "    <tr>\n",
              "      <th>8</th>\n",
              "      <td>/organization/1</td>\n",
              "      <td>One Inc.</td>\n",
              "      <td>http://whatis1.com</td>\n",
              "      <td>Mobile</td>\n",
              "      <td>1150050</td>\n",
              "      <td>operating</td>\n",
              "      <td>USA</td>\n",
              "      <td>CA</td>\n",
              "      <td>SF Bay Area</td>\n",
              "      <td>San Francisco</td>\n",
              "      <td>3</td>\n",
              "      <td>2011-08-01</td>\n",
              "      <td>2011-07-20</td>\n",
              "      <td>2014-02-05</td>\n",
              "    </tr>\n",
              "    <tr>\n",
              "      <th>9</th>\n",
              "      <td>/organization/1-2-3-listo</td>\n",
              "      <td>1,2,3 Listo</td>\n",
              "      <td>http://www.123listo.com</td>\n",
              "      <td>E-Commerce</td>\n",
              "      <td>40000</td>\n",
              "      <td>operating</td>\n",
              "      <td>CHL</td>\n",
              "      <td>12</td>\n",
              "      <td>Santiago</td>\n",
              "      <td>Las Condes</td>\n",
              "      <td>1</td>\n",
              "      <td>2012-01-01</td>\n",
              "      <td>2013-02-18</td>\n",
              "      <td>2013-02-18</td>\n",
              "    </tr>\n",
              "  </tbody>\n",
              "</table>\n",
              "</div>\n",
              "    <div class=\"colab-df-buttons\">\n",
              "\n",
              "  <div class=\"colab-df-container\">\n",
              "    <button class=\"colab-df-convert\" onclick=\"convertToInteractive('df-c593fe50-f713-472e-a213-cb6effee334a')\"\n",
              "            title=\"Convert this dataframe to an interactive table.\"\n",
              "            style=\"display:none;\">\n",
              "\n",
              "  <svg xmlns=\"http://www.w3.org/2000/svg\" height=\"24px\" viewBox=\"0 -960 960 960\">\n",
              "    <path d=\"M120-120v-720h720v720H120Zm60-500h600v-160H180v160Zm220 220h160v-160H400v160Zm0 220h160v-160H400v160ZM180-400h160v-160H180v160Zm440 0h160v-160H620v160ZM180-180h160v-160H180v160Zm440 0h160v-160H620v160Z\"/>\n",
              "  </svg>\n",
              "    </button>\n",
              "\n",
              "  <style>\n",
              "    .colab-df-container {\n",
              "      display:flex;\n",
              "      gap: 12px;\n",
              "    }\n",
              "\n",
              "    .colab-df-convert {\n",
              "      background-color: #E8F0FE;\n",
              "      border: none;\n",
              "      border-radius: 50%;\n",
              "      cursor: pointer;\n",
              "      display: none;\n",
              "      fill: #1967D2;\n",
              "      height: 32px;\n",
              "      padding: 0 0 0 0;\n",
              "      width: 32px;\n",
              "    }\n",
              "\n",
              "    .colab-df-convert:hover {\n",
              "      background-color: #E2EBFA;\n",
              "      box-shadow: 0px 1px 2px rgba(60, 64, 67, 0.3), 0px 1px 3px 1px rgba(60, 64, 67, 0.15);\n",
              "      fill: #174EA6;\n",
              "    }\n",
              "\n",
              "    .colab-df-buttons div {\n",
              "      margin-bottom: 4px;\n",
              "    }\n",
              "\n",
              "    [theme=dark] .colab-df-convert {\n",
              "      background-color: #3B4455;\n",
              "      fill: #D2E3FC;\n",
              "    }\n",
              "\n",
              "    [theme=dark] .colab-df-convert:hover {\n",
              "      background-color: #434B5C;\n",
              "      box-shadow: 0px 1px 3px 1px rgba(0, 0, 0, 0.15);\n",
              "      filter: drop-shadow(0px 1px 2px rgba(0, 0, 0, 0.3));\n",
              "      fill: #FFFFFF;\n",
              "    }\n",
              "  </style>\n",
              "\n",
              "    <script>\n",
              "      const buttonEl =\n",
              "        document.querySelector('#df-c593fe50-f713-472e-a213-cb6effee334a button.colab-df-convert');\n",
              "      buttonEl.style.display =\n",
              "        google.colab.kernel.accessAllowed ? 'block' : 'none';\n",
              "\n",
              "      async function convertToInteractive(key) {\n",
              "        const element = document.querySelector('#df-c593fe50-f713-472e-a213-cb6effee334a');\n",
              "        const dataTable =\n",
              "          await google.colab.kernel.invokeFunction('convertToInteractive',\n",
              "                                                    [key], {});\n",
              "        if (!dataTable) return;\n",
              "\n",
              "        const docLinkHtml = 'Like what you see? Visit the ' +\n",
              "          '<a target=\"_blank\" href=https://colab.research.google.com/notebooks/data_table.ipynb>data table notebook</a>'\n",
              "          + ' to learn more about interactive tables.';\n",
              "        element.innerHTML = '';\n",
              "        dataTable['output_type'] = 'display_data';\n",
              "        await google.colab.output.renderOutput(dataTable, element);\n",
              "        const docLink = document.createElement('div');\n",
              "        docLink.innerHTML = docLinkHtml;\n",
              "        element.appendChild(docLink);\n",
              "      }\n",
              "    </script>\n",
              "  </div>\n",
              "\n",
              "\n",
              "<div id=\"df-2e70606f-5ab8-4e0f-887b-bc11ca1ac62a\">\n",
              "  <button class=\"colab-df-quickchart\" onclick=\"quickchart('df-2e70606f-5ab8-4e0f-887b-bc11ca1ac62a')\"\n",
              "            title=\"Suggest charts\"\n",
              "            style=\"display:none;\">\n",
              "\n",
              "<svg xmlns=\"http://www.w3.org/2000/svg\" height=\"24px\"viewBox=\"0 0 24 24\"\n",
              "     width=\"24px\">\n",
              "    <g>\n",
              "        <path d=\"M19 3H5c-1.1 0-2 .9-2 2v14c0 1.1.9 2 2 2h14c1.1 0 2-.9 2-2V5c0-1.1-.9-2-2-2zM9 17H7v-7h2v7zm4 0h-2V7h2v10zm4 0h-2v-4h2v4z\"/>\n",
              "    </g>\n",
              "</svg>\n",
              "  </button>\n",
              "\n",
              "<style>\n",
              "  .colab-df-quickchart {\n",
              "      --bg-color: #E8F0FE;\n",
              "      --fill-color: #1967D2;\n",
              "      --hover-bg-color: #E2EBFA;\n",
              "      --hover-fill-color: #174EA6;\n",
              "      --disabled-fill-color: #AAA;\n",
              "      --disabled-bg-color: #DDD;\n",
              "  }\n",
              "\n",
              "  [theme=dark] .colab-df-quickchart {\n",
              "      --bg-color: #3B4455;\n",
              "      --fill-color: #D2E3FC;\n",
              "      --hover-bg-color: #434B5C;\n",
              "      --hover-fill-color: #FFFFFF;\n",
              "      --disabled-bg-color: #3B4455;\n",
              "      --disabled-fill-color: #666;\n",
              "  }\n",
              "\n",
              "  .colab-df-quickchart {\n",
              "    background-color: var(--bg-color);\n",
              "    border: none;\n",
              "    border-radius: 50%;\n",
              "    cursor: pointer;\n",
              "    display: none;\n",
              "    fill: var(--fill-color);\n",
              "    height: 32px;\n",
              "    padding: 0;\n",
              "    width: 32px;\n",
              "  }\n",
              "\n",
              "  .colab-df-quickchart:hover {\n",
              "    background-color: var(--hover-bg-color);\n",
              "    box-shadow: 0 1px 2px rgba(60, 64, 67, 0.3), 0 1px 3px 1px rgba(60, 64, 67, 0.15);\n",
              "    fill: var(--button-hover-fill-color);\n",
              "  }\n",
              "\n",
              "  .colab-df-quickchart-complete:disabled,\n",
              "  .colab-df-quickchart-complete:disabled:hover {\n",
              "    background-color: var(--disabled-bg-color);\n",
              "    fill: var(--disabled-fill-color);\n",
              "    box-shadow: none;\n",
              "  }\n",
              "\n",
              "  .colab-df-spinner {\n",
              "    border: 2px solid var(--fill-color);\n",
              "    border-color: transparent;\n",
              "    border-bottom-color: var(--fill-color);\n",
              "    animation:\n",
              "      spin 1s steps(1) infinite;\n",
              "  }\n",
              "\n",
              "  @keyframes spin {\n",
              "    0% {\n",
              "      border-color: transparent;\n",
              "      border-bottom-color: var(--fill-color);\n",
              "      border-left-color: var(--fill-color);\n",
              "    }\n",
              "    20% {\n",
              "      border-color: transparent;\n",
              "      border-left-color: var(--fill-color);\n",
              "      border-top-color: var(--fill-color);\n",
              "    }\n",
              "    30% {\n",
              "      border-color: transparent;\n",
              "      border-left-color: var(--fill-color);\n",
              "      border-top-color: var(--fill-color);\n",
              "      border-right-color: var(--fill-color);\n",
              "    }\n",
              "    40% {\n",
              "      border-color: transparent;\n",
              "      border-right-color: var(--fill-color);\n",
              "      border-top-color: var(--fill-color);\n",
              "    }\n",
              "    60% {\n",
              "      border-color: transparent;\n",
              "      border-right-color: var(--fill-color);\n",
              "    }\n",
              "    80% {\n",
              "      border-color: transparent;\n",
              "      border-right-color: var(--fill-color);\n",
              "      border-bottom-color: var(--fill-color);\n",
              "    }\n",
              "    90% {\n",
              "      border-color: transparent;\n",
              "      border-bottom-color: var(--fill-color);\n",
              "    }\n",
              "  }\n",
              "</style>\n",
              "\n",
              "  <script>\n",
              "    async function quickchart(key) {\n",
              "      const quickchartButtonEl =\n",
              "        document.querySelector('#' + key + ' button');\n",
              "      quickchartButtonEl.disabled = true;  // To prevent multiple clicks.\n",
              "      quickchartButtonEl.classList.add('colab-df-spinner');\n",
              "      try {\n",
              "        const charts = await google.colab.kernel.invokeFunction(\n",
              "            'suggestCharts', [key], {});\n",
              "      } catch (error) {\n",
              "        console.error('Error during call to suggestCharts:', error);\n",
              "      }\n",
              "      quickchartButtonEl.classList.remove('colab-df-spinner');\n",
              "      quickchartButtonEl.classList.add('colab-df-quickchart-complete');\n",
              "    }\n",
              "    (() => {\n",
              "      let quickchartButtonEl =\n",
              "        document.querySelector('#df-2e70606f-5ab8-4e0f-887b-bc11ca1ac62a button');\n",
              "      quickchartButtonEl.style.display =\n",
              "        google.colab.kernel.accessAllowed ? 'block' : 'none';\n",
              "    })();\n",
              "  </script>\n",
              "</div>\n",
              "    </div>\n",
              "  </div>\n"
            ],
            "text/plain": [
              "                             permalink                    name  \\\n",
              "0                  /organization/-fame                   #fame   \n",
              "1               /organization/-qounter                :Qounter   \n",
              "2  /organization/-the-one-of-them-inc-  (THE) ONE of THEM,Inc.   \n",
              "3                /organization/0-6-com                 0-6.com   \n",
              "4       /organization/004-technologies        004 Technologies   \n",
              "5     /organization/01games-technology      01Games Technology   \n",
              "6  /organization/0ndine-biomedical-inc  Ondine Biomedical Inc.   \n",
              "7                 /organization/0xdata                  H2O.ai   \n",
              "8                      /organization/1                One Inc.   \n",
              "9            /organization/1-2-3-listo             1,2,3 Listo   \n",
              "\n",
              "                        homepage_url  \\\n",
              "0                 http://livfame.com   \n",
              "1             http://www.qounter.com   \n",
              "2                http://oneofthem.jp   \n",
              "3                 http://www.0-6.com   \n",
              "4  http://004gmbh.de/en/004-interact   \n",
              "5             http://www.01games.hk/   \n",
              "6               http://ondinebio.com   \n",
              "7                     http://h2o.ai/   \n",
              "8                 http://whatis1.com   \n",
              "9            http://www.123listo.com   \n",
              "\n",
              "                                       category_list funding_total_usd  \\\n",
              "0                                              Media          10000000   \n",
              "1  Application Platforms|Real Time|Social Network...            700000   \n",
              "2                                  Apps|Games|Mobile           3406878   \n",
              "3                                        Curated Web           2000000   \n",
              "4                                           Software                 -   \n",
              "5                                              Games             41250   \n",
              "6                                      Biotechnology            762851   \n",
              "7                                          Analytics          33600000   \n",
              "8                                             Mobile           1150050   \n",
              "9                                         E-Commerce             40000   \n",
              "\n",
              "      status country_code state_code                 region           city  \\\n",
              "0  operating          IND         16                 Mumbai         Mumbai   \n",
              "1  operating          USA         DE             DE - Other  Delaware City   \n",
              "2  operating          NaN        NaN                    NaN            NaN   \n",
              "3  operating          CHN         22                Beijing        Beijing   \n",
              "4  operating          USA         IL  Springfield, Illinois      Champaign   \n",
              "5  operating          HKG        NaN              Hong Kong      Hong Kong   \n",
              "6  operating          CAN         BC              Vancouver      Vancouver   \n",
              "7  operating          USA         CA            SF Bay Area  Mountain View   \n",
              "8  operating          USA         CA            SF Bay Area  San Francisco   \n",
              "9  operating          CHL         12               Santiago     Las Condes   \n",
              "\n",
              "   funding_rounds  founded_at first_funding_at last_funding_at  \n",
              "0               1         NaN       2015-01-05      2015-01-05  \n",
              "1               2  2014-09-04       2014-03-01      2014-10-14  \n",
              "2               1         NaN       2014-01-30      2014-01-30  \n",
              "3               1  2007-01-01       2008-03-19      2008-03-19  \n",
              "4               1  2010-01-01       2014-07-24      2014-07-24  \n",
              "5               1         NaN       2014-07-01      2014-07-01  \n",
              "6               2  1997-01-01       2009-09-11      2009-12-21  \n",
              "7               4  2011-01-01       2013-01-03      2015-11-09  \n",
              "8               3  2011-08-01       2011-07-20      2014-02-05  \n",
              "9               1  2012-01-01       2013-02-18      2013-02-18  "
            ]
          },
          "execution_count": 6,
          "metadata": {},
          "output_type": "execute_result"
        }
      ],
      "source": [
        "# Double check that the loading of the files worked by running this cell.\n",
        "df.head(10)"
      ]
    },
    {
      "cell_type": "markdown",
      "metadata": {
        "id": "ybHNMxjNSgiy"
      },
      "source": [
        "# **Data preprocessing**\n",
        "\n"
      ]
    },
    {
      "cell_type": "markdown",
      "metadata": {
        "id": "jV5rYukShJn0"
      },
      "source": [
        "## *Drop Unnecessary Columns*"
      ]
    },
    {
      "cell_type": "code",
      "execution_count": null,
      "metadata": {
        "colab": {
          "base_uri": "https://localhost:8080/",
          "height": 363
        },
        "id": "ZpznicN9Gk-l",
        "outputId": "3e48e1a8-5b93-4837-83de-e96dde27bfa5"
      },
      "outputs": [
        {
          "data": {
            "text/html": [
              "\n",
              "  <div id=\"df-4a458a80-931d-4016-90e9-47b580af9407\" class=\"colab-df-container\">\n",
              "    <div>\n",
              "<style scoped>\n",
              "    .dataframe tbody tr th:only-of-type {\n",
              "        vertical-align: middle;\n",
              "    }\n",
              "\n",
              "    .dataframe tbody tr th {\n",
              "        vertical-align: top;\n",
              "    }\n",
              "\n",
              "    .dataframe thead th {\n",
              "        text-align: right;\n",
              "    }\n",
              "</style>\n",
              "<table border=\"1\" class=\"dataframe\">\n",
              "  <thead>\n",
              "    <tr style=\"text-align: right;\">\n",
              "      <th></th>\n",
              "      <th>category_list</th>\n",
              "      <th>funding_total_usd</th>\n",
              "      <th>status</th>\n",
              "      <th>country_code</th>\n",
              "      <th>city</th>\n",
              "      <th>funding_rounds</th>\n",
              "      <th>founded_at</th>\n",
              "      <th>first_funding_at</th>\n",
              "      <th>last_funding_at</th>\n",
              "    </tr>\n",
              "  </thead>\n",
              "  <tbody>\n",
              "    <tr>\n",
              "      <th>0</th>\n",
              "      <td>Media</td>\n",
              "      <td>10000000</td>\n",
              "      <td>operating</td>\n",
              "      <td>IND</td>\n",
              "      <td>Mumbai</td>\n",
              "      <td>1</td>\n",
              "      <td>NaN</td>\n",
              "      <td>2015-01-05</td>\n",
              "      <td>2015-01-05</td>\n",
              "    </tr>\n",
              "    <tr>\n",
              "      <th>1</th>\n",
              "      <td>Application Platforms|Real Time|Social Network...</td>\n",
              "      <td>700000</td>\n",
              "      <td>operating</td>\n",
              "      <td>USA</td>\n",
              "      <td>Delaware City</td>\n",
              "      <td>2</td>\n",
              "      <td>2014-09-04</td>\n",
              "      <td>2014-03-01</td>\n",
              "      <td>2014-10-14</td>\n",
              "    </tr>\n",
              "    <tr>\n",
              "      <th>2</th>\n",
              "      <td>Apps|Games|Mobile</td>\n",
              "      <td>3406878</td>\n",
              "      <td>operating</td>\n",
              "      <td>NaN</td>\n",
              "      <td>NaN</td>\n",
              "      <td>1</td>\n",
              "      <td>NaN</td>\n",
              "      <td>2014-01-30</td>\n",
              "      <td>2014-01-30</td>\n",
              "    </tr>\n",
              "    <tr>\n",
              "      <th>3</th>\n",
              "      <td>Curated Web</td>\n",
              "      <td>2000000</td>\n",
              "      <td>operating</td>\n",
              "      <td>CHN</td>\n",
              "      <td>Beijing</td>\n",
              "      <td>1</td>\n",
              "      <td>2007-01-01</td>\n",
              "      <td>2008-03-19</td>\n",
              "      <td>2008-03-19</td>\n",
              "    </tr>\n",
              "    <tr>\n",
              "      <th>4</th>\n",
              "      <td>Software</td>\n",
              "      <td>-</td>\n",
              "      <td>operating</td>\n",
              "      <td>USA</td>\n",
              "      <td>Champaign</td>\n",
              "      <td>1</td>\n",
              "      <td>2010-01-01</td>\n",
              "      <td>2014-07-24</td>\n",
              "      <td>2014-07-24</td>\n",
              "    </tr>\n",
              "    <tr>\n",
              "      <th>5</th>\n",
              "      <td>Games</td>\n",
              "      <td>41250</td>\n",
              "      <td>operating</td>\n",
              "      <td>HKG</td>\n",
              "      <td>Hong Kong</td>\n",
              "      <td>1</td>\n",
              "      <td>NaN</td>\n",
              "      <td>2014-07-01</td>\n",
              "      <td>2014-07-01</td>\n",
              "    </tr>\n",
              "    <tr>\n",
              "      <th>6</th>\n",
              "      <td>Biotechnology</td>\n",
              "      <td>762851</td>\n",
              "      <td>operating</td>\n",
              "      <td>CAN</td>\n",
              "      <td>Vancouver</td>\n",
              "      <td>2</td>\n",
              "      <td>1997-01-01</td>\n",
              "      <td>2009-09-11</td>\n",
              "      <td>2009-12-21</td>\n",
              "    </tr>\n",
              "    <tr>\n",
              "      <th>7</th>\n",
              "      <td>Analytics</td>\n",
              "      <td>33600000</td>\n",
              "      <td>operating</td>\n",
              "      <td>USA</td>\n",
              "      <td>Mountain View</td>\n",
              "      <td>4</td>\n",
              "      <td>2011-01-01</td>\n",
              "      <td>2013-01-03</td>\n",
              "      <td>2015-11-09</td>\n",
              "    </tr>\n",
              "    <tr>\n",
              "      <th>8</th>\n",
              "      <td>Mobile</td>\n",
              "      <td>1150050</td>\n",
              "      <td>operating</td>\n",
              "      <td>USA</td>\n",
              "      <td>San Francisco</td>\n",
              "      <td>3</td>\n",
              "      <td>2011-08-01</td>\n",
              "      <td>2011-07-20</td>\n",
              "      <td>2014-02-05</td>\n",
              "    </tr>\n",
              "    <tr>\n",
              "      <th>9</th>\n",
              "      <td>E-Commerce</td>\n",
              "      <td>40000</td>\n",
              "      <td>operating</td>\n",
              "      <td>CHL</td>\n",
              "      <td>Las Condes</td>\n",
              "      <td>1</td>\n",
              "      <td>2012-01-01</td>\n",
              "      <td>2013-02-18</td>\n",
              "      <td>2013-02-18</td>\n",
              "    </tr>\n",
              "  </tbody>\n",
              "</table>\n",
              "</div>\n",
              "    <div class=\"colab-df-buttons\">\n",
              "\n",
              "  <div class=\"colab-df-container\">\n",
              "    <button class=\"colab-df-convert\" onclick=\"convertToInteractive('df-4a458a80-931d-4016-90e9-47b580af9407')\"\n",
              "            title=\"Convert this dataframe to an interactive table.\"\n",
              "            style=\"display:none;\">\n",
              "\n",
              "  <svg xmlns=\"http://www.w3.org/2000/svg\" height=\"24px\" viewBox=\"0 -960 960 960\">\n",
              "    <path d=\"M120-120v-720h720v720H120Zm60-500h600v-160H180v160Zm220 220h160v-160H400v160Zm0 220h160v-160H400v160ZM180-400h160v-160H180v160Zm440 0h160v-160H620v160ZM180-180h160v-160H180v160Zm440 0h160v-160H620v160Z\"/>\n",
              "  </svg>\n",
              "    </button>\n",
              "\n",
              "  <style>\n",
              "    .colab-df-container {\n",
              "      display:flex;\n",
              "      gap: 12px;\n",
              "    }\n",
              "\n",
              "    .colab-df-convert {\n",
              "      background-color: #E8F0FE;\n",
              "      border: none;\n",
              "      border-radius: 50%;\n",
              "      cursor: pointer;\n",
              "      display: none;\n",
              "      fill: #1967D2;\n",
              "      height: 32px;\n",
              "      padding: 0 0 0 0;\n",
              "      width: 32px;\n",
              "    }\n",
              "\n",
              "    .colab-df-convert:hover {\n",
              "      background-color: #E2EBFA;\n",
              "      box-shadow: 0px 1px 2px rgba(60, 64, 67, 0.3), 0px 1px 3px 1px rgba(60, 64, 67, 0.15);\n",
              "      fill: #174EA6;\n",
              "    }\n",
              "\n",
              "    .colab-df-buttons div {\n",
              "      margin-bottom: 4px;\n",
              "    }\n",
              "\n",
              "    [theme=dark] .colab-df-convert {\n",
              "      background-color: #3B4455;\n",
              "      fill: #D2E3FC;\n",
              "    }\n",
              "\n",
              "    [theme=dark] .colab-df-convert:hover {\n",
              "      background-color: #434B5C;\n",
              "      box-shadow: 0px 1px 3px 1px rgba(0, 0, 0, 0.15);\n",
              "      filter: drop-shadow(0px 1px 2px rgba(0, 0, 0, 0.3));\n",
              "      fill: #FFFFFF;\n",
              "    }\n",
              "  </style>\n",
              "\n",
              "    <script>\n",
              "      const buttonEl =\n",
              "        document.querySelector('#df-4a458a80-931d-4016-90e9-47b580af9407 button.colab-df-convert');\n",
              "      buttonEl.style.display =\n",
              "        google.colab.kernel.accessAllowed ? 'block' : 'none';\n",
              "\n",
              "      async function convertToInteractive(key) {\n",
              "        const element = document.querySelector('#df-4a458a80-931d-4016-90e9-47b580af9407');\n",
              "        const dataTable =\n",
              "          await google.colab.kernel.invokeFunction('convertToInteractive',\n",
              "                                                    [key], {});\n",
              "        if (!dataTable) return;\n",
              "\n",
              "        const docLinkHtml = 'Like what you see? Visit the ' +\n",
              "          '<a target=\"_blank\" href=https://colab.research.google.com/notebooks/data_table.ipynb>data table notebook</a>'\n",
              "          + ' to learn more about interactive tables.';\n",
              "        element.innerHTML = '';\n",
              "        dataTable['output_type'] = 'display_data';\n",
              "        await google.colab.output.renderOutput(dataTable, element);\n",
              "        const docLink = document.createElement('div');\n",
              "        docLink.innerHTML = docLinkHtml;\n",
              "        element.appendChild(docLink);\n",
              "      }\n",
              "    </script>\n",
              "  </div>\n",
              "\n",
              "\n",
              "<div id=\"df-454023cd-b7a6-4ec4-8941-85e1ba5e8a38\">\n",
              "  <button class=\"colab-df-quickchart\" onclick=\"quickchart('df-454023cd-b7a6-4ec4-8941-85e1ba5e8a38')\"\n",
              "            title=\"Suggest charts\"\n",
              "            style=\"display:none;\">\n",
              "\n",
              "<svg xmlns=\"http://www.w3.org/2000/svg\" height=\"24px\"viewBox=\"0 0 24 24\"\n",
              "     width=\"24px\">\n",
              "    <g>\n",
              "        <path d=\"M19 3H5c-1.1 0-2 .9-2 2v14c0 1.1.9 2 2 2h14c1.1 0 2-.9 2-2V5c0-1.1-.9-2-2-2zM9 17H7v-7h2v7zm4 0h-2V7h2v10zm4 0h-2v-4h2v4z\"/>\n",
              "    </g>\n",
              "</svg>\n",
              "  </button>\n",
              "\n",
              "<style>\n",
              "  .colab-df-quickchart {\n",
              "      --bg-color: #E8F0FE;\n",
              "      --fill-color: #1967D2;\n",
              "      --hover-bg-color: #E2EBFA;\n",
              "      --hover-fill-color: #174EA6;\n",
              "      --disabled-fill-color: #AAA;\n",
              "      --disabled-bg-color: #DDD;\n",
              "  }\n",
              "\n",
              "  [theme=dark] .colab-df-quickchart {\n",
              "      --bg-color: #3B4455;\n",
              "      --fill-color: #D2E3FC;\n",
              "      --hover-bg-color: #434B5C;\n",
              "      --hover-fill-color: #FFFFFF;\n",
              "      --disabled-bg-color: #3B4455;\n",
              "      --disabled-fill-color: #666;\n",
              "  }\n",
              "\n",
              "  .colab-df-quickchart {\n",
              "    background-color: var(--bg-color);\n",
              "    border: none;\n",
              "    border-radius: 50%;\n",
              "    cursor: pointer;\n",
              "    display: none;\n",
              "    fill: var(--fill-color);\n",
              "    height: 32px;\n",
              "    padding: 0;\n",
              "    width: 32px;\n",
              "  }\n",
              "\n",
              "  .colab-df-quickchart:hover {\n",
              "    background-color: var(--hover-bg-color);\n",
              "    box-shadow: 0 1px 2px rgba(60, 64, 67, 0.3), 0 1px 3px 1px rgba(60, 64, 67, 0.15);\n",
              "    fill: var(--button-hover-fill-color);\n",
              "  }\n",
              "\n",
              "  .colab-df-quickchart-complete:disabled,\n",
              "  .colab-df-quickchart-complete:disabled:hover {\n",
              "    background-color: var(--disabled-bg-color);\n",
              "    fill: var(--disabled-fill-color);\n",
              "    box-shadow: none;\n",
              "  }\n",
              "\n",
              "  .colab-df-spinner {\n",
              "    border: 2px solid var(--fill-color);\n",
              "    border-color: transparent;\n",
              "    border-bottom-color: var(--fill-color);\n",
              "    animation:\n",
              "      spin 1s steps(1) infinite;\n",
              "  }\n",
              "\n",
              "  @keyframes spin {\n",
              "    0% {\n",
              "      border-color: transparent;\n",
              "      border-bottom-color: var(--fill-color);\n",
              "      border-left-color: var(--fill-color);\n",
              "    }\n",
              "    20% {\n",
              "      border-color: transparent;\n",
              "      border-left-color: var(--fill-color);\n",
              "      border-top-color: var(--fill-color);\n",
              "    }\n",
              "    30% {\n",
              "      border-color: transparent;\n",
              "      border-left-color: var(--fill-color);\n",
              "      border-top-color: var(--fill-color);\n",
              "      border-right-color: var(--fill-color);\n",
              "    }\n",
              "    40% {\n",
              "      border-color: transparent;\n",
              "      border-right-color: var(--fill-color);\n",
              "      border-top-color: var(--fill-color);\n",
              "    }\n",
              "    60% {\n",
              "      border-color: transparent;\n",
              "      border-right-color: var(--fill-color);\n",
              "    }\n",
              "    80% {\n",
              "      border-color: transparent;\n",
              "      border-right-color: var(--fill-color);\n",
              "      border-bottom-color: var(--fill-color);\n",
              "    }\n",
              "    90% {\n",
              "      border-color: transparent;\n",
              "      border-bottom-color: var(--fill-color);\n",
              "    }\n",
              "  }\n",
              "</style>\n",
              "\n",
              "  <script>\n",
              "    async function quickchart(key) {\n",
              "      const quickchartButtonEl =\n",
              "        document.querySelector('#' + key + ' button');\n",
              "      quickchartButtonEl.disabled = true;  // To prevent multiple clicks.\n",
              "      quickchartButtonEl.classList.add('colab-df-spinner');\n",
              "      try {\n",
              "        const charts = await google.colab.kernel.invokeFunction(\n",
              "            'suggestCharts', [key], {});\n",
              "      } catch (error) {\n",
              "        console.error('Error during call to suggestCharts:', error);\n",
              "      }\n",
              "      quickchartButtonEl.classList.remove('colab-df-spinner');\n",
              "      quickchartButtonEl.classList.add('colab-df-quickchart-complete');\n",
              "    }\n",
              "    (() => {\n",
              "      let quickchartButtonEl =\n",
              "        document.querySelector('#df-454023cd-b7a6-4ec4-8941-85e1ba5e8a38 button');\n",
              "      quickchartButtonEl.style.display =\n",
              "        google.colab.kernel.accessAllowed ? 'block' : 'none';\n",
              "    })();\n",
              "  </script>\n",
              "</div>\n",
              "    </div>\n",
              "  </div>\n"
            ],
            "text/plain": [
              "                                       category_list funding_total_usd  \\\n",
              "0                                              Media          10000000   \n",
              "1  Application Platforms|Real Time|Social Network...            700000   \n",
              "2                                  Apps|Games|Mobile           3406878   \n",
              "3                                        Curated Web           2000000   \n",
              "4                                           Software                 -   \n",
              "5                                              Games             41250   \n",
              "6                                      Biotechnology            762851   \n",
              "7                                          Analytics          33600000   \n",
              "8                                             Mobile           1150050   \n",
              "9                                         E-Commerce             40000   \n",
              "\n",
              "      status country_code           city  funding_rounds  founded_at  \\\n",
              "0  operating          IND         Mumbai               1         NaN   \n",
              "1  operating          USA  Delaware City               2  2014-09-04   \n",
              "2  operating          NaN            NaN               1         NaN   \n",
              "3  operating          CHN        Beijing               1  2007-01-01   \n",
              "4  operating          USA      Champaign               1  2010-01-01   \n",
              "5  operating          HKG      Hong Kong               1         NaN   \n",
              "6  operating          CAN      Vancouver               2  1997-01-01   \n",
              "7  operating          USA  Mountain View               4  2011-01-01   \n",
              "8  operating          USA  San Francisco               3  2011-08-01   \n",
              "9  operating          CHL     Las Condes               1  2012-01-01   \n",
              "\n",
              "  first_funding_at last_funding_at  \n",
              "0       2015-01-05      2015-01-05  \n",
              "1       2014-03-01      2014-10-14  \n",
              "2       2014-01-30      2014-01-30  \n",
              "3       2008-03-19      2008-03-19  \n",
              "4       2014-07-24      2014-07-24  \n",
              "5       2014-07-01      2014-07-01  \n",
              "6       2009-09-11      2009-12-21  \n",
              "7       2013-01-03      2015-11-09  \n",
              "8       2011-07-20      2014-02-05  \n",
              "9       2013-02-18      2013-02-18  "
            ]
          },
          "execution_count": 7,
          "metadata": {},
          "output_type": "execute_result"
        }
      ],
      "source": [
        "df.drop(['region', 'state_code', 'permalink', 'homepage_url', 'name'], axis=1, inplace=True)\n",
        "\n",
        "df.head(10)"
      ]
    },
    {
      "cell_type": "markdown",
      "metadata": {
        "id": "1xfU_qizFDuK"
      },
      "source": [
        "## *Here we will check and rectify the values in the remaining columns that contain aberrant values or are of the wrong datatype.*\n",
        "If any of the rows contain values that are abberant, (I.E, dates like 1532-06-26) we will replace them with a null value to be removed from the dataset.\n",
        "We will also check whether the datatypes for the columns are correct, and make the necessary changes."
      ]
    },
    {
      "cell_type": "code",
      "execution_count": null,
      "metadata": {
        "colab": {
          "base_uri": "https://localhost:8080/"
        },
        "id": "0sFTvkXRFmN7",
        "outputId": "35f95639-604c-424f-e24f-b64be59c41a1"
      },
      "outputs": [
        {
          "name": "stdout",
          "output_type": "stream",
          "text": [
            "<class 'pandas.core.frame.DataFrame'>\n",
            "RangeIndex: 66368 entries, 0 to 66367\n",
            "Data columns (total 9 columns):\n",
            " #   Column             Non-Null Count  Dtype \n",
            "---  ------             --------------  ----- \n",
            " 0   category_list      63220 non-null  object\n",
            " 1   funding_total_usd  66368 non-null  object\n",
            " 2   status             66368 non-null  object\n",
            " 3   country_code       59410 non-null  object\n",
            " 4   city               58340 non-null  object\n",
            " 5   funding_rounds     66368 non-null  int64 \n",
            " 6   founded_at         51147 non-null  object\n",
            " 7   first_funding_at   66344 non-null  object\n",
            " 8   last_funding_at    66368 non-null  object\n",
            "dtypes: int64(1), object(8)\n",
            "memory usage: 4.6+ MB\n"
          ]
        }
      ],
      "source": [
        "# First we check what are the datatypes of the remaining columns.\n",
        "df.info()"
      ]
    },
    {
      "cell_type": "markdown",
      "metadata": {
        "id": "J-PlZBdNLW5t"
      },
      "source": [
        "Then we rectify the column datatypes."
      ]
    },
    {
      "cell_type": "markdown",
      "metadata": {
        "id": "9Polm-1n4SWp"
      },
      "source": [
        "## *Convert `founded_at`, `first_funding_at`, `last_funding_at` to datetime*\n",
        "We will also restrict the range of values that are to be included in the final dataset to be within the ranges of '1980-01-01' to '2023-01-01'\n"
      ]
    },
    {
      "cell_type": "code",
      "execution_count": null,
      "metadata": {
        "colab": {
          "base_uri": "https://localhost:8080/"
        },
        "id": "79xiZ2LP4yqb",
        "outputId": "e76d0df1-75c1-40d6-e226-d0c5240c06fd"
      },
      "outputs": [
        {
          "name": "stdout",
          "output_type": "stream",
          "text": [
            "<class 'pandas.core.frame.DataFrame'>\n",
            "RangeIndex: 66368 entries, 0 to 66367\n",
            "Data columns (total 9 columns):\n",
            " #   Column             Non-Null Count  Dtype         \n",
            "---  ------             --------------  -----         \n",
            " 0   category_list      63220 non-null  object        \n",
            " 1   funding_total_usd  66368 non-null  object        \n",
            " 2   status             66368 non-null  object        \n",
            " 3   country_code       59410 non-null  object        \n",
            " 4   city               58340 non-null  object        \n",
            " 5   funding_rounds     66368 non-null  int64         \n",
            " 6   founded_at         50519 non-null  datetime64[ns]\n",
            " 7   first_funding_at   66336 non-null  datetime64[ns]\n",
            " 8   last_funding_at    66362 non-null  datetime64[ns]\n",
            "dtypes: datetime64[ns](3), int64(1), object(5)\n",
            "memory usage: 4.6+ MB\n",
            "None\n"
          ]
        }
      ],
      "source": [
        "# Convert the columns to datetime with errors='coerce'\n",
        "df['founded_at'] = pd.to_datetime(df['founded_at'], errors='coerce')\n",
        "df['first_funding_at'] = pd.to_datetime(df['first_funding_at'], errors='coerce')\n",
        "df['last_funding_at'] = pd.to_datetime(df['last_funding_at'], errors='coerce')\n",
        "\n",
        "# Set a legitimate range of dates. If there are rows with dates that fall outside of these ranges, we will replace them with NaT to be removed later.\n",
        "min_date = pd.Timestamp('1980-01-01')\n",
        "max_date = pd.Timestamp('2023-01-01')\n",
        "\n",
        "# List of columns to be filtered\n",
        "date_columns = ['founded_at', 'first_funding_at', 'last_funding_at']\n",
        "\n",
        "# Use a for loop to filter dates outside of the range for each column\n",
        "for col in date_columns:\n",
        "    df.loc[(df[col] < min_date) | (df[col] > max_date), col] = pd.NaT\n",
        "\n",
        "print(df.info())\n"
      ]
    },
    {
      "cell_type": "markdown",
      "metadata": {
        "id": "LsmxvIJKkjSr"
      },
      "source": [
        "## *Convert funding_total_usd to float*"
      ]
    },
    {
      "cell_type": "code",
      "execution_count": null,
      "metadata": {
        "colab": {
          "base_uri": "https://localhost:8080/"
        },
        "id": "q7uMUZOmkwGN",
        "outputId": "9d4e0b08-6b1b-494b-a699-e6056924c0ab"
      },
      "outputs": [
        {
          "name": "stdout",
          "output_type": "stream",
          "text": [
            "<class 'pandas.core.frame.DataFrame'>\n",
            "RangeIndex: 66368 entries, 0 to 66367\n",
            "Data columns (total 9 columns):\n",
            " #   Column             Non-Null Count  Dtype         \n",
            "---  ------             --------------  -----         \n",
            " 0   category_list      63220 non-null  object        \n",
            " 1   funding_total_usd  53583 non-null  float64       \n",
            " 2   status             66368 non-null  object        \n",
            " 3   country_code       59410 non-null  object        \n",
            " 4   city               58340 non-null  object        \n",
            " 5   funding_rounds     66368 non-null  int64         \n",
            " 6   founded_at         50519 non-null  datetime64[ns]\n",
            " 7   first_funding_at   66336 non-null  datetime64[ns]\n",
            " 8   last_funding_at    66362 non-null  datetime64[ns]\n",
            "dtypes: datetime64[ns](3), float64(1), int64(1), object(4)\n",
            "memory usage: 4.6+ MB\n"
          ]
        }
      ],
      "source": [
        "df['funding_total_usd'] = pd.to_numeric(df['funding_total_usd'], errors='coerce')\n",
        "df.info()"
      ]
    },
    {
      "cell_type": "markdown",
      "metadata": {
        "id": "RnB1BynkUCPO"
      },
      "source": []
    },
    {
      "cell_type": "markdown",
      "metadata": {
        "id": "ots3k3iZpf2H"
      },
      "source": [
        "## *Handling values that are missing*\n",
        "\n",
        "We have noticed that there are some rows with '-'. We will replace these values with an np.nan object."
      ]
    },
    {
      "cell_type": "code",
      "execution_count": null,
      "metadata": {
        "id": "xrWWBccWThK0"
      },
      "outputs": [],
      "source": [
        "# Replace data that have '-' with np.nan\n",
        "for col in df.columns:\n",
        "    df[col] = df[col].replace('-',np.nan)"
      ]
    },
    {
      "cell_type": "markdown",
      "metadata": {
        "id": "NOXag0NeZSWI"
      },
      "source": [
        "Here we will keep track of the data that will be removed to ensure that the remaining data left after the removal of rows that have null values is still a valid representation of the original data."
      ]
    },
    {
      "cell_type": "code",
      "execution_count": null,
      "metadata": {
        "colab": {
          "base_uri": "https://localhost:8080/",
          "height": 678
        },
        "id": "gLktmN-3xtG9",
        "outputId": "232a0908-4dd3-4d67-e818-203142cfe416"
      },
      "outputs": [
        {
          "name": "stdout",
          "output_type": "stream",
          "text": [
            "We would remove 35.62% of the ipo observations before\n",
            "We would remove 34.17% of the acquired observations before\n",
            "We would remove 57.84% of the closed observations before\n",
            "We would remove 41.91% of the operating observations before\n"
          ]
        },
        {
          "data": {
            "image/png": "[encoded data removed]",
            "text/plain": [
              "<Figure size 1000x600 with 1 Axes>"
            ]
          },
          "metadata": {},
          "output_type": "display_data"
        }
      ],
      "source": [
        "# List of unique statuses\n",
        "statuses = ['ipo', 'acquired', 'closed', 'operating']\n",
        "\n",
        "# Initialize dictionaries to store counts, percentages before and after cleaning, and the lost percentages\n",
        "counts_before = {}\n",
        "counts_after = {}\n",
        "percentages_before = {}\n",
        "percentages_after = {}\n",
        "percentage_lost = {}\n",
        "\n",
        "# Remove rows with null values\n",
        "df_cleaned = df.dropna(axis=0, how='any')\n",
        "\n",
        "# Calculate counts, percentages, and lost percentages for each status\n",
        "for status in statuses:\n",
        "    counts_before[status] = df[df['status'] == status].shape[0]\n",
        "    counts_after[status] = df_cleaned[df_cleaned['status'] == status].shape[0]\n",
        "    percentages_before[status] = counts_before[status] / df.shape[0]\n",
        "    percentages_after[status] = counts_after[status] / df_cleaned.shape[0]\n",
        "    percentage_lost[status] = (counts_before[status] - counts_after[status]) / counts_before[status]\n",
        "\n",
        "# Calculate the percentage differences\n",
        "percentage_differences = [(percentages_after[status] - percentages_before[status]) * 100 for status in statuses]\n",
        "\n",
        "# Print the percentage of observations removed for each status\n",
        "for status in statuses:\n",
        "    print(f\"We would remove {percentage_lost[status] * 100:.2f}% of the {status} observations before\")\n",
        "\n",
        "# Plot the percentage differences\n",
        "plt.figure(figsize=(10, 6))\n",
        "plt.bar([status.capitalize() for status in statuses], percentage_differences, color=['blue', 'yellow', 'orange', 'green'])\n",
        "plt.title('Percentage Difference of Status After Data Cleaning')\n",
        "plt.xlabel('Status')\n",
        "plt.ylabel('Percentage Difference (%)')\n",
        "plt.grid(axis='y', linestyle='--', alpha=0.7)\n",
        "plt.tight_layout()\n",
        "plt.show()\n"
      ]
    },
    {
      "cell_type": "markdown",
      "metadata": {
        "id": "K3v8KZILjEJq"
      },
      "source": [
        "We can observe that\n",
        "*   We would remove 35.62% of the <u>**ipo observations**</u> before\n",
        "*   We would remove 34.17% of the <u>**acquired observations**</u> before\n",
        "*   We would remove 57.84% of the <u>**closed observations**</u> before\n",
        "*   We would remove 41.91% of the <u>**operating observations**</u> before\n",
        "\n",
        "\n",
        "We also observe the difference in percentage of each status over the <u>**total number of observations**</u> before and after is plotted.\n",
        "\n",
        "We can see that after the removal of data:\n",
        "*   The 'IPO' category saw less than 0.5% increase in its percentage.\n",
        "*   The 'Acquired' category saw slightly more than a 1% increase in its percentage.\n",
        "*   The 'Closed' category saw 2.5% decrease in its percentage.\n",
        "*   The 'Operating' category saw a 1% increase in its percentage.\n",
        "\n",
        "Since the percentages of each status over the total observations before after did not vary by much, (less than 3%) it is acceptable to continue forward with the cleaned dataset.\n",
        "\n"
      ]
    },
    {
      "cell_type": "markdown",
      "metadata": {
        "id": "9-6FzZiUqBiq"
      },
      "source": [
        "## *Transform `category_list` variable into `main_category`*\n",
        "\n",
        "\n"
      ]
    },
    {
      "cell_type": "code",
      "execution_count": null,
      "metadata": {
        "colab": {
          "base_uri": "https://localhost:8080/",
          "height": 403
        },
        "id": "hFDecICMqIpM",
        "outputId": "4e08aa36-d7fa-4c23-b7d9-9d6b78877dc4"
      },
      "outputs": [
        {
          "name": "stderr",
          "output_type": "stream",
          "text": [
            "<ipython-input-13-fc2102f146e7>:1: SettingWithCopyWarning: \n",
            "A value is trying to be set on a copy of a slice from a DataFrame.\n",
            "Try using .loc[row_indexer,col_indexer] = value instead\n",
            "\n",
            "See the caveats in the documentation: https://pandas.pydata.org/pandas-docs/stable/user_guide/indexing.html#returning-a-view-versus-a-copy\n",
            "  df_cleaned['main_category'] = df_cleaned['category_list'].str.split('|').str[0]\n",
            "<ipython-input-13-fc2102f146e7>:2: SettingWithCopyWarning: \n",
            "A value is trying to be set on a copy of a slice from a DataFrame\n",
            "\n",
            "See the caveats in the documentation: https://pandas.pydata.org/pandas-docs/stable/user_guide/indexing.html#returning-a-view-versus-a-copy\n",
            "  df_cleaned.drop(columns=['category_list'], axis=1, inplace=True)\n"
          ]
        },
        {
          "data": {
            "text/html": [
              "\n",
              "  <div id=\"df-c3c8df39-b768-4bc8-acbc-7554acc97219\" class=\"colab-df-container\">\n",
              "    <div>\n",
              "<style scoped>\n",
              "    .dataframe tbody tr th:only-of-type {\n",
              "        vertical-align: middle;\n",
              "    }\n",
              "\n",
              "    .dataframe tbody tr th {\n",
              "        vertical-align: top;\n",
              "    }\n",
              "\n",
              "    .dataframe thead th {\n",
              "        text-align: right;\n",
              "    }\n",
              "</style>\n",
              "<table border=\"1\" class=\"dataframe\">\n",
              "  <thead>\n",
              "    <tr style=\"text-align: right;\">\n",
              "      <th></th>\n",
              "      <th>funding_total_usd</th>\n",
              "      <th>status</th>\n",
              "      <th>country_code</th>\n",
              "      <th>city</th>\n",
              "      <th>funding_rounds</th>\n",
              "      <th>founded_at</th>\n",
              "      <th>first_funding_at</th>\n",
              "      <th>last_funding_at</th>\n",
              "      <th>main_category</th>\n",
              "    </tr>\n",
              "  </thead>\n",
              "  <tbody>\n",
              "    <tr>\n",
              "      <th>1</th>\n",
              "      <td>700000.0</td>\n",
              "      <td>operating</td>\n",
              "      <td>USA</td>\n",
              "      <td>Delaware City</td>\n",
              "      <td>2</td>\n",
              "      <td>2014-09-04</td>\n",
              "      <td>2014-03-01</td>\n",
              "      <td>2014-10-14</td>\n",
              "      <td>Application Platforms</td>\n",
              "    </tr>\n",
              "    <tr>\n",
              "      <th>3</th>\n",
              "      <td>2000000.0</td>\n",
              "      <td>operating</td>\n",
              "      <td>CHN</td>\n",
              "      <td>Beijing</td>\n",
              "      <td>1</td>\n",
              "      <td>2007-01-01</td>\n",
              "      <td>2008-03-19</td>\n",
              "      <td>2008-03-19</td>\n",
              "      <td>Curated Web</td>\n",
              "    </tr>\n",
              "    <tr>\n",
              "      <th>6</th>\n",
              "      <td>762851.0</td>\n",
              "      <td>operating</td>\n",
              "      <td>CAN</td>\n",
              "      <td>Vancouver</td>\n",
              "      <td>2</td>\n",
              "      <td>1997-01-01</td>\n",
              "      <td>2009-09-11</td>\n",
              "      <td>2009-12-21</td>\n",
              "      <td>Biotechnology</td>\n",
              "    </tr>\n",
              "    <tr>\n",
              "      <th>7</th>\n",
              "      <td>33600000.0</td>\n",
              "      <td>operating</td>\n",
              "      <td>USA</td>\n",
              "      <td>Mountain View</td>\n",
              "      <td>4</td>\n",
              "      <td>2011-01-01</td>\n",
              "      <td>2013-01-03</td>\n",
              "      <td>2015-11-09</td>\n",
              "      <td>Analytics</td>\n",
              "    </tr>\n",
              "    <tr>\n",
              "      <th>8</th>\n",
              "      <td>1150050.0</td>\n",
              "      <td>operating</td>\n",
              "      <td>USA</td>\n",
              "      <td>San Francisco</td>\n",
              "      <td>3</td>\n",
              "      <td>2011-08-01</td>\n",
              "      <td>2011-07-20</td>\n",
              "      <td>2014-02-05</td>\n",
              "      <td>Mobile</td>\n",
              "    </tr>\n",
              "  </tbody>\n",
              "</table>\n",
              "</div>\n",
              "    <div class=\"colab-df-buttons\">\n",
              "\n",
              "  <div class=\"colab-df-container\">\n",
              "    <button class=\"colab-df-convert\" onclick=\"convertToInteractive('df-c3c8df39-b768-4bc8-acbc-7554acc97219')\"\n",
              "            title=\"Convert this dataframe to an interactive table.\"\n",
              "            style=\"display:none;\">\n",
              "\n",
              "  <svg xmlns=\"http://www.w3.org/2000/svg\" height=\"24px\" viewBox=\"0 -960 960 960\">\n",
              "    <path d=\"M120-120v-720h720v720H120Zm60-500h600v-160H180v160Zm220 220h160v-160H400v160Zm0 220h160v-160H400v160ZM180-400h160v-160H180v160Zm440 0h160v-160H620v160ZM180-180h160v-160H180v160Zm440 0h160v-160H620v160Z\"/>\n",
              "  </svg>\n",
              "    </button>\n",
              "\n",
              "  <style>\n",
              "    .colab-df-container {\n",
              "      display:flex;\n",
              "      gap: 12px;\n",
              "    }\n",
              "\n",
              "    .colab-df-convert {\n",
              "      background-color: #E8F0FE;\n",
              "      border: none;\n",
              "      border-radius: 50%;\n",
              "      cursor: pointer;\n",
              "      display: none;\n",
              "      fill: #1967D2;\n",
              "      height: 32px;\n",
              "      padding: 0 0 0 0;\n",
              "      width: 32px;\n",
              "    }\n",
              "\n",
              "    .colab-df-convert:hover {\n",
              "      background-color: #E2EBFA;\n",
              "      box-shadow: 0px 1px 2px rgba(60, 64, 67, 0.3), 0px 1px 3px 1px rgba(60, 64, 67, 0.15);\n",
              "      fill: #174EA6;\n",
              "    }\n",
              "\n",
              "    .colab-df-buttons div {\n",
              "      margin-bottom: 4px;\n",
              "    }\n",
              "\n",
              "    [theme=dark] .colab-df-convert {\n",
              "      background-color: #3B4455;\n",
              "      fill: #D2E3FC;\n",
              "    }\n",
              "\n",
              "    [theme=dark] .colab-df-convert:hover {\n",
              "      background-color: #434B5C;\n",
              "      box-shadow: 0px 1px 3px 1px rgba(0, 0, 0, 0.15);\n",
              "      filter: drop-shadow(0px 1px 2px rgba(0, 0, 0, 0.3));\n",
              "      fill: #FFFFFF;\n",
              "    }\n",
              "  </style>\n",
              "\n",
              "    <script>\n",
              "      const buttonEl =\n",
              "        document.querySelector('#df-c3c8df39-b768-4bc8-acbc-7554acc97219 button.colab-df-convert');\n",
              "      buttonEl.style.display =\n",
              "        google.colab.kernel.accessAllowed ? 'block' : 'none';\n",
              "\n",
              "      async function convertToInteractive(key) {\n",
              "        const element = document.querySelector('#df-c3c8df39-b768-4bc8-acbc-7554acc97219');\n",
              "        const dataTable =\n",
              "          await google.colab.kernel.invokeFunction('convertToInteractive',\n",
              "                                                    [key], {});\n",
              "        if (!dataTable) return;\n",
              "\n",
              "        const docLinkHtml = 'Like what you see? Visit the ' +\n",
              "          '<a target=\"_blank\" href=https://colab.research.google.com/notebooks/data_table.ipynb>data table notebook</a>'\n",
              "          + ' to learn more about interactive tables.';\n",
              "        element.innerHTML = '';\n",
              "        dataTable['output_type'] = 'display_data';\n",
              "        await google.colab.output.renderOutput(dataTable, element);\n",
              "        const docLink = document.createElement('div');\n",
              "        docLink.innerHTML = docLinkHtml;\n",
              "        element.appendChild(docLink);\n",
              "      }\n",
              "    </script>\n",
              "  </div>\n",
              "\n",
              "\n",
              "<div id=\"df-41ace58f-3fd9-4e59-b5de-c8613a8449b6\">\n",
              "  <button class=\"colab-df-quickchart\" onclick=\"quickchart('df-41ace58f-3fd9-4e59-b5de-c8613a8449b6')\"\n",
              "            title=\"Suggest charts\"\n",
              "            style=\"display:none;\">\n",
              "\n",
              "<svg xmlns=\"http://www.w3.org/2000/svg\" height=\"24px\"viewBox=\"0 0 24 24\"\n",
              "     width=\"24px\">\n",
              "    <g>\n",
              "        <path d=\"M19 3H5c-1.1 0-2 .9-2 2v14c0 1.1.9 2 2 2h14c1.1 0 2-.9 2-2V5c0-1.1-.9-2-2-2zM9 17H7v-7h2v7zm4 0h-2V7h2v10zm4 0h-2v-4h2v4z\"/>\n",
              "    </g>\n",
              "</svg>\n",
              "  </button>\n",
              "\n",
              "<style>\n",
              "  .colab-df-quickchart {\n",
              "      --bg-color: #E8F0FE;\n",
              "      --fill-color: #1967D2;\n",
              "      --hover-bg-color: #E2EBFA;\n",
              "      --hover-fill-color: #174EA6;\n",
              "      --disabled-fill-color: #AAA;\n",
              "      --disabled-bg-color: #DDD;\n",
              "  }\n",
              "\n",
              "  [theme=dark] .colab-df-quickchart {\n",
              "      --bg-color: #3B4455;\n",
              "      --fill-color: #D2E3FC;\n",
              "      --hover-bg-color: #434B5C;\n",
              "      --hover-fill-color: #FFFFFF;\n",
              "      --disabled-bg-color: #3B4455;\n",
              "      --disabled-fill-color: #666;\n",
              "  }\n",
              "\n",
              "  .colab-df-quickchart {\n",
              "    background-color: var(--bg-color);\n",
              "    border: none;\n",
              "    border-radius: 50%;\n",
              "    cursor: pointer;\n",
              "    display: none;\n",
              "    fill: var(--fill-color);\n",
              "    height: 32px;\n",
              "    padding: 0;\n",
              "    width: 32px;\n",
              "  }\n",
              "\n",
              "  .colab-df-quickchart:hover {\n",
              "    background-color: var(--hover-bg-color);\n",
              "    box-shadow: 0 1px 2px rgba(60, 64, 67, 0.3), 0 1px 3px 1px rgba(60, 64, 67, 0.15);\n",
              "    fill: var(--button-hover-fill-color);\n",
              "  }\n",
              "\n",
              "  .colab-df-quickchart-complete:disabled,\n",
              "  .colab-df-quickchart-complete:disabled:hover {\n",
              "    background-color: var(--disabled-bg-color);\n",
              "    fill: var(--disabled-fill-color);\n",
              "    box-shadow: none;\n",
              "  }\n",
              "\n",
              "  .colab-df-spinner {\n",
              "    border: 2px solid var(--fill-color);\n",
              "    border-color: transparent;\n",
              "    border-bottom-color: var(--fill-color);\n",
              "    animation:\n",
              "      spin 1s steps(1) infinite;\n",
              "  }\n",
              "\n",
              "  @keyframes spin {\n",
              "    0% {\n",
              "      border-color: transparent;\n",
              "      border-bottom-color: var(--fill-color);\n",
              "      border-left-color: var(--fill-color);\n",
              "    }\n",
              "    20% {\n",
              "      border-color: transparent;\n",
              "      border-left-color: var(--fill-color);\n",
              "      border-top-color: var(--fill-color);\n",
              "    }\n",
              "    30% {\n",
              "      border-color: transparent;\n",
              "      border-left-color: var(--fill-color);\n",
              "      border-top-color: var(--fill-color);\n",
              "      border-right-color: var(--fill-color);\n",
              "    }\n",
              "    40% {\n",
              "      border-color: transparent;\n",
              "      border-right-color: var(--fill-color);\n",
              "      border-top-color: var(--fill-color);\n",
              "    }\n",
              "    60% {\n",
              "      border-color: transparent;\n",
              "      border-right-color: var(--fill-color);\n",
              "    }\n",
              "    80% {\n",
              "      border-color: transparent;\n",
              "      border-right-color: var(--fill-color);\n",
              "      border-bottom-color: var(--fill-color);\n",
              "    }\n",
              "    90% {\n",
              "      border-color: transparent;\n",
              "      border-bottom-color: var(--fill-color);\n",
              "    }\n",
              "  }\n",
              "</style>\n",
              "\n",
              "  <script>\n",
              "    async function quickchart(key) {\n",
              "      const quickchartButtonEl =\n",
              "        document.querySelector('#' + key + ' button');\n",
              "      quickchartButtonEl.disabled = true;  // To prevent multiple clicks.\n",
              "      quickchartButtonEl.classList.add('colab-df-spinner');\n",
              "      try {\n",
              "        const charts = await google.colab.kernel.invokeFunction(\n",
              "            'suggestCharts', [key], {});\n",
              "      } catch (error) {\n",
              "        console.error('Error during call to suggestCharts:', error);\n",
              "      }\n",
              "      quickchartButtonEl.classList.remove('colab-df-spinner');\n",
              "      quickchartButtonEl.classList.add('colab-df-quickchart-complete');\n",
              "    }\n",
              "    (() => {\n",
              "      let quickchartButtonEl =\n",
              "        document.querySelector('#df-41ace58f-3fd9-4e59-b5de-c8613a8449b6 button');\n",
              "      quickchartButtonEl.style.display =\n",
              "        google.colab.kernel.accessAllowed ? 'block' : 'none';\n",
              "    })();\n",
              "  </script>\n",
              "</div>\n",
              "    </div>\n",
              "  </div>\n"
            ],
            "text/plain": [
              "   funding_total_usd     status country_code           city  funding_rounds  \\\n",
              "1           700000.0  operating          USA  Delaware City               2   \n",
              "3          2000000.0  operating          CHN        Beijing               1   \n",
              "6           762851.0  operating          CAN      Vancouver               2   \n",
              "7         33600000.0  operating          USA  Mountain View               4   \n",
              "8          1150050.0  operating          USA  San Francisco               3   \n",
              "\n",
              "  founded_at first_funding_at last_funding_at          main_category  \n",
              "1 2014-09-04       2014-03-01      2014-10-14  Application Platforms  \n",
              "3 2007-01-01       2008-03-19      2008-03-19            Curated Web  \n",
              "6 1997-01-01       2009-09-11      2009-12-21          Biotechnology  \n",
              "7 2011-01-01       2013-01-03      2015-11-09              Analytics  \n",
              "8 2011-08-01       2011-07-20      2014-02-05                 Mobile  "
            ]
          },
          "execution_count": 13,
          "metadata": {},
          "output_type": "execute_result"
        }
      ],
      "source": [
        "df_cleaned['main_category'] = df_cleaned['category_list'].str.split('|').str[0]\n",
        "df_cleaned.drop(columns=['category_list'], axis=1, inplace=True)\n",
        "\n",
        "df_cleaned.head()"
      ]
    },
    {
      "cell_type": "markdown",
      "metadata": {
        "id": "N4OGpoKa27BB"
      },
      "source": [
        "## *Apply label encoding to `main_category`*"
      ]
    },
    {
      "cell_type": "code",
      "execution_count": null,
      "metadata": {
        "colab": {
          "base_uri": "https://localhost:8080/",
          "height": 313
        },
        "id": "mKsBi92g26sL",
        "outputId": "c74528b4-0bbb-4475-dedf-5c56acabea88"
      },
      "outputs": [
        {
          "name": "stderr",
          "output_type": "stream",
          "text": [
            "<ipython-input-14-c6bfd19655cb>:3: SettingWithCopyWarning: \n",
            "A value is trying to be set on a copy of a slice from a DataFrame.\n",
            "Try using .loc[row_indexer,col_indexer] = value instead\n",
            "\n",
            "See the caveats in the documentation: https://pandas.pydata.org/pandas-docs/stable/user_guide/indexing.html#returning-a-view-versus-a-copy\n",
            "  df_cleaned['main_category'] = label_encoder.fit_transform(df_cleaned['main_category'])\n"
          ]
        },
        {
          "data": {
            "text/html": [
              "\n",
              "  <div id=\"df-83d63830-6a1c-4874-a8bf-40220f5d20d5\" class=\"colab-df-container\">\n",
              "    <div>\n",
              "<style scoped>\n",
              "    .dataframe tbody tr th:only-of-type {\n",
              "        vertical-align: middle;\n",
              "    }\n",
              "\n",
              "    .dataframe tbody tr th {\n",
              "        vertical-align: top;\n",
              "    }\n",
              "\n",
              "    .dataframe thead th {\n",
              "        text-align: right;\n",
              "    }\n",
              "</style>\n",
              "<table border=\"1\" class=\"dataframe\">\n",
              "  <thead>\n",
              "    <tr style=\"text-align: right;\">\n",
              "      <th></th>\n",
              "      <th>funding_total_usd</th>\n",
              "      <th>status</th>\n",
              "      <th>country_code</th>\n",
              "      <th>city</th>\n",
              "      <th>funding_rounds</th>\n",
              "      <th>founded_at</th>\n",
              "      <th>first_funding_at</th>\n",
              "      <th>last_funding_at</th>\n",
              "      <th>main_category</th>\n",
              "    </tr>\n",
              "  </thead>\n",
              "  <tbody>\n",
              "    <tr>\n",
              "      <th>1</th>\n",
              "      <td>700000.0</td>\n",
              "      <td>operating</td>\n",
              "      <td>USA</td>\n",
              "      <td>Delaware City</td>\n",
              "      <td>2</td>\n",
              "      <td>2014-09-04</td>\n",
              "      <td>2014-03-01</td>\n",
              "      <td>2014-10-14</td>\n",
              "      <td>31</td>\n",
              "    </tr>\n",
              "    <tr>\n",
              "      <th>3</th>\n",
              "      <td>2000000.0</td>\n",
              "      <td>operating</td>\n",
              "      <td>CHN</td>\n",
              "      <td>Beijing</td>\n",
              "      <td>1</td>\n",
              "      <td>2007-01-01</td>\n",
              "      <td>2008-03-19</td>\n",
              "      <td>2008-03-19</td>\n",
              "      <td>170</td>\n",
              "    </tr>\n",
              "    <tr>\n",
              "      <th>6</th>\n",
              "      <td>762851.0</td>\n",
              "      <td>operating</td>\n",
              "      <td>CAN</td>\n",
              "      <td>Vancouver</td>\n",
              "      <td>2</td>\n",
              "      <td>1997-01-01</td>\n",
              "      <td>2009-09-11</td>\n",
              "      <td>2009-12-21</td>\n",
              "      <td>67</td>\n",
              "    </tr>\n",
              "    <tr>\n",
              "      <th>7</th>\n",
              "      <td>33600000.0</td>\n",
              "      <td>operating</td>\n",
              "      <td>USA</td>\n",
              "      <td>Mountain View</td>\n",
              "      <td>4</td>\n",
              "      <td>2011-01-01</td>\n",
              "      <td>2013-01-03</td>\n",
              "      <td>2015-11-09</td>\n",
              "      <td>22</td>\n",
              "    </tr>\n",
              "    <tr>\n",
              "      <th>8</th>\n",
              "      <td>1150050.0</td>\n",
              "      <td>operating</td>\n",
              "      <td>USA</td>\n",
              "      <td>San Francisco</td>\n",
              "      <td>3</td>\n",
              "      <td>2011-08-01</td>\n",
              "      <td>2011-07-20</td>\n",
              "      <td>2014-02-05</td>\n",
              "      <td>444</td>\n",
              "    </tr>\n",
              "  </tbody>\n",
              "</table>\n",
              "</div>\n",
              "    <div class=\"colab-df-buttons\">\n",
              "\n",
              "  <div class=\"colab-df-container\">\n",
              "    <button class=\"colab-df-convert\" onclick=\"convertToInteractive('df-83d63830-6a1c-4874-a8bf-40220f5d20d5')\"\n",
              "            title=\"Convert this dataframe to an interactive table.\"\n",
              "            style=\"display:none;\">\n",
              "\n",
              "  <svg xmlns=\"http://www.w3.org/2000/svg\" height=\"24px\" viewBox=\"0 -960 960 960\">\n",
              "    <path d=\"M120-120v-720h720v720H120Zm60-500h600v-160H180v160Zm220 220h160v-160H400v160Zm0 220h160v-160H400v160ZM180-400h160v-160H180v160Zm440 0h160v-160H620v160ZM180-180h160v-160H180v160Zm440 0h160v-160H620v160Z\"/>\n",
              "  </svg>\n",
              "    </button>\n",
              "\n",
              "  <style>\n",
              "    .colab-df-container {\n",
              "      display:flex;\n",
              "      gap: 12px;\n",
              "    }\n",
              "\n",
              "    .colab-df-convert {\n",
              "      background-color: #E8F0FE;\n",
              "      border: none;\n",
              "      border-radius: 50%;\n",
              "      cursor: pointer;\n",
              "      display: none;\n",
              "      fill: #1967D2;\n",
              "      height: 32px;\n",
              "      padding: 0 0 0 0;\n",
              "      width: 32px;\n",
              "    }\n",
              "\n",
              "    .colab-df-convert:hover {\n",
              "      background-color: #E2EBFA;\n",
              "      box-shadow: 0px 1px 2px rgba(60, 64, 67, 0.3), 0px 1px 3px 1px rgba(60, 64, 67, 0.15);\n",
              "      fill: #174EA6;\n",
              "    }\n",
              "\n",
              "    .colab-df-buttons div {\n",
              "      margin-bottom: 4px;\n",
              "    }\n",
              "\n",
              "    [theme=dark] .colab-df-convert {\n",
              "      background-color: #3B4455;\n",
              "      fill: #D2E3FC;\n",
              "    }\n",
              "\n",
              "    [theme=dark] .colab-df-convert:hover {\n",
              "      background-color: #434B5C;\n",
              "      box-shadow: 0px 1px 3px 1px rgba(0, 0, 0, 0.15);\n",
              "      filter: drop-shadow(0px 1px 2px rgba(0, 0, 0, 0.3));\n",
              "      fill: #FFFFFF;\n",
              "    }\n",
              "  </style>\n",
              "\n",
              "    <script>\n",
              "      const buttonEl =\n",
              "        document.querySelector('#df-83d63830-6a1c-4874-a8bf-40220f5d20d5 button.colab-df-convert');\n",
              "      buttonEl.style.display =\n",
              "        google.colab.kernel.accessAllowed ? 'block' : 'none';\n",
              "\n",
              "      async function convertToInteractive(key) {\n",
              "        const element = document.querySelector('#df-83d63830-6a1c-4874-a8bf-40220f5d20d5');\n",
              "        const dataTable =\n",
              "          await google.colab.kernel.invokeFunction('convertToInteractive',\n",
              "                                                    [key], {});\n",
              "        if (!dataTable) return;\n",
              "\n",
              "        const docLinkHtml = 'Like what you see? Visit the ' +\n",
              "          '<a target=\"_blank\" href=https://colab.research.google.com/notebooks/data_table.ipynb>data table notebook</a>'\n",
              "          + ' to learn more about interactive tables.';\n",
              "        element.innerHTML = '';\n",
              "        dataTable['output_type'] = 'display_data';\n",
              "        await google.colab.output.renderOutput(dataTable, element);\n",
              "        const docLink = document.createElement('div');\n",
              "        docLink.innerHTML = docLinkHtml;\n",
              "        element.appendChild(docLink);\n",
              "      }\n",
              "    </script>\n",
              "  </div>\n",
              "\n",
              "\n",
              "<div id=\"df-0ff529f7-c79e-4774-81da-2f19c0b8c8b1\">\n",
              "  <button class=\"colab-df-quickchart\" onclick=\"quickchart('df-0ff529f7-c79e-4774-81da-2f19c0b8c8b1')\"\n",
              "            title=\"Suggest charts\"\n",
              "            style=\"display:none;\">\n",
              "\n",
              "<svg xmlns=\"http://www.w3.org/2000/svg\" height=\"24px\"viewBox=\"0 0 24 24\"\n",
              "     width=\"24px\">\n",
              "    <g>\n",
              "        <path d=\"M19 3H5c-1.1 0-2 .9-2 2v14c0 1.1.9 2 2 2h14c1.1 0 2-.9 2-2V5c0-1.1-.9-2-2-2zM9 17H7v-7h2v7zm4 0h-2V7h2v10zm4 0h-2v-4h2v4z\"/>\n",
              "    </g>\n",
              "</svg>\n",
              "  </button>\n",
              "\n",
              "<style>\n",
              "  .colab-df-quickchart {\n",
              "      --bg-color: #E8F0FE;\n",
              "      --fill-color: #1967D2;\n",
              "      --hover-bg-color: #E2EBFA;\n",
              "      --hover-fill-color: #174EA6;\n",
              "      --disabled-fill-color: #AAA;\n",
              "      --disabled-bg-color: #DDD;\n",
              "  }\n",
              "\n",
              "  [theme=dark] .colab-df-quickchart {\n",
              "      --bg-color: #3B4455;\n",
              "      --fill-color: #D2E3FC;\n",
              "      --hover-bg-color: #434B5C;\n",
              "      --hover-fill-color: #FFFFFF;\n",
              "      --disabled-bg-color: #3B4455;\n",
              "      --disabled-fill-color: #666;\n",
              "  }\n",
              "\n",
              "  .colab-df-quickchart {\n",
              "    background-color: var(--bg-color);\n",
              "    border: none;\n",
              "    border-radius: 50%;\n",
              "    cursor: pointer;\n",
              "    display: none;\n",
              "    fill: var(--fill-color);\n",
              "    height: 32px;\n",
              "    padding: 0;\n",
              "    width: 32px;\n",
              "  }\n",
              "\n",
              "  .colab-df-quickchart:hover {\n",
              "    background-color: var(--hover-bg-color);\n",
              "    box-shadow: 0 1px 2px rgba(60, 64, 67, 0.3), 0 1px 3px 1px rgba(60, 64, 67, 0.15);\n",
              "    fill: var(--button-hover-fill-color);\n",
              "  }\n",
              "\n",
              "  .colab-df-quickchart-complete:disabled,\n",
              "  .colab-df-quickchart-complete:disabled:hover {\n",
              "    background-color: var(--disabled-bg-color);\n",
              "    fill: var(--disabled-fill-color);\n",
              "    box-shadow: none;\n",
              "  }\n",
              "\n",
              "  .colab-df-spinner {\n",
              "    border: 2px solid var(--fill-color);\n",
              "    border-color: transparent;\n",
              "    border-bottom-color: var(--fill-color);\n",
              "    animation:\n",
              "      spin 1s steps(1) infinite;\n",
              "  }\n",
              "\n",
              "  @keyframes spin {\n",
              "    0% {\n",
              "      border-color: transparent;\n",
              "      border-bottom-color: var(--fill-color);\n",
              "      border-left-color: var(--fill-color);\n",
              "    }\n",
              "    20% {\n",
              "      border-color: transparent;\n",
              "      border-left-color: var(--fill-color);\n",
              "      border-top-color: var(--fill-color);\n",
              "    }\n",
              "    30% {\n",
              "      border-color: transparent;\n",
              "      border-left-color: var(--fill-color);\n",
              "      border-top-color: var(--fill-color);\n",
              "      border-right-color: var(--fill-color);\n",
              "    }\n",
              "    40% {\n",
              "      border-color: transparent;\n",
              "      border-right-color: var(--fill-color);\n",
              "      border-top-color: var(--fill-color);\n",
              "    }\n",
              "    60% {\n",
              "      border-color: transparent;\n",
              "      border-right-color: var(--fill-color);\n",
              "    }\n",
              "    80% {\n",
              "      border-color: transparent;\n",
              "      border-right-color: var(--fill-color);\n",
              "      border-bottom-color: var(--fill-color);\n",
              "    }\n",
              "    90% {\n",
              "      border-color: transparent;\n",
              "      border-bottom-color: var(--fill-color);\n",
              "    }\n",
              "  }\n",
              "</style>\n",
              "\n",
              "  <script>\n",
              "    async function quickchart(key) {\n",
              "      const quickchartButtonEl =\n",
              "        document.querySelector('#' + key + ' button');\n",
              "      quickchartButtonEl.disabled = true;  // To prevent multiple clicks.\n",
              "      quickchartButtonEl.classList.add('colab-df-spinner');\n",
              "      try {\n",
              "        const charts = await google.colab.kernel.invokeFunction(\n",
              "            'suggestCharts', [key], {});\n",
              "      } catch (error) {\n",
              "        console.error('Error during call to suggestCharts:', error);\n",
              "      }\n",
              "      quickchartButtonEl.classList.remove('colab-df-spinner');\n",
              "      quickchartButtonEl.classList.add('colab-df-quickchart-complete');\n",
              "    }\n",
              "    (() => {\n",
              "      let quickchartButtonEl =\n",
              "        document.querySelector('#df-0ff529f7-c79e-4774-81da-2f19c0b8c8b1 button');\n",
              "      quickchartButtonEl.style.display =\n",
              "        google.colab.kernel.accessAllowed ? 'block' : 'none';\n",
              "    })();\n",
              "  </script>\n",
              "</div>\n",
              "    </div>\n",
              "  </div>\n"
            ],
            "text/plain": [
              "   funding_total_usd     status country_code           city  funding_rounds  \\\n",
              "1           700000.0  operating          USA  Delaware City               2   \n",
              "3          2000000.0  operating          CHN        Beijing               1   \n",
              "6           762851.0  operating          CAN      Vancouver               2   \n",
              "7         33600000.0  operating          USA  Mountain View               4   \n",
              "8          1150050.0  operating          USA  San Francisco               3   \n",
              "\n",
              "  founded_at first_funding_at last_funding_at  main_category  \n",
              "1 2014-09-04       2014-03-01      2014-10-14             31  \n",
              "3 2007-01-01       2008-03-19      2008-03-19            170  \n",
              "6 1997-01-01       2009-09-11      2009-12-21             67  \n",
              "7 2011-01-01       2013-01-03      2015-11-09             22  \n",
              "8 2011-08-01       2011-07-20      2014-02-05            444  "
            ]
          },
          "execution_count": 14,
          "metadata": {},
          "output_type": "execute_result"
        }
      ],
      "source": [
        "label_encoder = LabelEncoder()\n",
        "\n",
        "df_cleaned['main_category'] = label_encoder.fit_transform(df_cleaned['main_category'])\n",
        "\n",
        "df_cleaned.head()"
      ]
    },
    {
      "cell_type": "markdown",
      "metadata": {
        "id": "g01befY_3ljR"
      },
      "source": [
        "## *Apply label encoding to `city`*"
      ]
    },
    {
      "cell_type": "code",
      "execution_count": null,
      "metadata": {
        "colab": {
          "base_uri": "https://localhost:8080/",
          "height": 313
        },
        "id": "WXQylI2R3lVP",
        "outputId": "a7d8e455-4b23-411b-d37f-c545f0e74753"
      },
      "outputs": [
        {
          "name": "stderr",
          "output_type": "stream",
          "text": [
            "<ipython-input-15-55e70fb3bcde>:3: SettingWithCopyWarning: \n",
            "A value is trying to be set on a copy of a slice from a DataFrame.\n",
            "Try using .loc[row_indexer,col_indexer] = value instead\n",
            "\n",
            "See the caveats in the documentation: https://pandas.pydata.org/pandas-docs/stable/user_guide/indexing.html#returning-a-view-versus-a-copy\n",
            "  df_cleaned['city'] = label_encoder.fit_transform(df_cleaned['city'])\n"
          ]
        },
        {
          "data": {
            "text/html": [
              "\n",
              "  <div id=\"df-ca093c66-aa32-408b-9a9a-de93c2facccb\" class=\"colab-df-container\">\n",
              "    <div>\n",
              "<style scoped>\n",
              "    .dataframe tbody tr th:only-of-type {\n",
              "        vertical-align: middle;\n",
              "    }\n",
              "\n",
              "    .dataframe tbody tr th {\n",
              "        vertical-align: top;\n",
              "    }\n",
              "\n",
              "    .dataframe thead th {\n",
              "        text-align: right;\n",
              "    }\n",
              "</style>\n",
              "<table border=\"1\" class=\"dataframe\">\n",
              "  <thead>\n",
              "    <tr style=\"text-align: right;\">\n",
              "      <th></th>\n",
              "      <th>funding_total_usd</th>\n",
              "      <th>status</th>\n",
              "      <th>country_code</th>\n",
              "      <th>city</th>\n",
              "      <th>funding_rounds</th>\n",
              "      <th>founded_at</th>\n",
              "      <th>first_funding_at</th>\n",
              "      <th>last_funding_at</th>\n",
              "      <th>main_category</th>\n",
              "    </tr>\n",
              "  </thead>\n",
              "  <tbody>\n",
              "    <tr>\n",
              "      <th>1</th>\n",
              "      <td>700000.0</td>\n",
              "      <td>operating</td>\n",
              "      <td>USA</td>\n",
              "      <td>791</td>\n",
              "      <td>2</td>\n",
              "      <td>2014-09-04</td>\n",
              "      <td>2014-03-01</td>\n",
              "      <td>2014-10-14</td>\n",
              "      <td>31</td>\n",
              "    </tr>\n",
              "    <tr>\n",
              "      <th>3</th>\n",
              "      <td>2000000.0</td>\n",
              "      <td>operating</td>\n",
              "      <td>CHN</td>\n",
              "      <td>223</td>\n",
              "      <td>1</td>\n",
              "      <td>2007-01-01</td>\n",
              "      <td>2008-03-19</td>\n",
              "      <td>2008-03-19</td>\n",
              "      <td>170</td>\n",
              "    </tr>\n",
              "    <tr>\n",
              "      <th>6</th>\n",
              "      <td>762851.0</td>\n",
              "      <td>operating</td>\n",
              "      <td>CAN</td>\n",
              "      <td>3254</td>\n",
              "      <td>2</td>\n",
              "      <td>1997-01-01</td>\n",
              "      <td>2009-09-11</td>\n",
              "      <td>2009-12-21</td>\n",
              "      <td>67</td>\n",
              "    </tr>\n",
              "    <tr>\n",
              "      <th>7</th>\n",
              "      <td>33600000.0</td>\n",
              "      <td>operating</td>\n",
              "      <td>USA</td>\n",
              "      <td>2059</td>\n",
              "      <td>4</td>\n",
              "      <td>2011-01-01</td>\n",
              "      <td>2013-01-03</td>\n",
              "      <td>2015-11-09</td>\n",
              "      <td>22</td>\n",
              "    </tr>\n",
              "    <tr>\n",
              "      <th>8</th>\n",
              "      <td>1150050.0</td>\n",
              "      <td>operating</td>\n",
              "      <td>USA</td>\n",
              "      <td>2738</td>\n",
              "      <td>3</td>\n",
              "      <td>2011-08-01</td>\n",
              "      <td>2011-07-20</td>\n",
              "      <td>2014-02-05</td>\n",
              "      <td>444</td>\n",
              "    </tr>\n",
              "  </tbody>\n",
              "</table>\n",
              "</div>\n",
              "    <div class=\"colab-df-buttons\">\n",
              "\n",
              "  <div class=\"colab-df-container\">\n",
              "    <button class=\"colab-df-convert\" onclick=\"convertToInteractive('df-ca093c66-aa32-408b-9a9a-de93c2facccb')\"\n",
              "            title=\"Convert this dataframe to an interactive table.\"\n",
              "            style=\"display:none;\">\n",
              "\n",
              "  <svg xmlns=\"http://www.w3.org/2000/svg\" height=\"24px\" viewBox=\"0 -960 960 960\">\n",
              "    <path d=\"M120-120v-720h720v720H120Zm60-500h600v-160H180v160Zm220 220h160v-160H400v160Zm0 220h160v-160H400v160ZM180-400h160v-160H180v160Zm440 0h160v-160H620v160ZM180-180h160v-160H180v160Zm440 0h160v-160H620v160Z\"/>\n",
              "  </svg>\n",
              "    </button>\n",
              "\n",
              "  <style>\n",
              "    .colab-df-container {\n",
              "      display:flex;\n",
              "      gap: 12px;\n",
              "    }\n",
              "\n",
              "    .colab-df-convert {\n",
              "      background-color: #E8F0FE;\n",
              "      border: none;\n",
              "      border-radius: 50%;\n",
              "      cursor: pointer;\n",
              "      display: none;\n",
              "      fill: #1967D2;\n",
              "      height: 32px;\n",
              "      padding: 0 0 0 0;\n",
              "      width: 32px;\n",
              "    }\n",
              "\n",
              "    .colab-df-convert:hover {\n",
              "      background-color: #E2EBFA;\n",
              "      box-shadow: 0px 1px 2px rgba(60, 64, 67, 0.3), 0px 1px 3px 1px rgba(60, 64, 67, 0.15);\n",
              "      fill: #174EA6;\n",
              "    }\n",
              "\n",
              "    .colab-df-buttons div {\n",
              "      margin-bottom: 4px;\n",
              "    }\n",
              "\n",
              "    [theme=dark] .colab-df-convert {\n",
              "      background-color: #3B4455;\n",
              "      fill: #D2E3FC;\n",
              "    }\n",
              "\n",
              "    [theme=dark] .colab-df-convert:hover {\n",
              "      background-color: #434B5C;\n",
              "      box-shadow: 0px 1px 3px 1px rgba(0, 0, 0, 0.15);\n",
              "      filter: drop-shadow(0px 1px 2px rgba(0, 0, 0, 0.3));\n",
              "      fill: #FFFFFF;\n",
              "    }\n",
              "  </style>\n",
              "\n",
              "    <script>\n",
              "      const buttonEl =\n",
              "        document.querySelector('#df-ca093c66-aa32-408b-9a9a-de93c2facccb button.colab-df-convert');\n",
              "      buttonEl.style.display =\n",
              "        google.colab.kernel.accessAllowed ? 'block' : 'none';\n",
              "\n",
              "      async function convertToInteractive(key) {\n",
              "        const element = document.querySelector('#df-ca093c66-aa32-408b-9a9a-de93c2facccb');\n",
              "        const dataTable =\n",
              "          await google.colab.kernel.invokeFunction('convertToInteractive',\n",
              "                                                    [key], {});\n",
              "        if (!dataTable) return;\n",
              "\n",
              "        const docLinkHtml = 'Like what you see? Visit the ' +\n",
              "          '<a target=\"_blank\" href=https://colab.research.google.com/notebooks/data_table.ipynb>data table notebook</a>'\n",
              "          + ' to learn more about interactive tables.';\n",
              "        element.innerHTML = '';\n",
              "        dataTable['output_type'] = 'display_data';\n",
              "        await google.colab.output.renderOutput(dataTable, element);\n",
              "        const docLink = document.createElement('div');\n",
              "        docLink.innerHTML = docLinkHtml;\n",
              "        element.appendChild(docLink);\n",
              "      }\n",
              "    </script>\n",
              "  </div>\n",
              "\n",
              "\n",
              "<div id=\"df-94f02680-78e4-4403-a2fe-27659def9e32\">\n",
              "  <button class=\"colab-df-quickchart\" onclick=\"quickchart('df-94f02680-78e4-4403-a2fe-27659def9e32')\"\n",
              "            title=\"Suggest charts\"\n",
              "            style=\"display:none;\">\n",
              "\n",
              "<svg xmlns=\"http://www.w3.org/2000/svg\" height=\"24px\"viewBox=\"0 0 24 24\"\n",
              "     width=\"24px\">\n",
              "    <g>\n",
              "        <path d=\"M19 3H5c-1.1 0-2 .9-2 2v14c0 1.1.9 2 2 2h14c1.1 0 2-.9 2-2V5c0-1.1-.9-2-2-2zM9 17H7v-7h2v7zm4 0h-2V7h2v10zm4 0h-2v-4h2v4z\"/>\n",
              "    </g>\n",
              "</svg>\n",
              "  </button>\n",
              "\n",
              "<style>\n",
              "  .colab-df-quickchart {\n",
              "      --bg-color: #E8F0FE;\n",
              "      --fill-color: #1967D2;\n",
              "      --hover-bg-color: #E2EBFA;\n",
              "      --hover-fill-color: #174EA6;\n",
              "      --disabled-fill-color: #AAA;\n",
              "      --disabled-bg-color: #DDD;\n",
              "  }\n",
              "\n",
              "  [theme=dark] .colab-df-quickchart {\n",
              "      --bg-color: #3B4455;\n",
              "      --fill-color: #D2E3FC;\n",
              "      --hover-bg-color: #434B5C;\n",
              "      --hover-fill-color: #FFFFFF;\n",
              "      --disabled-bg-color: #3B4455;\n",
              "      --disabled-fill-color: #666;\n",
              "  }\n",
              "\n",
              "  .colab-df-quickchart {\n",
              "    background-color: var(--bg-color);\n",
              "    border: none;\n",
              "    border-radius: 50%;\n",
              "    cursor: pointer;\n",
              "    display: none;\n",
              "    fill: var(--fill-color);\n",
              "    height: 32px;\n",
              "    padding: 0;\n",
              "    width: 32px;\n",
              "  }\n",
              "\n",
              "  .colab-df-quickchart:hover {\n",
              "    background-color: var(--hover-bg-color);\n",
              "    box-shadow: 0 1px 2px rgba(60, 64, 67, 0.3), 0 1px 3px 1px rgba(60, 64, 67, 0.15);\n",
              "    fill: var(--button-hover-fill-color);\n",
              "  }\n",
              "\n",
              "  .colab-df-quickchart-complete:disabled,\n",
              "  .colab-df-quickchart-complete:disabled:hover {\n",
              "    background-color: var(--disabled-bg-color);\n",
              "    fill: var(--disabled-fill-color);\n",
              "    box-shadow: none;\n",
              "  }\n",
              "\n",
              "  .colab-df-spinner {\n",
              "    border: 2px solid var(--fill-color);\n",
              "    border-color: transparent;\n",
              "    border-bottom-color: var(--fill-color);\n",
              "    animation:\n",
              "      spin 1s steps(1) infinite;\n",
              "  }\n",
              "\n",
              "  @keyframes spin {\n",
              "    0% {\n",
              "      border-color: transparent;\n",
              "      border-bottom-color: var(--fill-color);\n",
              "      border-left-color: var(--fill-color);\n",
              "    }\n",
              "    20% {\n",
              "      border-color: transparent;\n",
              "      border-left-color: var(--fill-color);\n",
              "      border-top-color: var(--fill-color);\n",
              "    }\n",
              "    30% {\n",
              "      border-color: transparent;\n",
              "      border-left-color: var(--fill-color);\n",
              "      border-top-color: var(--fill-color);\n",
              "      border-right-color: var(--fill-color);\n",
              "    }\n",
              "    40% {\n",
              "      border-color: transparent;\n",
              "      border-right-color: var(--fill-color);\n",
              "      border-top-color: var(--fill-color);\n",
              "    }\n",
              "    60% {\n",
              "      border-color: transparent;\n",
              "      border-right-color: var(--fill-color);\n",
              "    }\n",
              "    80% {\n",
              "      border-color: transparent;\n",
              "      border-right-color: var(--fill-color);\n",
              "      border-bottom-color: var(--fill-color);\n",
              "    }\n",
              "    90% {\n",
              "      border-color: transparent;\n",
              "      border-bottom-color: var(--fill-color);\n",
              "    }\n",
              "  }\n",
              "</style>\n",
              "\n",
              "  <script>\n",
              "    async function quickchart(key) {\n",
              "      const quickchartButtonEl =\n",
              "        document.querySelector('#' + key + ' button');\n",
              "      quickchartButtonEl.disabled = true;  // To prevent multiple clicks.\n",
              "      quickchartButtonEl.classList.add('colab-df-spinner');\n",
              "      try {\n",
              "        const charts = await google.colab.kernel.invokeFunction(\n",
              "            'suggestCharts', [key], {});\n",
              "      } catch (error) {\n",
              "        console.error('Error during call to suggestCharts:', error);\n",
              "      }\n",
              "      quickchartButtonEl.classList.remove('colab-df-spinner');\n",
              "      quickchartButtonEl.classList.add('colab-df-quickchart-complete');\n",
              "    }\n",
              "    (() => {\n",
              "      let quickchartButtonEl =\n",
              "        document.querySelector('#df-94f02680-78e4-4403-a2fe-27659def9e32 button');\n",
              "      quickchartButtonEl.style.display =\n",
              "        google.colab.kernel.accessAllowed ? 'block' : 'none';\n",
              "    })();\n",
              "  </script>\n",
              "</div>\n",
              "    </div>\n",
              "  </div>\n"
            ],
            "text/plain": [
              "   funding_total_usd     status country_code  city  funding_rounds founded_at  \\\n",
              "1           700000.0  operating          USA   791               2 2014-09-04   \n",
              "3          2000000.0  operating          CHN   223               1 2007-01-01   \n",
              "6           762851.0  operating          CAN  3254               2 1997-01-01   \n",
              "7         33600000.0  operating          USA  2059               4 2011-01-01   \n",
              "8          1150050.0  operating          USA  2738               3 2011-08-01   \n",
              "\n",
              "  first_funding_at last_funding_at  main_category  \n",
              "1       2014-03-01      2014-10-14             31  \n",
              "3       2008-03-19      2008-03-19            170  \n",
              "6       2009-09-11      2009-12-21             67  \n",
              "7       2013-01-03      2015-11-09             22  \n",
              "8       2011-07-20      2014-02-05            444  "
            ]
          },
          "execution_count": 15,
          "metadata": {},
          "output_type": "execute_result"
        }
      ],
      "source": [
        "label_encoder = LabelEncoder()\n",
        "\n",
        "df_cleaned['city'] = label_encoder.fit_transform(df_cleaned['city'])\n",
        "\n",
        "df_cleaned.head()"
      ]
    },
    {
      "cell_type": "markdown",
      "metadata": {
        "id": "X3s0ODuRtNCl"
      },
      "source": [
        "## *Apply label encoding to the `country_code` variable*"
      ]
    },
    {
      "cell_type": "code",
      "execution_count": null,
      "metadata": {
        "colab": {
          "base_uri": "https://localhost:8080/",
          "height": 313
        },
        "id": "sW7kdFWDtbtP",
        "outputId": "85709779-aa64-4d7c-c6dd-83d27d63a5a6"
      },
      "outputs": [
        {
          "name": "stderr",
          "output_type": "stream",
          "text": [
            "<ipython-input-16-1892f71810b1>:3: SettingWithCopyWarning: \n",
            "A value is trying to be set on a copy of a slice from a DataFrame.\n",
            "Try using .loc[row_indexer,col_indexer] = value instead\n",
            "\n",
            "See the caveats in the documentation: https://pandas.pydata.org/pandas-docs/stable/user_guide/indexing.html#returning-a-view-versus-a-copy\n",
            "  df_cleaned['country_code'] = label_encoder.fit_transform(df_cleaned['country_code'])\n"
          ]
        },
        {
          "data": {
            "text/html": [
              "\n",
              "  <div id=\"df-026be49a-dc35-41a2-8161-6e7c8ec6e481\" class=\"colab-df-container\">\n",
              "    <div>\n",
              "<style scoped>\n",
              "    .dataframe tbody tr th:only-of-type {\n",
              "        vertical-align: middle;\n",
              "    }\n",
              "\n",
              "    .dataframe tbody tr th {\n",
              "        vertical-align: top;\n",
              "    }\n",
              "\n",
              "    .dataframe thead th {\n",
              "        text-align: right;\n",
              "    }\n",
              "</style>\n",
              "<table border=\"1\" class=\"dataframe\">\n",
              "  <thead>\n",
              "    <tr style=\"text-align: right;\">\n",
              "      <th></th>\n",
              "      <th>funding_total_usd</th>\n",
              "      <th>status</th>\n",
              "      <th>country_code</th>\n",
              "      <th>city</th>\n",
              "      <th>funding_rounds</th>\n",
              "      <th>founded_at</th>\n",
              "      <th>first_funding_at</th>\n",
              "      <th>last_funding_at</th>\n",
              "      <th>main_category</th>\n",
              "    </tr>\n",
              "  </thead>\n",
              "  <tbody>\n",
              "    <tr>\n",
              "      <th>1</th>\n",
              "      <td>700000.0</td>\n",
              "      <td>operating</td>\n",
              "      <td>114</td>\n",
              "      <td>791</td>\n",
              "      <td>2</td>\n",
              "      <td>2014-09-04</td>\n",
              "      <td>2014-03-01</td>\n",
              "      <td>2014-10-14</td>\n",
              "      <td>31</td>\n",
              "    </tr>\n",
              "    <tr>\n",
              "      <th>3</th>\n",
              "      <td>2000000.0</td>\n",
              "      <td>operating</td>\n",
              "      <td>20</td>\n",
              "      <td>223</td>\n",
              "      <td>1</td>\n",
              "      <td>2007-01-01</td>\n",
              "      <td>2008-03-19</td>\n",
              "      <td>2008-03-19</td>\n",
              "      <td>170</td>\n",
              "    </tr>\n",
              "    <tr>\n",
              "      <th>6</th>\n",
              "      <td>762851.0</td>\n",
              "      <td>operating</td>\n",
              "      <td>17</td>\n",
              "      <td>3254</td>\n",
              "      <td>2</td>\n",
              "      <td>1997-01-01</td>\n",
              "      <td>2009-09-11</td>\n",
              "      <td>2009-12-21</td>\n",
              "      <td>67</td>\n",
              "    </tr>\n",
              "    <tr>\n",
              "      <th>7</th>\n",
              "      <td>33600000.0</td>\n",
              "      <td>operating</td>\n",
              "      <td>114</td>\n",
              "      <td>2059</td>\n",
              "      <td>4</td>\n",
              "      <td>2011-01-01</td>\n",
              "      <td>2013-01-03</td>\n",
              "      <td>2015-11-09</td>\n",
              "      <td>22</td>\n",
              "    </tr>\n",
              "    <tr>\n",
              "      <th>8</th>\n",
              "      <td>1150050.0</td>\n",
              "      <td>operating</td>\n",
              "      <td>114</td>\n",
              "      <td>2738</td>\n",
              "      <td>3</td>\n",
              "      <td>2011-08-01</td>\n",
              "      <td>2011-07-20</td>\n",
              "      <td>2014-02-05</td>\n",
              "      <td>444</td>\n",
              "    </tr>\n",
              "  </tbody>\n",
              "</table>\n",
              "</div>\n",
              "    <div class=\"colab-df-buttons\">\n",
              "\n",
              "  <div class=\"colab-df-container\">\n",
              "    <button class=\"colab-df-convert\" onclick=\"convertToInteractive('df-026be49a-dc35-41a2-8161-6e7c8ec6e481')\"\n",
              "            title=\"Convert this dataframe to an interactive table.\"\n",
              "            style=\"display:none;\">\n",
              "\n",
              "  <svg xmlns=\"http://www.w3.org/2000/svg\" height=\"24px\" viewBox=\"0 -960 960 960\">\n",
              "    <path d=\"M120-120v-720h720v720H120Zm60-500h600v-160H180v160Zm220 220h160v-160H400v160Zm0 220h160v-160H400v160ZM180-400h160v-160H180v160Zm440 0h160v-160H620v160ZM180-180h160v-160H180v160Zm440 0h160v-160H620v160Z\"/>\n",
              "  </svg>\n",
              "    </button>\n",
              "\n",
              "  <style>\n",
              "    .colab-df-container {\n",
              "      display:flex;\n",
              "      gap: 12px;\n",
              "    }\n",
              "\n",
              "    .colab-df-convert {\n",
              "      background-color: #E8F0FE;\n",
              "      border: none;\n",
              "      border-radius: 50%;\n",
              "      cursor: pointer;\n",
              "      display: none;\n",
              "      fill: #1967D2;\n",
              "      height: 32px;\n",
              "      padding: 0 0 0 0;\n",
              "      width: 32px;\n",
              "    }\n",
              "\n",
              "    .colab-df-convert:hover {\n",
              "      background-color: #E2EBFA;\n",
              "      box-shadow: 0px 1px 2px rgba(60, 64, 67, 0.3), 0px 1px 3px 1px rgba(60, 64, 67, 0.15);\n",
              "      fill: #174EA6;\n",
              "    }\n",
              "\n",
              "    .colab-df-buttons div {\n",
              "      margin-bottom: 4px;\n",
              "    }\n",
              "\n",
              "    [theme=dark] .colab-df-convert {\n",
              "      background-color: #3B4455;\n",
              "      fill: #D2E3FC;\n",
              "    }\n",
              "\n",
              "    [theme=dark] .colab-df-convert:hover {\n",
              "      background-color: #434B5C;\n",
              "      box-shadow: 0px 1px 3px 1px rgba(0, 0, 0, 0.15);\n",
              "      filter: drop-shadow(0px 1px 2px rgba(0, 0, 0, 0.3));\n",
              "      fill: #FFFFFF;\n",
              "    }\n",
              "  </style>\n",
              "\n",
              "    <script>\n",
              "      const buttonEl =\n",
              "        document.querySelector('#df-026be49a-dc35-41a2-8161-6e7c8ec6e481 button.colab-df-convert');\n",
              "      buttonEl.style.display =\n",
              "        google.colab.kernel.accessAllowed ? 'block' : 'none';\n",
              "\n",
              "      async function convertToInteractive(key) {\n",
              "        const element = document.querySelector('#df-026be49a-dc35-41a2-8161-6e7c8ec6e481');\n",
              "        const dataTable =\n",
              "          await google.colab.kernel.invokeFunction('convertToInteractive',\n",
              "                                                    [key], {});\n",
              "        if (!dataTable) return;\n",
              "\n",
              "        const docLinkHtml = 'Like what you see? Visit the ' +\n",
              "          '<a target=\"_blank\" href=https://colab.research.google.com/notebooks/data_table.ipynb>data table notebook</a>'\n",
              "          + ' to learn more about interactive tables.';\n",
              "        element.innerHTML = '';\n",
              "        dataTable['output_type'] = 'display_data';\n",
              "        await google.colab.output.renderOutput(dataTable, element);\n",
              "        const docLink = document.createElement('div');\n",
              "        docLink.innerHTML = docLinkHtml;\n",
              "        element.appendChild(docLink);\n",
              "      }\n",
              "    </script>\n",
              "  </div>\n",
              "\n",
              "\n",
              "<div id=\"df-4e478139-da40-4aab-a373-8acb3113b7e4\">\n",
              "  <button class=\"colab-df-quickchart\" onclick=\"quickchart('df-4e478139-da40-4aab-a373-8acb3113b7e4')\"\n",
              "            title=\"Suggest charts\"\n",
              "            style=\"display:none;\">\n",
              "\n",
              "<svg xmlns=\"http://www.w3.org/2000/svg\" height=\"24px\"viewBox=\"0 0 24 24\"\n",
              "     width=\"24px\">\n",
              "    <g>\n",
              "        <path d=\"M19 3H5c-1.1 0-2 .9-2 2v14c0 1.1.9 2 2 2h14c1.1 0 2-.9 2-2V5c0-1.1-.9-2-2-2zM9 17H7v-7h2v7zm4 0h-2V7h2v10zm4 0h-2v-4h2v4z\"/>\n",
              "    </g>\n",
              "</svg>\n",
              "  </button>\n",
              "\n",
              "<style>\n",
              "  .colab-df-quickchart {\n",
              "      --bg-color: #E8F0FE;\n",
              "      --fill-color: #1967D2;\n",
              "      --hover-bg-color: #E2EBFA;\n",
              "      --hover-fill-color: #174EA6;\n",
              "      --disabled-fill-color: #AAA;\n",
              "      --disabled-bg-color: #DDD;\n",
              "  }\n",
              "\n",
              "  [theme=dark] .colab-df-quickchart {\n",
              "      --bg-color: #3B4455;\n",
              "      --fill-color: #D2E3FC;\n",
              "      --hover-bg-color: #434B5C;\n",
              "      --hover-fill-color: #FFFFFF;\n",
              "      --disabled-bg-color: #3B4455;\n",
              "      --disabled-fill-color: #666;\n",
              "  }\n",
              "\n",
              "  .colab-df-quickchart {\n",
              "    background-color: var(--bg-color);\n",
              "    border: none;\n",
              "    border-radius: 50%;\n",
              "    cursor: pointer;\n",
              "    display: none;\n",
              "    fill: var(--fill-color);\n",
              "    height: 32px;\n",
              "    padding: 0;\n",
              "    width: 32px;\n",
              "  }\n",
              "\n",
              "  .colab-df-quickchart:hover {\n",
              "    background-color: var(--hover-bg-color);\n",
              "    box-shadow: 0 1px 2px rgba(60, 64, 67, 0.3), 0 1px 3px 1px rgba(60, 64, 67, 0.15);\n",
              "    fill: var(--button-hover-fill-color);\n",
              "  }\n",
              "\n",
              "  .colab-df-quickchart-complete:disabled,\n",
              "  .colab-df-quickchart-complete:disabled:hover {\n",
              "    background-color: var(--disabled-bg-color);\n",
              "    fill: var(--disabled-fill-color);\n",
              "    box-shadow: none;\n",
              "  }\n",
              "\n",
              "  .colab-df-spinner {\n",
              "    border: 2px solid var(--fill-color);\n",
              "    border-color: transparent;\n",
              "    border-bottom-color: var(--fill-color);\n",
              "    animation:\n",
              "      spin 1s steps(1) infinite;\n",
              "  }\n",
              "\n",
              "  @keyframes spin {\n",
              "    0% {\n",
              "      border-color: transparent;\n",
              "      border-bottom-color: var(--fill-color);\n",
              "      border-left-color: var(--fill-color);\n",
              "    }\n",
              "    20% {\n",
              "      border-color: transparent;\n",
              "      border-left-color: var(--fill-color);\n",
              "      border-top-color: var(--fill-color);\n",
              "    }\n",
              "    30% {\n",
              "      border-color: transparent;\n",
              "      border-left-color: var(--fill-color);\n",
              "      border-top-color: var(--fill-color);\n",
              "      border-right-color: var(--fill-color);\n",
              "    }\n",
              "    40% {\n",
              "      border-color: transparent;\n",
              "      border-right-color: var(--fill-color);\n",
              "      border-top-color: var(--fill-color);\n",
              "    }\n",
              "    60% {\n",
              "      border-color: transparent;\n",
              "      border-right-color: var(--fill-color);\n",
              "    }\n",
              "    80% {\n",
              "      border-color: transparent;\n",
              "      border-right-color: var(--fill-color);\n",
              "      border-bottom-color: var(--fill-color);\n",
              "    }\n",
              "    90% {\n",
              "      border-color: transparent;\n",
              "      border-bottom-color: var(--fill-color);\n",
              "    }\n",
              "  }\n",
              "</style>\n",
              "\n",
              "  <script>\n",
              "    async function quickchart(key) {\n",
              "      const quickchartButtonEl =\n",
              "        document.querySelector('#' + key + ' button');\n",
              "      quickchartButtonEl.disabled = true;  // To prevent multiple clicks.\n",
              "      quickchartButtonEl.classList.add('colab-df-spinner');\n",
              "      try {\n",
              "        const charts = await google.colab.kernel.invokeFunction(\n",
              "            'suggestCharts', [key], {});\n",
              "      } catch (error) {\n",
              "        console.error('Error during call to suggestCharts:', error);\n",
              "      }\n",
              "      quickchartButtonEl.classList.remove('colab-df-spinner');\n",
              "      quickchartButtonEl.classList.add('colab-df-quickchart-complete');\n",
              "    }\n",
              "    (() => {\n",
              "      let quickchartButtonEl =\n",
              "        document.querySelector('#df-4e478139-da40-4aab-a373-8acb3113b7e4 button');\n",
              "      quickchartButtonEl.style.display =\n",
              "        google.colab.kernel.accessAllowed ? 'block' : 'none';\n",
              "    })();\n",
              "  </script>\n",
              "</div>\n",
              "    </div>\n",
              "  </div>\n"
            ],
            "text/plain": [
              "   funding_total_usd     status  country_code  city  funding_rounds  \\\n",
              "1           700000.0  operating           114   791               2   \n",
              "3          2000000.0  operating            20   223               1   \n",
              "6           762851.0  operating            17  3254               2   \n",
              "7         33600000.0  operating           114  2059               4   \n",
              "8          1150050.0  operating           114  2738               3   \n",
              "\n",
              "  founded_at first_funding_at last_funding_at  main_category  \n",
              "1 2014-09-04       2014-03-01      2014-10-14             31  \n",
              "3 2007-01-01       2008-03-19      2008-03-19            170  \n",
              "6 1997-01-01       2009-09-11      2009-12-21             67  \n",
              "7 2011-01-01       2013-01-03      2015-11-09             22  \n",
              "8 2011-08-01       2011-07-20      2014-02-05            444  "
            ]
          },
          "execution_count": 16,
          "metadata": {},
          "output_type": "execute_result"
        }
      ],
      "source": [
        "label_encoder = LabelEncoder()\n",
        "\n",
        "df_cleaned['country_code'] = label_encoder.fit_transform(df_cleaned['country_code'])\n",
        "\n",
        "df_cleaned.head()"
      ]
    },
    {
      "cell_type": "markdown",
      "metadata": {
        "id": "fuYh3ERcdwLr"
      },
      "source": [
        "# **Feature Engineering**\n",
        "We are introducing two new variables:\n",
        "- funding_duration = Time (in days) between first funding round and last funding round\n",
        "- time_to_first_funding = Time (in days) between founding and first funding round\n",
        "\n",
        "We will then drop those rows to preven data leakage."
      ]
    },
    {
      "cell_type": "code",
      "execution_count": null,
      "metadata": {
        "colab": {
          "base_uri": "https://localhost:8080/",
          "height": 510
        },
        "id": "PWlCmz_GdvON",
        "outputId": "3556e1d7-c45d-4c21-b29d-d3c3860a802b"
      },
      "outputs": [
        {
          "name": "stderr",
          "output_type": "stream",
          "text": [
            "<ipython-input-17-ae7ca323fa7d>:2: SettingWithCopyWarning: \n",
            "A value is trying to be set on a copy of a slice from a DataFrame.\n",
            "Try using .loc[row_indexer,col_indexer] = value instead\n",
            "\n",
            "See the caveats in the documentation: https://pandas.pydata.org/pandas-docs/stable/user_guide/indexing.html#returning-a-view-versus-a-copy\n",
            "  df_cleaned['time_to_first_funding'] = (df_cleaned['first_funding_at'] - df_cleaned['founded_at']).dt.days\n",
            "<ipython-input-17-ae7ca323fa7d>:3: SettingWithCopyWarning: \n",
            "A value is trying to be set on a copy of a slice from a DataFrame.\n",
            "Try using .loc[row_indexer,col_indexer] = value instead\n",
            "\n",
            "See the caveats in the documentation: https://pandas.pydata.org/pandas-docs/stable/user_guide/indexing.html#returning-a-view-versus-a-copy\n",
            "  df_cleaned['funding_duration'] = (df_cleaned['last_funding_at'] - df_cleaned['first_funding_at']).dt.days\n",
            "<ipython-input-17-ae7ca323fa7d>:6: SettingWithCopyWarning: \n",
            "A value is trying to be set on a copy of a slice from a DataFrame\n",
            "\n",
            "See the caveats in the documentation: https://pandas.pydata.org/pandas-docs/stable/user_guide/indexing.html#returning-a-view-versus-a-copy\n",
            "  df_cleaned.drop(columns=['founded_at','first_funding_at','last_funding_at'], axis=1, inplace=True)\n"
          ]
        },
        {
          "data": {
            "text/html": [
              "\n",
              "  <div id=\"df-09bef15c-dfa4-4b67-9a02-90c78089e588\" class=\"colab-df-container\">\n",
              "    <div>\n",
              "<style scoped>\n",
              "    .dataframe tbody tr th:only-of-type {\n",
              "        vertical-align: middle;\n",
              "    }\n",
              "\n",
              "    .dataframe tbody tr th {\n",
              "        vertical-align: top;\n",
              "    }\n",
              "\n",
              "    .dataframe thead th {\n",
              "        text-align: right;\n",
              "    }\n",
              "</style>\n",
              "<table border=\"1\" class=\"dataframe\">\n",
              "  <thead>\n",
              "    <tr style=\"text-align: right;\">\n",
              "      <th></th>\n",
              "      <th>funding_total_usd</th>\n",
              "      <th>status</th>\n",
              "      <th>country_code</th>\n",
              "      <th>city</th>\n",
              "      <th>funding_rounds</th>\n",
              "      <th>main_category</th>\n",
              "      <th>time_to_first_funding</th>\n",
              "      <th>funding_duration</th>\n",
              "    </tr>\n",
              "  </thead>\n",
              "  <tbody>\n",
              "    <tr>\n",
              "      <th>1</th>\n",
              "      <td>700000.0</td>\n",
              "      <td>operating</td>\n",
              "      <td>114</td>\n",
              "      <td>791</td>\n",
              "      <td>2</td>\n",
              "      <td>31</td>\n",
              "      <td>-187</td>\n",
              "      <td>227</td>\n",
              "    </tr>\n",
              "    <tr>\n",
              "      <th>3</th>\n",
              "      <td>2000000.0</td>\n",
              "      <td>operating</td>\n",
              "      <td>20</td>\n",
              "      <td>223</td>\n",
              "      <td>1</td>\n",
              "      <td>170</td>\n",
              "      <td>443</td>\n",
              "      <td>0</td>\n",
              "    </tr>\n",
              "    <tr>\n",
              "      <th>6</th>\n",
              "      <td>762851.0</td>\n",
              "      <td>operating</td>\n",
              "      <td>17</td>\n",
              "      <td>3254</td>\n",
              "      <td>2</td>\n",
              "      <td>67</td>\n",
              "      <td>4636</td>\n",
              "      <td>101</td>\n",
              "    </tr>\n",
              "    <tr>\n",
              "      <th>7</th>\n",
              "      <td>33600000.0</td>\n",
              "      <td>operating</td>\n",
              "      <td>114</td>\n",
              "      <td>2059</td>\n",
              "      <td>4</td>\n",
              "      <td>22</td>\n",
              "      <td>733</td>\n",
              "      <td>1040</td>\n",
              "    </tr>\n",
              "    <tr>\n",
              "      <th>8</th>\n",
              "      <td>1150050.0</td>\n",
              "      <td>operating</td>\n",
              "      <td>114</td>\n",
              "      <td>2738</td>\n",
              "      <td>3</td>\n",
              "      <td>444</td>\n",
              "      <td>-12</td>\n",
              "      <td>931</td>\n",
              "    </tr>\n",
              "  </tbody>\n",
              "</table>\n",
              "</div>\n",
              "    <div class=\"colab-df-buttons\">\n",
              "\n",
              "  <div class=\"colab-df-container\">\n",
              "    <button class=\"colab-df-convert\" onclick=\"convertToInteractive('df-09bef15c-dfa4-4b67-9a02-90c78089e588')\"\n",
              "            title=\"Convert this dataframe to an interactive table.\"\n",
              "            style=\"display:none;\">\n",
              "\n",
              "  <svg xmlns=\"http://www.w3.org/2000/svg\" height=\"24px\" viewBox=\"0 -960 960 960\">\n",
              "    <path d=\"M120-120v-720h720v720H120Zm60-500h600v-160H180v160Zm220 220h160v-160H400v160Zm0 220h160v-160H400v160ZM180-400h160v-160H180v160Zm440 0h160v-160H620v160ZM180-180h160v-160H180v160Zm440 0h160v-160H620v160Z\"/>\n",
              "  </svg>\n",
              "    </button>\n",
              "\n",
              "  <style>\n",
              "    .colab-df-container {\n",
              "      display:flex;\n",
              "      gap: 12px;\n",
              "    }\n",
              "\n",
              "    .colab-df-convert {\n",
              "      background-color: #E8F0FE;\n",
              "      border: none;\n",
              "      border-radius: 50%;\n",
              "      cursor: pointer;\n",
              "      display: none;\n",
              "      fill: #1967D2;\n",
              "      height: 32px;\n",
              "      padding: 0 0 0 0;\n",
              "      width: 32px;\n",
              "    }\n",
              "\n",
              "    .colab-df-convert:hover {\n",
              "      background-color: #E2EBFA;\n",
              "      box-shadow: 0px 1px 2px rgba(60, 64, 67, 0.3), 0px 1px 3px 1px rgba(60, 64, 67, 0.15);\n",
              "      fill: #174EA6;\n",
              "    }\n",
              "\n",
              "    .colab-df-buttons div {\n",
              "      margin-bottom: 4px;\n",
              "    }\n",
              "\n",
              "    [theme=dark] .colab-df-convert {\n",
              "      background-color: #3B4455;\n",
              "      fill: #D2E3FC;\n",
              "    }\n",
              "\n",
              "    [theme=dark] .colab-df-convert:hover {\n",
              "      background-color: #434B5C;\n",
              "      box-shadow: 0px 1px 3px 1px rgba(0, 0, 0, 0.15);\n",
              "      filter: drop-shadow(0px 1px 2px rgba(0, 0, 0, 0.3));\n",
              "      fill: #FFFFFF;\n",
              "    }\n",
              "  </style>\n",
              "\n",
              "    <script>\n",
              "      const buttonEl =\n",
              "        document.querySelector('#df-09bef15c-dfa4-4b67-9a02-90c78089e588 button.colab-df-convert');\n",
              "      buttonEl.style.display =\n",
              "        google.colab.kernel.accessAllowed ? 'block' : 'none';\n",
              "\n",
              "      async function convertToInteractive(key) {\n",
              "        const element = document.querySelector('#df-09bef15c-dfa4-4b67-9a02-90c78089e588');\n",
              "        const dataTable =\n",
              "          await google.colab.kernel.invokeFunction('convertToInteractive',\n",
              "                                                    [key], {});\n",
              "        if (!dataTable) return;\n",
              "\n",
              "        const docLinkHtml = 'Like what you see? Visit the ' +\n",
              "          '<a target=\"_blank\" href=https://colab.research.google.com/notebooks/data_table.ipynb>data table notebook</a>'\n",
              "          + ' to learn more about interactive tables.';\n",
              "        element.innerHTML = '';\n",
              "        dataTable['output_type'] = 'display_data';\n",
              "        await google.colab.output.renderOutput(dataTable, element);\n",
              "        const docLink = document.createElement('div');\n",
              "        docLink.innerHTML = docLinkHtml;\n",
              "        element.appendChild(docLink);\n",
              "      }\n",
              "    </script>\n",
              "  </div>\n",
              "\n",
              "\n",
              "<div id=\"df-ffd0219e-fb23-4e3c-aa2b-52d0100e20e2\">\n",
              "  <button class=\"colab-df-quickchart\" onclick=\"quickchart('df-ffd0219e-fb23-4e3c-aa2b-52d0100e20e2')\"\n",
              "            title=\"Suggest charts\"\n",
              "            style=\"display:none;\">\n",
              "\n",
              "<svg xmlns=\"http://www.w3.org/2000/svg\" height=\"24px\"viewBox=\"0 0 24 24\"\n",
              "     width=\"24px\">\n",
              "    <g>\n",
              "        <path d=\"M19 3H5c-1.1 0-2 .9-2 2v14c0 1.1.9 2 2 2h14c1.1 0 2-.9 2-2V5c0-1.1-.9-2-2-2zM9 17H7v-7h2v7zm4 0h-2V7h2v10zm4 0h-2v-4h2v4z\"/>\n",
              "    </g>\n",
              "</svg>\n",
              "  </button>\n",
              "\n",
              "<style>\n",
              "  .colab-df-quickchart {\n",
              "      --bg-color: #E8F0FE;\n",
              "      --fill-color: #1967D2;\n",
              "      --hover-bg-color: #E2EBFA;\n",
              "      --hover-fill-color: #174EA6;\n",
              "      --disabled-fill-color: #AAA;\n",
              "      --disabled-bg-color: #DDD;\n",
              "  }\n",
              "\n",
              "  [theme=dark] .colab-df-quickchart {\n",
              "      --bg-color: #3B4455;\n",
              "      --fill-color: #D2E3FC;\n",
              "      --hover-bg-color: #434B5C;\n",
              "      --hover-fill-color: #FFFFFF;\n",
              "      --disabled-bg-color: #3B4455;\n",
              "      --disabled-fill-color: #666;\n",
              "  }\n",
              "\n",
              "  .colab-df-quickchart {\n",
              "    background-color: var(--bg-color);\n",
              "    border: none;\n",
              "    border-radius: 50%;\n",
              "    cursor: pointer;\n",
              "    display: none;\n",
              "    fill: var(--fill-color);\n",
              "    height: 32px;\n",
              "    padding: 0;\n",
              "    width: 32px;\n",
              "  }\n",
              "\n",
              "  .colab-df-quickchart:hover {\n",
              "    background-color: var(--hover-bg-color);\n",
              "    box-shadow: 0 1px 2px rgba(60, 64, 67, 0.3), 0 1px 3px 1px rgba(60, 64, 67, 0.15);\n",
              "    fill: var(--button-hover-fill-color);\n",
              "  }\n",
              "\n",
              "  .colab-df-quickchart-complete:disabled,\n",
              "  .colab-df-quickchart-complete:disabled:hover {\n",
              "    background-color: var(--disabled-bg-color);\n",
              "    fill: var(--disabled-fill-color);\n",
              "    box-shadow: none;\n",
              "  }\n",
              "\n",
              "  .colab-df-spinner {\n",
              "    border: 2px solid var(--fill-color);\n",
              "    border-color: transparent;\n",
              "    border-bottom-color: var(--fill-color);\n",
              "    animation:\n",
              "      spin 1s steps(1) infinite;\n",
              "  }\n",
              "\n",
              "  @keyframes spin {\n",
              "    0% {\n",
              "      border-color: transparent;\n",
              "      border-bottom-color: var(--fill-color);\n",
              "      border-left-color: var(--fill-color);\n",
              "    }\n",
              "    20% {\n",
              "      border-color: transparent;\n",
              "      border-left-color: var(--fill-color);\n",
              "      border-top-color: var(--fill-color);\n",
              "    }\n",
              "    30% {\n",
              "      border-color: transparent;\n",
              "      border-left-color: var(--fill-color);\n",
              "      border-top-color: var(--fill-color);\n",
              "      border-right-color: var(--fill-color);\n",
              "    }\n",
              "    40% {\n",
              "      border-color: transparent;\n",
              "      border-right-color: var(--fill-color);\n",
              "      border-top-color: var(--fill-color);\n",
              "    }\n",
              "    60% {\n",
              "      border-color: transparent;\n",
              "      border-right-color: var(--fill-color);\n",
              "    }\n",
              "    80% {\n",
              "      border-color: transparent;\n",
              "      border-right-color: var(--fill-color);\n",
              "      border-bottom-color: var(--fill-color);\n",
              "    }\n",
              "    90% {\n",
              "      border-color: transparent;\n",
              "      border-bottom-color: var(--fill-color);\n",
              "    }\n",
              "  }\n",
              "</style>\n",
              "\n",
              "  <script>\n",
              "    async function quickchart(key) {\n",
              "      const quickchartButtonEl =\n",
              "        document.querySelector('#' + key + ' button');\n",
              "      quickchartButtonEl.disabled = true;  // To prevent multiple clicks.\n",
              "      quickchartButtonEl.classList.add('colab-df-spinner');\n",
              "      try {\n",
              "        const charts = await google.colab.kernel.invokeFunction(\n",
              "            'suggestCharts', [key], {});\n",
              "      } catch (error) {\n",
              "        console.error('Error during call to suggestCharts:', error);\n",
              "      }\n",
              "      quickchartButtonEl.classList.remove('colab-df-spinner');\n",
              "      quickchartButtonEl.classList.add('colab-df-quickchart-complete');\n",
              "    }\n",
              "    (() => {\n",
              "      let quickchartButtonEl =\n",
              "        document.querySelector('#df-ffd0219e-fb23-4e3c-aa2b-52d0100e20e2 button');\n",
              "      quickchartButtonEl.style.display =\n",
              "        google.colab.kernel.accessAllowed ? 'block' : 'none';\n",
              "    })();\n",
              "  </script>\n",
              "</div>\n",
              "    </div>\n",
              "  </div>\n"
            ],
            "text/plain": [
              "   funding_total_usd     status  country_code  city  funding_rounds  \\\n",
              "1           700000.0  operating           114   791               2   \n",
              "3          2000000.0  operating            20   223               1   \n",
              "6           762851.0  operating            17  3254               2   \n",
              "7         33600000.0  operating           114  2059               4   \n",
              "8          1150050.0  operating           114  2738               3   \n",
              "\n",
              "   main_category  time_to_first_funding  funding_duration  \n",
              "1             31                   -187               227  \n",
              "3            170                    443                 0  \n",
              "6             67                   4636               101  \n",
              "7             22                    733              1040  \n",
              "8            444                    -12               931  "
            ]
          },
          "execution_count": 17,
          "metadata": {},
          "output_type": "execute_result"
        }
      ],
      "source": [
        "# Getting the derived metrics from the raw dates.\n",
        "df_cleaned['time_to_first_funding'] = (df_cleaned['first_funding_at'] - df_cleaned['founded_at']).dt.days\n",
        "df_cleaned['funding_duration'] = (df_cleaned['last_funding_at'] - df_cleaned['first_funding_at']).dt.days\n",
        "\n",
        "# Dropping the columns with the raw dates\n",
        "df_cleaned.drop(columns=['founded_at','first_funding_at','last_funding_at'], axis=1, inplace=True)\n",
        "df_cleaned.head()"
      ]
    },
    {
      "cell_type": "markdown",
      "metadata": {
        "id": "E7oHz9KdpGYh"
      },
      "source": [
        "## *Changing the target variables to group all 'success' cases as having a value of '1', and failure cases as having a value of '0'.*\n",
        "\n",
        "Here, we classify success cases as having either been 'acquired' or 'ipo' every other case will be classified as a failure."
      ]
    },
    {
      "cell_type": "code",
      "execution_count": null,
      "metadata": {
        "colab": {
          "base_uri": "https://localhost:8080/"
        },
        "id": "LM0so_mAMuoz",
        "outputId": "c15488bb-718b-4289-b4f6-74c90c48a31f"
      },
      "outputs": [
        {
          "name": "stderr",
          "output_type": "stream",
          "text": [
            "<ipython-input-18-0ed72c811d19>:2: SettingWithCopyWarning: \n",
            "A value is trying to be set on a copy of a slice from a DataFrame.\n",
            "Try using .loc[row_indexer,col_indexer] = value instead\n",
            "\n",
            "See the caveats in the documentation: https://pandas.pydata.org/pandas-docs/stable/user_guide/indexing.html#returning-a-view-versus-a-copy\n",
            "  df_cleaned['is_successful'] = df_cleaned['status'].apply(lambda x: 1 if x in ['acquired', 'ipo'] else 0)\n"
          ]
        }
      ],
      "source": [
        "# Change ipo and accquired to 1, everything else to 0\n",
        "df_cleaned['is_successful'] = df_cleaned['status'].apply(lambda x: 1 if x in ['acquired', 'ipo'] else 0)\n",
        "\n",
        "# Remove labels\n",
        "X = df_cleaned.drop(['status', 'is_successful'], axis=1)\n",
        "y = df_cleaned['is_successful']"
      ]
    },
    {
      "cell_type": "code",
      "execution_count": null,
      "metadata": {
        "colab": {
          "base_uri": "https://localhost:8080/"
        },
        "id": "QFd4SGTZBTXK",
        "outputId": "87036dca-f0ff-4e5f-c28e-a2607e4ba8ab"
      },
      "outputs": [
        {
          "name": "stdout",
          "output_type": "stream",
          "text": [
            "funding_total_usd        0\n",
            "status                   0\n",
            "country_code             0\n",
            "city                     0\n",
            "funding_rounds           0\n",
            "main_category            0\n",
            "time_to_first_funding    0\n",
            "funding_duration         0\n",
            "is_successful            0\n",
            "dtype: int64\n"
          ]
        }
      ],
      "source": [
        "missing_values = df_cleaned.isnull().sum()\n",
        "print(missing_values)"
      ]
    },
    {
      "cell_type": "markdown",
      "metadata": {
        "id": "EHgLdnaM-9OJ"
      },
      "source": [
        "# **KNN**\n"
      ]
    },
    {
      "cell_type": "markdown",
      "metadata": {
        "id": "RuinglG56OM4"
      },
      "source": [
        "### Model 1"
      ]
    },
    {
      "cell_type": "code",
      "execution_count": null,
      "metadata": {
        "colab": {
          "background_save": true
        },
        "id": "xmcay76S-884",
        "outputId": "1db030ad-a6f1-49ad-d682-1992d457167c"
      },
      "outputs": [
        {
          "data": {
            "image/png": "[encoded data removed]",
            "text/plain": [
              "<Figure size 1000x600 with 1 Axes>"
            ]
          },
          "metadata": {},
          "output_type": "display_data"
        },
        {
          "data": {
            "text/plain": [
              "(49, 0.55)"
            ]
          },
          "execution_count": 20,
          "metadata": {},
          "output_type": "execute_result"
        }
      ],
      "source": [
        "# Split the data into training and testing sets\n",
        "X_train_knn, X_test_knn, y_train_knn, y_test_knn = train_test_split(X, y, test_size=0.2, random_state=123123)\n",
        "\n",
        "# Create a pipeline for the KNN model\n",
        "# This pipeline first scales the data using StandardScaler and then applies KNN\n",
        "knn_pipeline = Pipeline([\n",
        "    ('scaler', StandardScaler()),  # Standardize features to have mean=0 and variance=1\n",
        "    ('knn', KNeighborsClassifier())  # KNN classifier\n",
        "])\n",
        "\n",
        "# Define a grid of hyperparameters for KNN\n",
        "# In this case, we're tuning the number of neighbors (k)\n",
        "param_grid = {\n",
        "    'knn__n_neighbors': list(range(1, 51, 2))  # Testing odd values of k from 1 to 49\n",
        "}\n",
        "\n",
        "# Use Stratified K-Folds cross-validator\n",
        "stratified_kfold = StratifiedKFold(n_splits=5, shuffle=True, random_state=42)\n",
        "\n",
        "# Use GridSearchCV to perform cross-validation for each value of k\n",
        "# This will automatically find the best value of k that gives the highest accuracy\n",
        "grid_search = GridSearchCV(knn_pipeline, param_grid, cv=stratified_kfold, scoring='precision', n_jobs=-1)\n",
        "grid_search.fit(X_train_knn, y_train_knn)\n",
        "\n",
        "# Extract the best value of k and its corresponding accuracy score\n",
        "best_k = grid_search.best_params_['knn__n_neighbors']\n",
        "best_score = grid_search.best_score_\n",
        "\n",
        "# Extract the mean cross-validation scores for each k value from the grid search results\n",
        "mean_scores = grid_search.cv_results_['mean_test_score']\n",
        "\n",
        "# Plot the scores\n",
        "plt.figure(figsize=(10, 6))\n",
        "plt.plot(param_grid['knn__n_neighbors'], mean_scores, marker='o', linestyle='-')\n",
        "plt.xlabel('Number of Neighbors (k)')\n",
        "plt.ylabel('Mean Cross-Validation Precision')\n",
        "plt.title('KNN Model Precision for Different Values of k')\n",
        "plt.grid(True)\n",
        "plt.show()\n",
        "\n",
        "(best_k, best_score)"
      ]
    },
    {
      "cell_type": "code",
      "execution_count": null,
      "metadata": {
        "colab": {
          "background_save": true
        },
        "id": "06smWWCzorAQ",
        "outputId": "d899582b-452a-4d28-e66f-254d78836f26"
      },
      "outputs": [
        {
          "data": {
            "image/png": "[encoded data removed]",
            "text/plain": [
              "<Figure size 800x600 with 2 Axes>"
            ]
          },
          "metadata": {},
          "output_type": "display_data"
        }
      ],
      "source": [
        "knn_pipeline.set_params(knn__n_neighbors=best_k)\n",
        "knn_pipeline.fit(X_train_knn, y_train_knn)\n",
        "\n",
        "# Predict on the test set\n",
        "y_pred_knn = knn_pipeline.predict(X_test_knn)\n",
        "\n",
        "# Generate the confusion matrix for the best k\n",
        "conf_matrix_best_k = confusion_matrix(y_test_knn, y_pred_knn)\n",
        "\n",
        "conf_matrix_best_k, best_k, best_score\n",
        "\n",
        "# Plot the confusion matrix\n",
        "plt.figure(figsize=(8, 6))\n",
        "sns.heatmap(conf_matrix_best_k, annot=True, fmt='g', cmap='Blues', xticklabels=['Not Successful', 'Successful'], yticklabels=['Not Successful', 'Successful'])\n",
        "plt.title('Confusion Matrix')\n",
        "plt.ylabel('Actual Label')\n",
        "plt.xlabel('Predicted Label')\n",
        "plt.show()"
      ]
    },
    {
      "cell_type": "code",
      "execution_count": null,
      "metadata": {
        "colab": {
          "background_save": true
        },
        "id": "hMUUZQkVJK_p",
        "outputId": "4f165cba-c9a1-45d6-b01f-46ddaca0d721"
      },
      "outputs": [
        {
          "data": {
            "image/png": "[encoded data removed]",
            "text/plain": [
              "<Figure size 640x480 with 1 Axes>"
            ]
          },
          "metadata": {},
          "output_type": "display_data"
        },
        {
          "data": {
            "text/plain": [
              "(0.8790862544308783, 0.0010857763300760044, 0.0021668472372697724)"
            ]
          },
          "execution_count": 22,
          "metadata": {},
          "output_type": "execute_result"
        }
      ],
      "source": [
        "# Metrics calculation\n",
        "accuracy = accuracy_score(y_test_knn, y_pred_knn)\n",
        "recall = recall_score(y_test_knn, y_pred_knn, pos_label=1)\n",
        "f1 = f1_score(y_test_knn, y_pred_knn, pos_label=1)\n",
        "\n",
        "# Metrics for plotting\n",
        "metrics = {'Accuracy': accuracy, 'Recall': recall, 'F1 Score': f1}\n",
        "\n",
        "# Plotting\n",
        "plt.bar(metrics.keys(), metrics.values(), color=['blue', 'orange', 'green'])\n",
        "\n",
        "plt.xlabel('Metrics')\n",
        "plt.ylabel('Scores')\n",
        "plt.title('Performance Metrics for KNN Classifier')\n",
        "plt.ylim([0, 1])  # Assuming scores are between 0 and 1\n",
        "plt.show()\n",
        "\n",
        "accuracy, recall, f1"
      ]
    },
    {
      "cell_type": "markdown",
      "metadata": {
        "id": "R-yUvxOQK9Hc"
      },
      "source": [
        "# Model 2"
      ]
    },
    {
      "cell_type": "code",
      "execution_count": null,
      "metadata": {
        "colab": {
          "background_save": true
        },
        "id": "pn6pq_UmmcSQ",
        "outputId": "06e0c5b6-a4de-4962-b12f-2ba7d83975c3"
      },
      "outputs": [
        {
          "data": {
            "image/png": "[encoded data removed]",
            "text/plain": [
              "<Figure size 1000x600 with 1 Axes>"
            ]
          },
          "metadata": {},
          "output_type": "display_data"
        },
        {
          "data": {
            "text/plain": [
              "(49, 0.6533333333333333)"
            ]
          },
          "execution_count": 23,
          "metadata": {},
          "output_type": "execute_result"
        }
      ],
      "source": [
        "# Prepare the data for KNN model\n",
        "# Jeremy removed datetime drop to earlier\n",
        "\n",
        "# Split the data into training and testing sets\n",
        "X_train_knn, X_test_knn, y_train_knn, y_test_knn = train_test_split(X, y, test_size=0.2, random_state=123123, stratify=y)\n",
        "\n",
        "# Create a pipeline for the KNN model\n",
        "# This pipeline first scales the data using StandardScaler and then applies KNN\n",
        "knn_pipeline = Pipeline([\n",
        "    ('scaler', StandardScaler()),  # Standardize features to have mean=0 and variance=1\n",
        "    ('knn', KNeighborsClassifier())  # KNN classifier\n",
        "])\n",
        "\n",
        "# Define a grid of hyperparameters for KNN\n",
        "# In this case, we're tuning the number of neighbors (k)\n",
        "param_grid = {\n",
        "    'knn__n_neighbors': list(range(1, 51, 2))  # Testing odd values of k from 1 to 49\n",
        "}\n",
        "\n",
        "# Use Stratified K-Folds cross-validator\n",
        "stratified_kfold = StratifiedKFold(n_splits=5, shuffle=True, random_state=42)\n",
        "\n",
        "# Use GridSearchCV to perform cross-validation for each value of k\n",
        "# This will automatically find the best value of k that gives the highest accuracy\n",
        "grid_search = GridSearchCV(knn_pipeline, param_grid, cv=stratified_kfold, scoring='precision', n_jobs=-1)\n",
        "grid_search.fit(X_train_knn, y_train_knn)\n",
        "\n",
        "# Extract the best value of k and its corresponding accuracy score\n",
        "best_k = grid_search.best_params_['knn__n_neighbors']\n",
        "best_score = grid_search.best_score_\n",
        "\n",
        "# Extract the mean cross-validation scores for each k value from the grid search results\n",
        "mean_scores = grid_search.cv_results_['mean_test_score']\n",
        "\n",
        "# Plot the scores\n",
        "plt.figure(figsize=(10, 6))\n",
        "plt.plot(param_grid['knn__n_neighbors'], mean_scores, marker='o', linestyle='-')\n",
        "plt.xlabel('Number of Neighbors (k)')\n",
        "plt.ylabel('Mean Cross-Validation Precision')\n",
        "plt.title('KNN Model Precision for Different Values of k')\n",
        "plt.grid(True)\n",
        "plt.show()\n",
        "\n",
        "(best_k, best_score)"
      ]
    },
    {
      "cell_type": "code",
      "execution_count": null,
      "metadata": {
        "colab": {
          "background_save": true
        },
        "id": "VjzBl5Ixoc9Z",
        "outputId": "f6a3a557-b127-4fc1-df0b-7c193d44bf60"
      },
      "outputs": [
        {
          "data": {
            "image/png": "[encoded data removed]",
            "text/plain": [
              "<Figure size 800x600 with 2 Axes>"
            ]
          },
          "metadata": {},
          "output_type": "display_data"
        }
      ],
      "source": [
        "knn_pipeline.set_params(knn__n_neighbors=best_k)\n",
        "knn_pipeline.fit(X_train_knn, y_train_knn)\n",
        "\n",
        "# Predict on the test set\n",
        "y_pred_knn = knn_pipeline.predict(X_test_knn)\n",
        "\n",
        "# Generate the confusion matrix for the best k\n",
        "conf_matrix_best_k = confusion_matrix(y_test_knn, y_pred_knn)\n",
        "\n",
        "conf_matrix_best_k, best_k, best_score\n",
        "\n",
        "# Plot the confusion matrix\n",
        "plt.figure(figsize=(8, 6))\n",
        "sns.heatmap(conf_matrix_best_k, annot=True, fmt='g', cmap='Blues', xticklabels=['Not Successful', 'Successful'], yticklabels=['Not Successful', 'Successful'])\n",
        "plt.title('Confusion Matrix')\n",
        "plt.ylabel('Actual Label')\n",
        "plt.xlabel('Predicted Label')\n",
        "plt.show()"
      ]
    },
    {
      "cell_type": "code",
      "execution_count": null,
      "metadata": {
        "colab": {
          "background_save": true
        },
        "id": "6jm-0vL3JgKf",
        "outputId": "462864ff-aa80-44e6-f5a1-52276fb37cd4"
      },
      "outputs": [
        {
          "data": {
            "image/png": "[encoded data removed]",
            "text/plain": [
              "<Figure size 640x480 with 1 Axes>"
            ]
          },
          "metadata": {},
          "output_type": "display_data"
        },
        {
          "data": {
            "text/plain": [
              "(0.8776421163187607, 0.001075268817204301, 0.002141327623126338)"
            ]
          },
          "execution_count": 25,
          "metadata": {},
          "output_type": "execute_result"
        }
      ],
      "source": [
        "# Metrics calculation\n",
        "accuracy = accuracy_score(y_test_knn, y_pred_knn)\n",
        "recall = recall_score(y_test_knn, y_pred_knn, pos_label=1)\n",
        "f1 = f1_score(y_test_knn, y_pred_knn, pos_label=1)\n",
        "\n",
        "# Metrics for plotting\n",
        "metrics = {'Accuracy': accuracy, 'Recall': recall, 'F1 Score': f1}\n",
        "\n",
        "# Plotting\n",
        "plt.bar(metrics.keys(), metrics.values(), color=['blue', 'orange', 'green'])\n",
        "\n",
        "plt.xlabel('Metrics')\n",
        "plt.ylabel('Scores')\n",
        "plt.title('Performance Metrics for KNN Classifier')\n",
        "plt.ylim([0, 1])  # Assuming scores are between 0 and 1\n",
        "plt.show()\n",
        "\n",
        "accuracy, recall, f1"
      ]
    },
    {
      "cell_type": "markdown",
      "metadata": {
        "id": "-5DLqQVZJhlK"
      },
      "source": [
        "# Model 3\n",
        "## Undersampling"
      ]
    },
    {
      "cell_type": "code",
      "execution_count": null,
      "metadata": {
        "colab": {
          "background_save": true
        },
        "id": "z0aHf-sYJkmJ",
        "outputId": "742d0c18-70e7-4831-dc36-786e0307eb45"
      },
      "outputs": [
        {
          "data": {
            "image/png": "[encoded data removed]",
            "text/plain": [
              "<Figure size 1000x600 with 1 Axes>"
            ]
          },
          "metadata": {},
          "output_type": "display_data"
        },
        {
          "data": {
            "text/plain": [
              "(49, 0.6468143263119075)"
            ]
          },
          "execution_count": 26,
          "metadata": {},
          "output_type": "execute_result"
        }
      ],
      "source": [
        "# Separate the majority and minority classes\n",
        "df_majority = df_cleaned[df_cleaned['is_successful'] == 0]\n",
        "df_minority = df_cleaned[df_cleaned['is_successful'] == 1]\n",
        "\n",
        "# Downsample the majority class\n",
        "df_majority_downsampled = resample(df_majority,\n",
        "                                   replace=False,            # sample without replacement\n",
        "                                   n_samples=len(df_minority), # to match minority class\n",
        "                                   random_state=42)          # reproducible results\n",
        "\n",
        "# Combine the minority class with the downsampled majority class\n",
        "df_undersampled = pd.concat([df_majority_downsampled, df_minority])\n",
        "\n",
        "# Check the class distribution in the undersampled data\n",
        "undersampled_class_distribution = df_undersampled['is_successful'].value_counts()\n",
        "undersampled_class_distribution\n",
        "\n",
        "\n",
        "# Extract the features and target from the undersampled data\n",
        "X_knn = df_undersampled.drop(['status', 'is_successful'], axis=1)\n",
        "y_knn = df_undersampled['is_successful']\n",
        "\n",
        "# Split the undersampled data into training and testing sets\n",
        "X_train_knn, X_test_knn, y_train_knn, y_test_knn = train_test_split(X_knn, y_knn, test_size=0.2, random_state=123123, stratify=y_knn)\n",
        "\n",
        "# Define a pipeline for the KNN classifier\n",
        "knn_pipeline = Pipeline([\n",
        "    ('scaler', StandardScaler()),  # Standardize features to have mean=0 and variance=1\n",
        "    ('knn', KNeighborsClassifier())  # KNN classifier\n",
        "])\n",
        "\n",
        "# Define a range of k values to test with the KNN classifier\n",
        "param_grid = {\n",
        "    'knn__n_neighbors': list(range(1, 51, 2))  # Testing odd values of k from 1 to 49\n",
        "}\n",
        "\n",
        "# Use Stratified K-Folds cross-validator\n",
        "stratified_kfold = StratifiedKFold(n_splits=5, shuffle=True, random_state=42)\n",
        "\n",
        "# Use GridSearchCV to perform cross-validation for each k value in the specified range\n",
        "grid_search = GridSearchCV(knn_pipeline, param_grid, cv=stratified_kfold, scoring='accuracy', n_jobs=-1)\n",
        "grid_search.fit(X_train_knn, y_train_knn)\n",
        "\n",
        "# Extract the best k value and its corresponding accuracy score from the grid search results\n",
        "best_k = grid_search.best_params_['knn__n_neighbors']\n",
        "best_score = grid_search.best_score_\n",
        "\n",
        "# Extract the mean cross-validation scores for each k value from the grid search results\n",
        "mean_scores = grid_search.cv_results_['mean_test_score']\n",
        "\n",
        "# Plot the scores\n",
        "plt.figure(figsize=(10, 6))\n",
        "plt.plot(param_grid['knn__n_neighbors'], mean_scores, marker='o', linestyle='-')\n",
        "plt.xlabel('Number of Neighbors (k)')\n",
        "plt.ylabel('Mean Cross-Validation Accuracy')\n",
        "plt.title('KNN Model Accuracy for Different Values of k')\n",
        "plt.grid(True)\n",
        "plt.show()\n",
        "\n",
        "(best_k, best_score)"
      ]
    },
    {
      "cell_type": "code",
      "execution_count": null,
      "metadata": {
        "colab": {
          "background_save": true
        },
        "id": "kXGgtA-ZJm8M",
        "outputId": "25ed609e-da65-41ec-ab1b-1eeffb6e466e"
      },
      "outputs": [
        {
          "data": {
            "image/png": "[encoded data removed]",
            "text/plain": [
              "<Figure size 800x600 with 2 Axes>"
            ]
          },
          "metadata": {},
          "output_type": "display_data"
        }
      ],
      "source": [
        "knn_pipeline.set_params(knn__n_neighbors=best_k)\n",
        "knn_pipeline.fit(X_train_knn, y_train_knn)\n",
        "\n",
        "# Predict on the test set\n",
        "y_pred_knn = knn_pipeline.predict(X_test_knn)\n",
        "\n",
        "# Generate the confusion matrix for the best k\n",
        "conf_matrix_best_k = confusion_matrix(y_test_knn, y_pred_knn)\n",
        "\n",
        "conf_matrix_best_k, best_k, best_score\n",
        "\n",
        "# Plot the confusion matrix\n",
        "plt.figure(figsize=(8, 6))\n",
        "sns.heatmap(conf_matrix_best_k, annot=True, fmt='g', cmap='Blues', xticklabels=['Not Successful', 'Successful'], yticklabels=['Not Successful', 'Successful'])\n",
        "plt.title('Confusion Matrix')\n",
        "plt.ylabel('Actual Label')\n",
        "plt.xlabel('Predicted Label')\n",
        "plt.show()"
      ]
    },
    {
      "cell_type": "code",
      "execution_count": null,
      "metadata": {
        "colab": {
          "background_save": true
        },
        "id": "X8ZRqPv9JoSx",
        "outputId": "78401b30-c2ff-4be4-bded-2f4a5abd07c8"
      },
      "outputs": [
        {
          "data": {
            "image/png": "[encoded data removed]",
            "text/plain": [
              "<Figure size 640x480 with 1 Axes>"
            ]
          },
          "metadata": {},
          "output_type": "display_data"
        },
        {
          "data": {
            "text/plain": [
              "(0.6458797327394209, 0.6236559139784946, 0.6345733041575492)"
            ]
          },
          "execution_count": 28,
          "metadata": {},
          "output_type": "execute_result"
        }
      ],
      "source": [
        "# Metrics calculation\n",
        "precision = precision_score(y_test_knn, y_pred_knn)\n",
        "recall = recall_score(y_test_knn, y_pred_knn, pos_label=1)\n",
        "f1 = f1_score(y_test_knn, y_pred_knn, pos_label=1)\n",
        "\n",
        "# Metrics for plotting\n",
        "metrics = {'Precision': precision, 'Recall': recall, 'F1 Score': f1}\n",
        "\n",
        "# Plotting\n",
        "plt.bar(metrics.keys(), metrics.values(), color=['blue', 'orange', 'green'])\n",
        "\n",
        "plt.xlabel('Metrics')\n",
        "plt.ylabel('Scores')\n",
        "plt.title('Performance Metrics for KNN Classifier')\n",
        "plt.ylim([0, 1])  # Assuming scores are between 0 and 1\n",
        "plt.show()\n",
        "\n",
        "precision, recall, f1"
      ]
    },
    {
      "cell_type": "markdown",
      "metadata": {
        "id": "cv0RJmiZJtFq"
      },
      "source": [
        "# Model 4\n",
        "# Oversampling"
      ]
    },
    {
      "cell_type": "code",
      "execution_count": null,
      "metadata": {
        "colab": {
          "background_save": true
        },
        "id": "xvUKImeNJzbJ",
        "outputId": "fc08d95e-3289-458d-d8b0-77efb12988ba"
      },
      "outputs": [
        {
          "name": "stdout",
          "output_type": "stream",
          "text": [
            "0    33436\n",
            "1    33436\n",
            "Name: is_successful, dtype: int64\n"
          ]
        },
        {
          "data": {
            "image/png": "[encoded data removed]",
            "text/plain": [
              "<Figure size 1000x600 with 1 Axes>"
            ]
          },
          "metadata": {},
          "output_type": "display_data"
        },
        {
          "name": "stdout",
          "output_type": "stream",
          "text": [
            "Best number of neighbors: 10\n",
            "Best cross-validation accuracy: 0.720339477966759\n"
          ]
        }
      ],
      "source": [
        "# Separate the majority and minority classes\n",
        "df_majority = df_cleaned[df_cleaned['is_successful'] == 0]\n",
        "df_minority = df_cleaned[df_cleaned['is_successful'] == 1]\n",
        "\n",
        "# Oversample the minority class\n",
        "df_minority_oversampled = resample(df_minority,\n",
        "                                   replace=True,               # sample with replacement\n",
        "                                   n_samples=len(df_majority), # to match majority class\n",
        "                                   random_state=42)            # reproducible results\n",
        "\n",
        "# Combine the majority class with the oversampled minority class\n",
        "df_oversampled = pd.concat([df_majority, df_minority_oversampled])\n",
        "\n",
        "# Check the class distribution in the oversampled data\n",
        "oversampled_class_distribution = df_oversampled['is_successful'].value_counts()\n",
        "print(oversampled_class_distribution)\n",
        "\n",
        "# Extract the features and target from the oversampled data\n",
        "X_knn = df_oversampled.drop(['status', 'is_successful'], axis=1)\n",
        "y_knn = df_oversampled['is_successful']\n",
        "\n",
        "# Split the oversampled data into training and testing sets\n",
        "X_train_knn, X_test_knn, y_train_knn, y_test_knn = train_test_split(X_knn, y_knn, test_size=0.2, random_state=123123, stratify=y_knn)\n",
        "\n",
        "# Define a pipeline for the KNN classifier\n",
        "knn_pipeline = Pipeline([\n",
        "    ('scaler', StandardScaler()),  # Standardize features to have mean=0 and variance=1\n",
        "    ('knn', KNeighborsClassifier())  # KNN classifier\n",
        "])\n",
        "\n",
        "# Define a range of k values to test with the KNN classifier\n",
        "param_grid = {\n",
        "    'knn__n_neighbors': list(range(10, 51, 2))  # Testing odd values of k from 1 to 49\n",
        "}\n",
        "\n",
        "# Use Stratified K-Folds cross-validator\n",
        "stratified_kfold = StratifiedKFold(n_splits=5, shuffle=True, random_state=42)\n",
        "\n",
        "# Use GridSearchCV to perform cross-validation for each k value in the specified range\n",
        "grid_search = GridSearchCV(knn_pipeline, param_grid, cv=stratified_kfold, scoring='accuracy', n_jobs=-1)\n",
        "grid_search.fit(X_train_knn, y_train_knn)\n",
        "\n",
        "# Extract the best k value and its corresponding accuracy score from the grid search results\n",
        "best_k = grid_search.best_params_['knn__n_neighbors']\n",
        "best_score = grid_search.best_score_\n",
        "\n",
        "# Extract the mean cross-validation scores for each k value from the grid search results\n",
        "mean_scores = grid_search.cv_results_['mean_test_score']\n",
        "\n",
        "# Plot the scores\n",
        "plt.figure(figsize=(10, 6))\n",
        "plt.plot(param_grid['knn__n_neighbors'], mean_scores, marker='o', linestyle='-')\n",
        "plt.xlabel('Number of Neighbors (k)')\n",
        "plt.ylabel('Mean Cross-Validation Accuracy')\n",
        "plt.title('KNN Model Accuracy for Different Values of k')\n",
        "plt.grid(True)\n",
        "plt.show()\n",
        "\n",
        "print(\"Best number of neighbors:\", best_k)\n",
        "print(\"Best cross-validation accuracy:\", best_score)\n"
      ]
    },
    {
      "cell_type": "code",
      "execution_count": null,
      "metadata": {
        "colab": {
          "background_save": true
        },
        "id": "7SpoOXbbJ0l6",
        "outputId": "b847ecc3-decc-4815-b946-610b75770e72"
      },
      "outputs": [
        {
          "data": {
            "image/png": "[encoded data removed]",
            "text/plain": [
              "<Figure size 800x600 with 2 Axes>"
            ]
          },
          "metadata": {},
          "output_type": "display_data"
        }
      ],
      "source": [
        "knn_pipeline.set_params(knn__n_neighbors=best_k)\n",
        "knn_pipeline.fit(X_train_knn, y_train_knn)\n",
        "\n",
        "# Predict on the test set\n",
        "y_pred_knn = knn_pipeline.predict(X_test_knn)\n",
        "\n",
        "# Generate the confusion matrix for the best k\n",
        "conf_matrix_best_k = confusion_matrix(y_test_knn, y_pred_knn)\n",
        "\n",
        "conf_matrix_best_k, best_k, best_score\n",
        "\n",
        "# Plot the confusion matrix\n",
        "plt.figure(figsize=(8, 6))\n",
        "sns.heatmap(conf_matrix_best_k, annot=True, fmt='g', cmap='Blues', xticklabels=['Not Successful', 'Successful'], yticklabels=['Not Successful', 'Successful'])\n",
        "plt.title('Confusion Matrix')\n",
        "plt.ylabel('Actual Label')\n",
        "plt.xlabel('Predicted Label')\n",
        "plt.show()"
      ]
    },
    {
      "cell_type": "code",
      "execution_count": null,
      "metadata": {
        "colab": {
          "background_save": true
        },
        "id": "Ia0G4NalJ2xF",
        "outputId": "5ed0ea14-84ac-48ad-beda-02f7fdc587e0"
      },
      "outputs": [
        {
          "data": {
            "image/png": "[encoded data removed]",
            "text/plain": [
              "<Figure size 640x480 with 1 Axes>"
            ]
          },
          "metadata": {},
          "output_type": "display_data"
        },
        {
          "data": {
            "text/plain": [
              "(0.712448024948025, 0.8198265550239234, 0.7623748609566185)"
            ]
          },
          "execution_count": 31,
          "metadata": {},
          "output_type": "execute_result"
        }
      ],
      "source": [
        "# Metrics calculation\n",
        "precision = precision_score(y_test_knn, y_pred_knn)\n",
        "recall = recall_score(y_test_knn, y_pred_knn, pos_label=1)\n",
        "f1 = f1_score(y_test_knn, y_pred_knn, pos_label=1)\n",
        "\n",
        "# Metrics for plotting\n",
        "metrics = {'Precision': precision, 'Recall': recall, 'F1 Score': f1}\n",
        "\n",
        "# Plotting\n",
        "plt.bar(metrics.keys(), metrics.values(), color=['blue', 'orange', 'green'])\n",
        "\n",
        "plt.xlabel('Metrics')\n",
        "plt.ylabel('Scores')\n",
        "plt.title('Performance Metrics for KNN Classifier')\n",
        "plt.ylim([0, 1])  # Assuming scores are between 0 and 1\n",
        "plt.show()\n",
        "\n",
        "precision, recall, f1"
      ]
    },
    {
      "cell_type": "markdown",
      "metadata": {
        "id": "42urHGHH3G6f"
      },
      "source": [
        "# **Deep Learning**"
      ]
    },
    {
      "cell_type": "code",
      "execution_count": null,
      "metadata": {
        "id": "GYjYo0Ge3K64"
      },
      "outputs": [],
      "source": [
        "# Separate the majority and minority classes\n",
        "df_majority = df_cleaned[df_cleaned['is_successful'] == 0]\n",
        "df_minority = df_cleaned[df_cleaned['is_successful'] == 1]\n",
        "\n",
        "# Oversample the minority class\n",
        "df_minority_oversampled = resample(df_minority,\n",
        "                                   replace=True,               # sample with replacement\n",
        "                                   n_samples=len(df_majority), # to match majority class\n",
        "                                   random_state=42)            # reproducible results\n",
        "\n",
        "# Combine the majority class with the oversampled minority class\n",
        "df_oversampled = pd.concat([df_majority, df_minority_oversampled])\n",
        "\n",
        "# Check the class distribution in the oversampled data\n",
        "oversampled_class_distribution = df_oversampled['is_successful'].value_counts()\n",
        "print(oversampled_class_distribution)\n",
        "\n",
        "# Extract the features and target from the oversampled data\n",
        "X_nn = df_oversampled.drop(['status', 'is_successful'], axis=1)\n",
        "y_nn = df_oversampled['is_successful']\n",
        "\n",
        "X_train_nn, X_test_nn, y_train_nn, y_test_nnn = train_test_split(X_nn, y_nn, test_size=0.2, random_state=123123, stratify=y_nn)\n",
        "\n",
        "# Normalizing the data\n",
        "scaler = StandardScaler()\n",
        "X_train_scaled = scaler.fit_transform(X_train_nn)\n",
        "X_test_scaled = scaler.transform(X_test_nn)\n",
        "\n",
        "# Building the neural network model\n",
        "model = Sequential([\n",
        "    Dense(64, activation='relu', input_shape=(X_train_scaled.shape[1],)),\n",
        "    Dense(32, activation='relu'),\n",
        "    Dense(32, activation='relu'),\n",
        "    Dense(32, activation='relu'),\n",
        "    Dense(16, activation='relu'),\n",
        "    Dense(1, activation='sigmoid')  # Sigmoid for binary classification\n",
        "])\n",
        "\n",
        "\n",
        "# Compiling the model\n",
        "model.compile(optimizer='adam', loss='binary_crossentropy', metrics=['accuracy', Precision(), Recall()])\n",
        "\n",
        "# Summary of the model\n",
        "model.summary()\n",
        "\n",
        "# Training the model\n",
        "history = model.fit(X_train_scaled, y_train_nn, epochs=200, batch_size=32, validation_split=0.2, verbose=1)\n"
      ]
    },
    {
      "cell_type": "code",
      "execution_count": null,
      "metadata": {
        "id": "28bBMrEHJ8QL"
      },
      "outputs": [],
      "source": [
        "# Print out the final metrics\n",
        "print(f\"Final Training Accuracy: {history.history['accuracy'][-1]}\")\n",
        "print(f\"Final Validation Accuracy: {history.history['val_accuracy'][-1]}\")\n",
        "print(f\"Final Training Loss: {history.history['loss'][-1]}\")\n",
        "print(f\"Final Validation Loss: {history.history['val_loss'][-1]}\")\n",
        "\n",
        "# Plot training & validation accuracy values\n",
        "plt.figure(figsize=(14, 7))\n",
        "\n",
        "# Plot training accuracy\n",
        "plt.subplot(1, 3, 1)\n",
        "plt.plot(history.history['accuracy'])\n",
        "plt.plot(history.history['val_accuracy'])\n",
        "plt.title('Model Accuracy')\n",
        "plt.ylabel('Accuracy')\n",
        "plt.xlabel('Epoch')\n",
        "plt.legend(['Train', 'Val'], loc='upper left')\n",
        "\n",
        "# Plot training & validation loss values\n",
        "plt.subplot(1, 3, 2)\n",
        "plt.plot(history.history['loss'])\n",
        "plt.plot(history.history['val_loss'])\n",
        "plt.title('Model Loss')\n",
        "plt.ylabel('Loss')\n",
        "plt.xlabel('Epoch')\n",
        "plt.legend(['Train', 'Val'], loc='upper left')\n",
        "\n",
        "plt.tight_layout()\n",
        "plt.show()"
      ]
    },
    {
      "cell_type": "code",
      "execution_count": null,
      "metadata": {
        "id": "KWDwudwmJ-Zd"
      },
      "outputs": [],
      "source": [
        "# Print out the final metrics\n",
        "print(f\"Final Training Precision: {history.history['precision'][-1]}\")\n",
        "print(f\"Final Validation Precision: {history.history['val_precision'][-1]}\")\n",
        "print(f\"Final Training Recall: {history.history['recall'][-1]}\")\n",
        "print(f\"Final Validation Recall: {history.history['val_recall'][-1]}\")\n",
        "\n",
        "# Plot training & validation accuracy values\n",
        "plt.figure(figsize=(14, 7))\n",
        "\n",
        "# Since the keys are standard, we can use them directly\n",
        "precision_key = 'precision'\n",
        "val_precision_key = 'val_precision'\n",
        "recall_key = 'recall'\n",
        "val_recall_key = 'val_recall'\n",
        "\n",
        "# Plot training & validation precision values\n",
        "plt.subplot(1, 2, 1)\n",
        "plt.plot(history.history[precision_key])\n",
        "plt.plot(history.history[val_precision_key])\n",
        "plt.title('Model Precision')\n",
        "plt.ylabel('Precision')\n",
        "plt.xlabel('Epoch')\n",
        "plt.legend(['Train', 'Val'], loc='upper left')\n",
        "\n",
        "# Plot training & validation recall values\n",
        "plt.subplot(1, 2, 2)\n",
        "plt.plot(history.history[recall_key])\n",
        "plt.plot(history.history[val_recall_key])\n",
        "plt.title('Model Recall')\n",
        "plt.ylabel('Recall')\n",
        "plt.xlabel('Epoch')\n",
        "plt.legend(['Train', 'Val'], loc='upper left')\n",
        "\n",
        "plt.tight_layout()\n",
        "plt.show()"
      ]
    },
    {
      "cell_type": "markdown",
      "metadata": {
        "id": "jzlFA6BJilnZ"
      },
      "source": [
        "# **Logistic Regression**"
      ]
    },
    {
      "cell_type": "markdown",
      "metadata": {
        "id": "DNHcCVmiitM_"
      },
      "source": [
        "## **Stratified sampling**\n",
        "This ensures that both sets have the same proportion of each class, and the test set remains a realistic representation of the original data, as we have noticed that there is a class imbalance."
      ]
    },
    {
      "cell_type": "code",
      "execution_count": null,
      "metadata": {
        "id": "FqPlm8cfiw-Y"
      },
      "outputs": [],
      "source": [
        "from sklearn.model_selection import train_test_split\n",
        "# Splitting the data into training and test sets using stratified sampling\n",
        "X_train_LR, X_test_LR, y_train_LR, y_test_LR = train_test_split(X, y, test_size=0.3, stratify=y, random_state=20)\n",
        "\n",
        "# Further splitting the train data into training data, and validation set.\n",
        "X_train_LR2, X_train_LR_val, y_train_LR2, y_train_LR_val = train_test_split(X_train_LR, y_train_LR, test_size=0.2, stratify=y_train_LR, random_state=20)\n",
        "\n",
        "\n",
        "# Calculating class proportions in the original data, training set, and test set\n",
        "original_proportions = y.value_counts(normalize=True)\n",
        "train_proportions = y_train_LR.value_counts(normalize=True)\n",
        "val_proportions = y_train_LR_val.value_counts(normalize=True)\n",
        "test_proportions = y_test_LR.value_counts(normalize=True)\n",
        "\n",
        "print(\"Original proportions:\\n{}\\n\\nTrain Proportions:\\n{}\\n\\nValidation Proportions:\\n{}\\n\\nTest Proportions:\\n{}\".format(original_proportions,train_proportions,val_proportions,test_proportions))"
      ]
    },
    {
      "cell_type": "markdown",
      "metadata": {
        "id": "XaSLSS9DjAWh"
      },
      "source": [
        "## **Resampling:**\n",
        "In this section we will apply both undersampling and oversampling to the training dataset to balance the classes. We will then train the model on these two datasets."
      ]
    },
    {
      "cell_type": "code",
      "execution_count": null,
      "metadata": {
        "id": "C2pN03MSjDiK"
      },
      "outputs": [],
      "source": [
        "# Getting the necessary imports\n",
        "from sklearn.linear_model import LogisticRegression, LogisticRegressionCV\n",
        "from sklearn.metrics import classification_report, accuracy_score, confusion_matrix, precision_recall_curve\n",
        "from imblearn.under_sampling import RandomUnderSampler\n",
        "from imblearn.over_sampling import SMOTE"
      ]
    },
    {
      "cell_type": "markdown",
      "metadata": {
        "id": "MWyMPUsBjMtL"
      },
      "source": [
        "### **Undersampling:**\n",
        "We will reduce the number of instances from the majority class in the training set.\n",
        "We will use a custom_cv so that we can apply undersampling to each individual fold in the cross validation later."
      ]
    },
    {
      "cell_type": "code",
      "execution_count": null,
      "metadata": {
        "id": "u63gSP8LjQdf"
      },
      "outputs": [],
      "source": [
        "rus = RandomUnderSampler(random_state=20)\n",
        "X_train_downsampled, y_train_downsampled = rus.fit_resample(X_train_LR2, y_train_LR2)"
      ]
    },
    {
      "cell_type": "markdown",
      "metadata": {
        "id": "S8wp92YWjSuT"
      },
      "source": [
        "### **Oversampling:**\n",
        "We will increase the number of instances in the minority class in the training set. Here we will use imblearn's SMOTE to perform the oversampling."
      ]
    },
    {
      "cell_type": "code",
      "execution_count": null,
      "metadata": {
        "id": "BKcDoq4fjV6w"
      },
      "outputs": [],
      "source": [
        "smote = SMOTE(random_state=20)\n",
        "X_train_upsampled, y_train_upsampled = smote.fit_resample(X_train_LR2, y_train_LR2)"
      ]
    },
    {
      "cell_type": "markdown",
      "metadata": {
        "id": "KjR6vrV2jXWd"
      },
      "source": [
        "## **Feature selection**\n",
        "Here we will perform regularization to determine whether there are any features that can be removed/combined."
      ]
    },
    {
      "cell_type": "markdown",
      "metadata": {
        "id": "1CgM3nnXjmof"
      },
      "source": [
        "### **Feature selection using L1 Regularization (Lasso)**\n",
        "Lasso can help in feature selection by shrinking some coefficients to zero. By using cross-validation with a range of regularization strengths, we can identify which features remain non-zero across different regularization strengths.\n",
        "\n",
        "To ensure scaling is done within each fold of cross-validation to prevent data leakage, we'll set up a pipeline that includes scaling using StandardScaler and then logistic regression with L1 penalty."
      ]
    },
    {
      "cell_type": "code",
      "execution_count": null,
      "metadata": {
        "id": "eeunjSPzjpfE"
      },
      "outputs": [],
      "source": [
        "# Create a pipeline with scaling and logistic regression with L1 penalty (Lasso regularization)\n",
        "# Using a pipeline ensures that scaling is done within each fold to ensure no data leakage.\n",
        "pipe_lasso = Pipeline([\n",
        "    ('scaler', StandardScaler()),\n",
        "    ('clf', LogisticRegressionCV(penalty='l1', solver='saga', max_iter=10000, cv=5, random_state=20)) # Here we use saga as the optimizer due to its versatility in handling large or small datasets.\n",
        "])\n",
        "# Fit the pipeline on the undersampled data\n",
        "pipe_lasso.fit(X_train_downsampled, y_train_downsampled)\n",
        "coef_lasso_downsampled = pipe_lasso.named_steps['clf'].coef_\n",
        "score_lasso_downsampled = pipe_lasso.score(X_train_downsampled, y_train_downsampled)\n",
        "\n",
        "# Calculate the metrics for undersampled data\n",
        "y_pred_downsampled_l1 = pipe_lasso.predict(X_train_LR_val)\n",
        "precision_lasso_downsampled = precision_score(y_train_LR_val, y_pred_downsampled_l1)\n",
        "recall_lasso_downsampled = recall_score(y_train_LR_val, y_pred_downsampled_l1)\n",
        "f1_lasso_downsampled = f1_score(y_train_LR_val, y_pred_downsampled_l1)\n",
        "\n",
        "# Fit the pipeline on the over-sampled data\n",
        "pipe_lasso.fit(X_train_upsampled, y_train_upsampled)\n",
        "coef_lasso_upsampled = pipe_lasso.named_steps['clf'].coef_\n",
        "score_lasso_upsampled = pipe_lasso.score(X_train_upsampled, y_train_upsampled)\n",
        "\n",
        "# Calculate the metrics for oversampled data\n",
        "y_pred_upsampled_l1 = pipe_lasso.predict(X_train_LR_val)\n",
        "precision_lasso_upsampled = precision_score(y_train_LR_val, y_pred_upsampled_l1)\n",
        "recall_lasso_upsampled = recall_score(y_train_LR_val, y_pred_upsampled_l1)\n",
        "f1_lasso_upsampled = f1_score(y_train_LR_val, y_pred_upsampled_l1)"
      ]
    },
    {
      "cell_type": "markdown",
      "metadata": {
        "id": "FRj-5taKjs2X"
      },
      "source": [
        "### **Feature selection using L2 regularization (Ridge)**\n",
        "While L1 regularization (Lasso) can help in feature selection by shrinking some coefficients to zero, L2 regularization (Ridge) will shrink coefficients toward zero without necessarily setting any to exactly zero"
      ]
    },
    {
      "cell_type": "code",
      "execution_count": null,
      "metadata": {
        "id": "AETo2-HMjvJq"
      },
      "outputs": [],
      "source": [
        "# Create a pipeline with scaling and logistic regression with L2 penalty (Ridge regularization)\n",
        "# Using a pipeline ensures that scaling is done within each fold to ensure no data leakage.\n",
        "pipe_ridge = Pipeline([\n",
        "    ('scaler', StandardScaler()),\n",
        "    ('clf', LogisticRegressionCV(penalty='l2', solver='saga', max_iter=10000, cv=5, random_state=20)) # Here we use saga as the optimizer due to its versatility in handling large or small datasets.\n",
        "])\n",
        "\n",
        "# Fit the pipeline on the under-sampled data\n",
        "pipe_ridge.fit(X_train_downsampled, y_train_downsampled)\n",
        "coef_ridge_downsampled = pipe_ridge.named_steps['clf'].coef_\n",
        "score_ridge_downsampled = pipe_ridge.score(X_train_downsampled, y_train_downsampled)\n",
        "\n",
        "# Calculate the metrics for undersampled data\n",
        "# We will validate the results against the validation set\n",
        "y_pred_downsampled_l2 = pipe_ridge.predict(X_train_LR_val)\n",
        "precision_ridge_downsampled = precision_score(y_train_LR_val, y_pred_downsampled_l2)\n",
        "recall_ridge_downsampled = recall_score(y_train_LR_val, y_pred_downsampled_l2)\n",
        "f1_ridge_downsampled = f1_score(y_train_LR_val, y_pred_downsampled_l2)\n",
        "\n",
        "# Fit the pipeline on the over-sampled data\n",
        "\n",
        "pipe_ridge.fit(X_train_upsampled, y_train_upsampled)\n",
        "coef_ridge_upsampled = pipe_ridge.named_steps['clf'].coef_\n",
        "score_ridge_upsampled = pipe_ridge.score(X_train_upsampled, y_train_upsampled)\n",
        "\n",
        "# Calculate the metrics for oversampled data\n",
        "# We will validate the results against the validation set\n",
        "y_pred_upsampled_l2 = pipe_ridge.predict(X_train_LR_val)\n",
        "precision_ridge_upsampled = precision_score(y_train_LR_val, y_pred_upsampled_l2)\n",
        "recall_ridge_upsampled = recall_score(y_train_LR_val, y_pred_upsampled_l2)\n",
        "f1_ridge_upsampled = f1_score(y_train_LR_val, y_pred_upsampled_l2)"
      ]
    },
    {
      "cell_type": "markdown",
      "metadata": {
        "id": "B01KaA-yjzVC"
      },
      "source": [
        "### We will also store all the confusion matrices next"
      ]
    },
    {
      "cell_type": "code",
      "execution_count": null,
      "metadata": {
        "id": "5GBB99PIj2Be"
      },
      "outputs": [],
      "source": [
        "from sklearn.metrics import confusion_matrix\n",
        "# For L1 Regularization (Lasso) - Downsampled\n",
        "conf_matrix_lasso_downsampled = confusion_matrix(y_train_LR_val, y_pred_downsampled_l1)\n",
        "\n",
        "# For L1 Regularization (Lasso) - Upsampled\n",
        "conf_matrix_lasso_upsampled = confusion_matrix(y_train_LR_val, y_pred_upsampled_l1)\n",
        "\n",
        "# For L2 Regularization (Ridge) - Downsampled\n",
        "conf_matrix_ridge_downsampled = confusion_matrix(y_train_LR_val, y_pred_downsampled_l2)\n",
        "\n",
        "# For L2 Regularization (Ridge) - Upsampled\n",
        "conf_matrix_ridge_upsampled = confusion_matrix(y_train_LR_val, y_pred_upsampled_l2)"
      ]
    },
    {
      "cell_type": "markdown",
      "metadata": {
        "id": "TKOWxiklj5LC"
      },
      "source": [
        "## **Visualizing the results to compare**\n",
        "Here we will visualize the results."
      ]
    },
    {
      "cell_type": "markdown",
      "metadata": {
        "id": "CrOhsuWUj8al"
      },
      "source": [
        "### **Plotting the coefficients**"
      ]
    },
    {
      "cell_type": "code",
      "execution_count": null,
      "metadata": {
        "id": "kJwV7uQHkAvV"
      },
      "outputs": [],
      "source": [
        "import matplotlib.pyplot as plt\n",
        "import numpy as np\n",
        "\n",
        "# Create a DataFrame for easy plotting\n",
        "coefs = pd.DataFrame({\n",
        "    'Feature': X_train_downsampled.columns,\n",
        "    'Lasso Downsampled': coef_lasso_downsampled.flatten(),  # Flatten in case the array is 2D\n",
        "    'Lasso Upsampled': coef_lasso_upsampled.flatten(),\n",
        "    'Ridge Downsampled': coef_ridge_downsampled.flatten(),\n",
        "    'Ridge Upsampled': coef_ridge_upsampled.flatten()\n",
        "})\n",
        "\n",
        "# Melting the DataFrame\n",
        "coefs_melted = coefs.melt(id_vars='Feature', var_name='Model', value_name='Coefficient')\n",
        "\n",
        "# Plotting\n",
        "plt.figure(figsize=(14, 8))\n",
        "sns.barplot(x='Feature', y='Coefficient', hue='Model', data=coefs_melted)\n",
        "plt.title('Comparison of Feature Coefficients')\n",
        "plt.xticks(rotation=90)\n",
        "plt.xlabel('Features')\n",
        "plt.ylabel('Coefficient Value')\n",
        "plt.legend(title='Model', loc='upper right')\n",
        "plt.tight_layout()\n",
        "plt.show()"
      ]
    },
    {
      "cell_type": "markdown",
      "metadata": {
        "id": "ztEAWPlplkFE"
      },
      "source": [
        "As we can see from the chart above, the coefficient values are similar, with the only exception where they deviate being for the feature \"funding_rounds\".\n",
        "\n",
        "Since startups are influenced by a wide variety of factors and each feature might contribute valuable information, L1 regularization not reducing any coefficients to zero suggests that all features have some predictive power. In the context of startups, where unexpected factors can be significant, retaining more features could be beneficial.\n",
        "\n",
        "We will thus retain all the features as they are."
      ]
    },
    {
      "cell_type": "markdown",
      "metadata": {
        "id": "WLig_7D_vKkq"
      },
      "source": [
        "### **Plotting the metrics**"
      ]
    },
    {
      "cell_type": "code",
      "execution_count": null,
      "metadata": {
        "id": "oawcY2J5kDcO"
      },
      "outputs": [],
      "source": [
        "# Storing all the calculated metrics into a metrics dictionary so that we can plot them\n",
        "metrics_dict = {\n",
        "    'Lasso Downsampled': {\n",
        "        'Accuracy': score_lasso_downsampled,\n",
        "        'Precision': precision_lasso_downsampled,\n",
        "        'Recall': recall_lasso_downsampled,\n",
        "        'F1': f1_lasso_downsampled\n",
        "    },\n",
        "    'Lasso Upsampled': {\n",
        "        'Accuracy': score_lasso_upsampled,\n",
        "        'Precision': precision_lasso_upsampled,\n",
        "        'Recall': recall_lasso_upsampled,\n",
        "        'F1': f1_lasso_upsampled\n",
        "    },\n",
        "    'Ridge Downsampled': {\n",
        "        'Accuracy': score_ridge_downsampled,\n",
        "        'Precision': precision_ridge_downsampled,\n",
        "        'Recall': recall_ridge_downsampled,\n",
        "        'F1': f1_ridge_downsampled\n",
        "    },\n",
        "    'Ridge Upsampled': {\n",
        "        'Accuracy': score_ridge_upsampled,\n",
        "        'Precision': precision_ridge_upsampled,\n",
        "        'Recall': recall_ridge_upsampled,\n",
        "        'F1': f1_ridge_upsampled\n",
        "    }\n",
        "}\n",
        "\n",
        "# Convert metrics_dict to a DataFrame for easy plotting\n",
        "metrics_df = pd.DataFrame(metrics_dict).T.reset_index()\n",
        "metrics_df.rename(columns={'index': 'Sampling/Regularization'}, inplace=True)\n",
        "\n",
        "# Melt the DataFrame to make it suitable for sns.barplot\n",
        "metrics_melted = metrics_df.melt(id_vars='Sampling/Regularization', var_name='Metric', value_name='Value')\n",
        "\n",
        "# Plotting\n",
        "plt.figure(figsize=(10, 6))\n",
        "sns.barplot(x='Metric', y='Value', hue='Sampling/Regularization', data=metrics_melted)\n",
        "plt.title('Performance Metrics for L1 and L2 Regularized Logistic Regression')\n",
        "plt.ylabel('Score')\n",
        "plt.xlabel('Metric')\n",
        "plt.legend(title='Sampling/Regularization')\n",
        "plt.tight_layout()\n",
        "plt.show()\n"
      ]
    },
    {
      "cell_type": "markdown",
      "metadata": {
        "id": "xZ4sLGFGkFf1"
      },
      "source": [
        "As we can see from the barchart above, the undersampled dataset (decreasing representation of the the majority) produces a better recall value than the oversampled dataset. We will prioritise the recall value, as it shows the model's ability to find the minority class.\n",
        "\n",
        "Therefore, from here onwards, we will use the undersampled dataset, together with the lasso regression."
      ]
    },
    {
      "cell_type": "markdown",
      "metadata": {
        "id": "dxINekjfvH3M"
      },
      "source": [
        "\n",
        "### **Plotting the confusion matrices**\n"
      ]
    },
    {
      "cell_type": "code",
      "execution_count": null,
      "metadata": {
        "id": "XfrS-N-mvbYo"
      },
      "outputs": [],
      "source": [
        "import matplotlib.pyplot as plt\n",
        "import seaborn as sns\n",
        "\n",
        "# Set up the matplotlib figure\n",
        "fig, axes = plt.subplots(2, 2, figsize=(10, 10))\n",
        "titles = ['Lasso Downsampled', 'Lasso Upsampled', 'Ridge Downsampled', 'Ridge Upsampled']\n",
        "\n",
        "# Confusion matrices to be plotted\n",
        "conf_matrices = [conf_matrix_lasso_downsampled, conf_matrix_lasso_upsampled,\n",
        "                 conf_matrix_ridge_downsampled, conf_matrix_ridge_upsampled]\n",
        "\n",
        "for ax, matrix, title in zip(axes.flatten(), conf_matrices, titles):\n",
        "    sns.heatmap(matrix, annot=True, fmt='d', cmap='Blues', ax=ax, cbar=False)\n",
        "    ax.set_title(title)\n",
        "    ax.set_xlabel('Predicted Label')\n",
        "    ax.set_ylabel('True Label')\n",
        "\n",
        "# Adjust layout for better readability\n",
        "plt.tight_layout()\n",
        "plt.show()"
      ]
    },
    {
      "cell_type": "markdown",
      "metadata": {
        "id": "0JnTOA5R3Dhu"
      },
      "source": [
        "As we can see, there is no difference at all between the lasso and ridge regularizations between the undersampled and oversampled data respectively.\n",
        "\n",
        "However, we can see that between undersampling and oversampling, the model was better able to correctly predict the minority class, with the undersampled dataset, which in our dataset refers to the startups that are successful.\n",
        "\n",
        "This further proves that, at least during the training, we should use the lasso regression with undersampling."
      ]
    },
    {
      "cell_type": "markdown",
      "metadata": {
        "id": "Zfj7P8ytY1DT"
      },
      "source": [
        "## **Adjusting the threshold**\n",
        "\n",
        "Over here we will select the threshold that optimises the difference between the True Positive Rate and the False Positive Rate. This is because we want to maximise the ability of the model to correctly classify the most positives out of actual positives.\n",
        "\n",
        "Theoretically, we can get the model to identify all the positive cases by merely lowering the threshold, but that would also mean that there would be more false positives as well.\n",
        "\n",
        "This is why we balance that by having the optimal threshold being at the point where the TPR-FPR is the highest."
      ]
    },
    {
      "cell_type": "code",
      "execution_count": null,
      "metadata": {
        "id": "kbzuZDrqY0oV"
      },
      "outputs": [],
      "source": [
        "from sklearn.metrics import roc_curve, auc\n",
        "\n",
        "# We will fit the model we want to adjust the threshold of\n",
        "pipe_lasso.fit(X_train_downsampled, y_train_downsampled)\n",
        "\n",
        "# Get probabilities for the positive class\n",
        "y_pred_probs_downsampled_l1 = pipe_lasso.predict_proba(X_train_LR_val)[:, 1]\n",
        "\n",
        "# Compute ROC curve and ROC area\n",
        "fpr, tpr, thresholds = roc_curve(y_train_LR_val, y_pred_probs_downsampled_l1)\n",
        "roc_auc = auc(fpr, tpr)\n",
        "\n",
        "# Plot ROC curve\n",
        "plt.figure()\n",
        "lw = 2  # Line width\n",
        "plt.plot(fpr, tpr, color='darkorange', lw=lw, label='ROC curve (area = %0.2f)' % roc_auc)\n",
        "plt.plot([0, 1], [0, 1], color='navy', lw=lw, linestyle='--')\n",
        "plt.xlim([0.0, 1.0])\n",
        "plt.ylim([0.0, 1.05])\n",
        "plt.xlabel('False Positive Rate')\n",
        "plt.ylabel('True Positive Rate')\n",
        "plt.title('Receiver Operating Characteristic')\n",
        "plt.legend(loc=\"lower right\")\n",
        "plt.show()\n",
        "\n",
        "# Find the optimal threshold\n",
        "optimal_idx = np.argmax(tpr - fpr)\n",
        "optimal_threshold = thresholds[optimal_idx]\n",
        "print(\"Optimal threshold is:\", optimal_threshold)\n"
      ]
    },
    {
      "cell_type": "markdown",
      "metadata": {
        "id": "tEIRFiyo1a5H"
      },
      "source": [
        "From the calculations done above, we can see that the optimal threshold for our specifications is 0.504"
      ]
    },
    {
      "cell_type": "markdown",
      "metadata": {
        "id": "IaveYvqN1evN"
      },
      "source": [
        "## **Model evaluation on test set**\n",
        "Now we will finally test the models ability against the test using the following parameters.\n",
        "\n",
        "* Undersampled\n",
        "* L1 Regularization (Lasso)\n",
        "* Threshold: 0.504\n",
        "\n"
      ]
    },
    {
      "cell_type": "code",
      "execution_count": null,
      "metadata": {
        "id": "yMIKW_Sk1h3X"
      },
      "outputs": [],
      "source": [
        "# optimal threshold calculated from previous step; 0.47\n",
        "\n",
        "# Combine the training set with the validation set and undersample them\n",
        "X_train_final, y_train_final = rus.fit_resample(pd.concat([X_train_LR2,X_train_LR_val]), pd.concat([y_train_LR2,y_train_LR_val]))\n",
        "\n",
        "# Train the final model using the pipe to ensure that the scaling is done before the regression\n",
        "# We will use the undersampled data from the previous line to train the model\n",
        "pipe_lasso.fit(X_train_final, y_train_final)\n",
        "\n",
        "# Predict probabilities on the test set\n",
        "y_test_probs = pipe_lasso.predict_proba(X_test_LR)[:, 1]  # Probabilities of the positive class\n",
        "\n",
        "# Apply the threshold to these probabilities to get the final predictions\n",
        "y_test_pred_custom_threshold = (y_test_probs >= optimal_threshold).astype(int)\n",
        "\n",
        "# Calculate the metrics using the new predictions\n",
        "test_accuracy = accuracy_score(y_test_LR, y_test_pred_custom_threshold)\n",
        "test_precision = precision_score(y_test_LR, y_test_pred_custom_threshold)\n",
        "test_recall = recall_score(y_test_LR, y_test_pred_custom_threshold)\n",
        "test_f1 = f1_score(y_test_LR, y_test_pred_custom_threshold)\n",
        "\n",
        "print(\"Accuracy:{} Precision: {} Recall: {} f1: {}\".format(test_accuracy,test_precision,test_recall,test_f1))\n",
        "# Confusion matrix with the new threshold\n",
        "test_conf_matrix = confusion_matrix(y_test_LR, y_test_pred_custom_threshold)\n",
        "\n",
        "# Visualization of the metrics\n",
        "fig, ax = plt.subplots(1, 2, figsize=(14, 5))\n",
        "\n",
        "# Metrics barplot\n",
        "metrics = [test_accuracy, test_precision, test_recall, test_f1]\n",
        "metric_names = ['Accuracy', 'Precision', 'Recall', 'F1 Score']\n",
        "sns.barplot(x=metric_names, y=metrics, ax=ax[0])\n",
        "ax[0].set_title('Test Metrics')\n",
        "ax[0].set_ylim(0, 1)  # Setting the limit for y-axis to show percentages\n",
        "\n",
        "# Confusion Matrix heatmap\n",
        "sns.heatmap(test_conf_matrix, annot=True, fmt='d', cmap='Blues', ax=ax[1])\n",
        "ax[1].set_title('Confusion Matrix')\n",
        "ax[1].set_xlabel('Predicted Labels')\n",
        "ax[1].set_ylabel('True Labels')\n",
        "\n",
        "plt.tight_layout()\n",
        "plt.show()"
      ]
    },
    {
      "cell_type": "markdown",
      "metadata": {
        "id": "BYsqH8LbJXQx"
      },
      "source": [
        "We can see that the Sensitivity/Recall of the model's ability on the test set is 767/(767+628), which is 0.5498. This is not a very good result, because it can only accurately predict about 54% of the positive results. (It can only predict that a startup is a success about 54% of the time out of actual successes) This is barely any better than a random guess.\n",
        "\n",
        "This was expected, due to the severe class imbalance in the dataset. However, this is not too bad, as the specificity of the model is 7425/(7425/2606), which is 0.7402. This means the model was able to predict about 74% of the actual negatives as negative.\n",
        "\n",
        "However, the model is not entirely useless. With some other hyperparameter tunings, we can potentially increase the specificity or perhaps even the sensitivity. In the context of a venture capital wanting to predict the success rate of a model, accurately predicting the failure of a startup prevents loss, as opposed to accurately predicting the success of startup, which if wrongly predicted merely translates to a loss in <u>**potential**</u> profits."
      ]
    },
    {
      "cell_type": "markdown",
      "metadata": {
        "id": "KUUz_bfFMX8A"
      },
      "source": [
        "# **Support Vector Machine (SVM)**\n",
        "\n"
      ]
    },
    {
      "cell_type": "code",
      "execution_count": null,
      "metadata": {
        "id": "S5Z227IvMp0M"
      },
      "outputs": [],
      "source": [
        "#Importing the libraries to perform SVM\n",
        "from sklearn import datasets\n",
        "from sklearn.model_selection import train_test_split, GridSearchCV, cross_val_score, StratifiedKFold, KFold\n",
        "from sklearn.svm import SVC\n",
        "from sklearn.metrics import accuracy_score, recall_score, confusion_matrix, precision_score, f1_score\n",
        "import matplotlib.pyplot as plt\n",
        "import numpy as np\n",
        "import pandas as pd\n",
        "from sklearn.utils import resample\n",
        "from sklearn.preprocessing import StandardScaler\n",
        "from sklearn.pipeline import Pipeline"
      ]
    },
    {
      "cell_type": "code",
      "execution_count": null,
      "metadata": {
        "id": "XyDHaSxe1ClZ"
      },
      "outputs": [],
      "source": [
        "# Split the data into training and testing sets\n",
        "X_svm = X.copy()\n",
        "y_svm = y.copy()\n",
        "\n",
        "X_train_svm, X_test_svm, y_train_svm, y_test_svm = train_test_split(X_svm, y_svm, test_size=0.2, random_state=1234)\n",
        "\n",
        "X_train_svm.shape, X_test_svm.shape, y_train_svm.shape, y_test_svm.shape"
      ]
    },
    {
      "cell_type": "code",
      "execution_count": null,
      "metadata": {
        "id": "EFRFrXan1J6F"
      },
      "outputs": [],
      "source": [
        "# We need to scale the data because Support Vector Machine methods are sensibel to the distance of the data\n",
        "# We will scale also the categorical variables\n",
        "scaler = StandardScaler()\n",
        "\n",
        "# Fit the scaler on the training data and transform both training and test data\n",
        "X_train_svm_scaled = X_train_svm.copy()\n",
        "X_test_svm_scaled = X_test_svm.copy()\n",
        "\n",
        "numerical = X_train_svm_scaled.select_dtypes(include=['float64', 'int64']).columns.tolist()\n",
        "X_train_svm_scaled[numerical] = scaler.fit_transform(X_train_svm_scaled[numerical])\n",
        "X_test_svm_scaled[numerical] = scaler.transform(X_test_svm_scaled[numerical])\n",
        "\n",
        "X_train_svm_scaled.head()"
      ]
    },
    {
      "cell_type": "markdown",
      "metadata": {
        "id": "Odr36flU1UOA"
      },
      "source": [
        "### Simple SVM Model with liner Kernel\n",
        "\n",
        "Lets fit a basic support vector machine model to analyse the preliminary results"
      ]
    },
    {
      "cell_type": "code",
      "execution_count": null,
      "metadata": {
        "id": "KjfVDQVV1NXD"
      },
      "outputs": [],
      "source": [
        "# Initialize and train a simple SVM classifier\n",
        "svc = SVC(kernel='linear', C=1)\n",
        "svc.fit(X_train_svm_scaled, y_train_svm)"
      ]
    },
    {
      "cell_type": "code",
      "execution_count": null,
      "metadata": {
        "id": "LhvC9rYf1qqG"
      },
      "outputs": [],
      "source": [
        "# Make predictions and evaluate the simple model\n",
        "y_pred_1 = svc.predict(X_test_svm_scaled)\n",
        "accuracy_1= accuracy_score(y_test_svm, y_pred_1)\n",
        "recall_1 = recall_score(y_test_svm, y_pred_1)\n",
        "precision_1 = precision_score(y_test_svm, y_pred_1)\n",
        "f1_1 = f1_score(y_test_svm, y_pred_1)\n",
        "print(f\"Initial model accuracy: {accuracy_1}\")\n",
        "print(f\"Initial model recall: {recall_1}\")\n",
        "print(f\"Initial model precision: {precision_1}\")\n",
        "print(f\"Initial model f1 score: {f1_1}\")"
      ]
    },
    {
      "cell_type": "code",
      "execution_count": null,
      "metadata": {
        "id": "guE5wv1q2HDf"
      },
      "outputs": [],
      "source": [
        "#defining the confusion matrix function since we will need to use it many times throughout the code\n",
        "\n",
        "def plot_confusion_matrix(Actual_y, Predicted_y):\n",
        "      confusion_matrix_1 = confusion_matrix(Actual_y, Predicted_y)\n",
        "\n",
        "      # Create a DataFrame for the confusion matrix\n",
        "      cm_df = pd.DataFrame(confusion_matrix_1, index=['Actual Negative', 'Actual Positive'], columns=['Predicted Negative', 'Predicted Positive'])\n",
        "\n",
        "      # Plot the confusion matrix using seaborn\n",
        "      plt.figure(figsize=(8, 6))\n",
        "      sns.set(font_scale=1.4)  # Adjust the font scale for better readability\n",
        "      sns.heatmap(cm_df, annot=True, fmt='g', cmap='Blues', annot_kws={\"size\": 16})\n",
        "\n",
        "      # Add labels and a title\n",
        "      plt.xlabel('Predicted')\n",
        "      plt.ylabel('Actual')\n",
        "      plt.title('Confusion Matrix')\n",
        "\n",
        "      plt.show()"
      ]
    },
    {
      "cell_type": "code",
      "execution_count": null,
      "metadata": {
        "id": "cnoo5lt62JzC"
      },
      "outputs": [],
      "source": [
        "#plot the confusion matrix of the first SVM model\n",
        "plot_confusion_matrix(y_test_svm, y_pred_1)"
      ]
    },
    {
      "cell_type": "markdown",
      "metadata": {
        "id": "VeT11hQ82SlT"
      },
      "source": [
        "The dataset is highly unbalanced, hence the accuracy score is not a good indicator of goodness of the model, for this reason, we should use the recall score.\n",
        "\n",
        "**The recall is equal to 0.0 meaning that the model has been completely unsuccessful at predicting if a startup is going to succede. The successful observations are so limited compared to the successful ones that the model has overfitted the majority class (unsuccessful) neglecting the successful observations**"
      ]
    },
    {
      "cell_type": "markdown",
      "metadata": {
        "id": "KRlOIG8e2cku"
      },
      "source": [
        "To adress this issue we must utilise the Undersampling or Oversampling, lets start with undersampling."
      ]
    },
    {
      "cell_type": "markdown",
      "metadata": {
        "id": "8eYHlwwv21y8"
      },
      "source": [
        "## Training SVM on undersampled dataset ##"
      ]
    },
    {
      "cell_type": "code",
      "execution_count": null,
      "metadata": {
        "id": "Vy6u4Og020DI"
      },
      "outputs": [],
      "source": [
        "xy = df_cleaned.copy()\n",
        "xy.head"
      ]
    },
    {
      "cell_type": "markdown",
      "metadata": {
        "id": "HuLkY-FM3ExU"
      },
      "source": [
        "We will keep the Test set as it is with 20% of the observations so after fitting the model on a downsampled test set we will be able to evaluate it on an unbalanced test set that actually resembles the original dataset"
      ]
    },
    {
      "cell_type": "code",
      "execution_count": null,
      "metadata": {
        "id": "K2w0T_YV3IMz"
      },
      "outputs": [],
      "source": [
        "xy_train_svm, xy_test_svm = train_test_split(xy, test_size=0.2, random_state=1234)\n",
        "\n",
        "xy_train_svm.shape, xy_test_svm.shape"
      ]
    },
    {
      "cell_type": "markdown",
      "metadata": {
        "id": "-LEWShtb3XDZ"
      },
      "source": [
        "Lets now create the downsampled training dataset:"
      ]
    },
    {
      "cell_type": "code",
      "execution_count": null,
      "metadata": {
        "id": "Xks4Pi7W3Tkq"
      },
      "outputs": [],
      "source": [
        "# Separate the majority and minority classes\n",
        "majority_class = xy_train_svm[xy_train_svm['status'] == 'operating']\n",
        "closed_class = xy_train_svm[xy_train_svm['status'] == 'closed']\n",
        "minority_class = xy_train_svm[(xy_train_svm['status'] == 'ipo') | (xy_train_svm['status'] == 'acquired')]\n",
        "\n",
        "# Downsample the majority class to match the number of samples in the minority class\n",
        "majority_downsampled = resample(majority_class, replace=False, n_samples=(len(minority_class)-len(closed_class)), random_state=1234)\n",
        "\n",
        "# Combine the minority class with the downsampled majority class to create a balanced dataset\n",
        "balanced_data = pd.concat([majority_downsampled, minority_class, closed_class])\n",
        "\n",
        "# Check what has been done\n",
        "print(\"Initial dataset observations: \", len(xy_train_svm))\n",
        "print(\"Initial Operating observations: \", len(majority_class))\n",
        "print(\"Closed observations: \", len(closed_class))\n",
        "print(\"Ipo and Acquired obeservations: \", len(minority_class))\n",
        "print(\"Downsampled Operating observations: \", len(majority_downsampled))\n",
        "print(\"Final dataset observations: \", len(balanced_data))"
      ]
    },
    {
      "cell_type": "code",
      "execution_count": null,
      "metadata": {
        "id": "B7EnC-CG4A_R"
      },
      "outputs": [],
      "source": [
        "# Drop the datetime variables that the SVM model does not support those data types. The information regarding the date will still be incluede in the model since we have done\n",
        "# feature engineering\n",
        "\n",
        "balanced_data.reset_index(drop=True, inplace=True)  # Reset the indices\n",
        "X_train_svm_b = balanced_data.drop(['status','is_successful'], axis=1)\n",
        "y_train_svm_b = balanced_data['is_successful']\n",
        "\n",
        "#Preparing the unbalanced testing dataset\n",
        "X_test_svm_unb = xy_test_svm.drop(['status','is_successful'], axis=1)\n",
        "y_test_svm_unb = xy_test_svm['is_successful']\n",
        "\n",
        "X_train_svm_b.head(), y_train_svm_b.head()"
      ]
    },
    {
      "cell_type": "markdown",
      "metadata": {
        "id": "ohP4IZSk4MKV"
      },
      "source": [
        "To see if the results have improved by using the downsampled data we will fit a simble SVM model (same as before) and compare the results"
      ]
    },
    {
      "cell_type": "code",
      "execution_count": null,
      "metadata": {
        "id": "kVZy0nqx4Pkj"
      },
      "outputs": [],
      "source": [
        "# We need to scale the data because Support Vector Machine methods are sensibel to the distance of the data\n",
        "# We will scale also the categorical variables\n",
        "scaler = StandardScaler()\n",
        "\n",
        "# Fit the scaler on the training data and transform both training and test data\n",
        "X_train_svm_b_scaled = X_train_svm_b.copy()\n",
        "X_test_svm_unb_scaled = X_test_svm_unb.copy()\n",
        "\n",
        "numerical = X_train_svm_b_scaled.select_dtypes(include=['float64', 'int64']).columns.tolist()\n",
        "X_train_svm_b_scaled[numerical] = scaler.fit_transform(X_train_svm_b_scaled[numerical])\n",
        "X_test_svm_unb_scaled[numerical] = scaler.transform(X_test_svm_unb_scaled[numerical])"
      ]
    },
    {
      "cell_type": "code",
      "execution_count": null,
      "metadata": {
        "id": "HJYxMT3-4S3Y"
      },
      "outputs": [],
      "source": [
        "# Initialize and train a simple SVM classifier -same as before (model 1)- the exact same that has been trained before, we want to compare the results to see if something has improved by downsampling\n",
        "svc_2 = SVC(kernel='linear', C=1)\n",
        "svc_2.fit(X_train_svm_b_scaled, y_train_svm_b)"
      ]
    },
    {
      "cell_type": "code",
      "execution_count": null,
      "metadata": {
        "id": "1352ZaCp4Ti4"
      },
      "outputs": [],
      "source": [
        "# Make predictions and evaluate the model\n",
        "y_pred_2 = svc_2.predict(X_test_svm_unb_scaled)\n",
        "accuracy_2= accuracy_score(y_test_svm_unb, y_pred_2)\n",
        "recall_2 = recall_score(y_test_svm_unb, y_pred_2)\n",
        "print(f\"Model accuracy: {accuracy_2}\")\n",
        "print(f\"Model recall: {recall_2}\")"
      ]
    },
    {
      "cell_type": "code",
      "execution_count": null,
      "metadata": {
        "id": "40VmmPmz4YYT"
      },
      "outputs": [],
      "source": [
        "plot_confusion_matrix(y_test_svm_unb, y_pred_2)"
      ]
    },
    {
      "cell_type": "markdown",
      "metadata": {
        "id": "W3JVGD3h4hE3"
      },
      "source": [
        "We can observe that by using a undersampled dataset to train the model the results have become better since the model is able to learn better the pattern of the minority class (successful startups). However, even though there has been an improvement, the model is still not performing very well. We must proceed with tuning the hyperparameters to improve the model's performance"
      ]
    },
    {
      "cell_type": "markdown",
      "metadata": {
        "id": "dgwasIbk4lsy"
      },
      "source": [
        "### SVM linear kernel:\n",
        "Let's test a wide range of C values first and then reiterate the process on the best ones"
      ]
    },
    {
      "cell_type": "code",
      "execution_count": null,
      "metadata": {
        "id": "qADLcB4f4i1x"
      },
      "outputs": [],
      "source": [
        "C_values = [0.1, 1, 10, 100, 1000]  # List of C values to search\n",
        "n_folds = 5     # Number of folds for cross-validation\n",
        "\n",
        "# Initialize KFold with shuffle=True to randomize the data\n",
        "kf = KFold(n_splits=n_folds, shuffle=True, random_state=1234)\n",
        "\n",
        "# Initialize lists to store cross-validation results\n",
        "recall_values_svm_lin = []\n",
        "accuracy_values_svm_lin = []\n",
        "\n",
        "# Initialize variables to store the best recall score\n",
        "best_C_svm_lin = None\n",
        "best_recall_svm_lin = 0.0\n",
        "best_model_svm_lin = None\n",
        "\n",
        "# Perform cross-validation\n",
        "for C in C_values:\n",
        "    fold_recall_values = []\n",
        "    fold_accuracy_values = []\n",
        "    for train_index, test_index in kf.split(X_train_svm_b):\n",
        "        X_trainCV, X_testCV = X_train_svm_b.iloc[train_index],X_train_svm_b.iloc[test_index]\n",
        "        y_trainCV, y_testCV = y_train_svm_b.iloc[train_index], y_train_svm_b.iloc[test_index]\n",
        "\n",
        "        # Standardize the data using the training data's mean and standard deviation\n",
        "        scaler = StandardScaler()\n",
        "        X_trainCV_scaled = scaler.fit_transform(X_trainCV)\n",
        "        X_testCV_scaled = scaler.transform(X_testCV)\n",
        "\n",
        "        svm_lin = SVC(kernel='linear', C=C)\n",
        "        svm_lin.fit(X_trainCV_scaled, y_trainCV)\n",
        "\n",
        "        # Make predictions on the standardized testing data\n",
        "        y_pred_svm_lin = svm_lin.predict(X_testCV_scaled)\n",
        "\n",
        "        # Calculate the recall and accuracy for the current fold\n",
        "        fold_recall_values.append(recall_score(y_testCV, y_pred_svm_lin))\n",
        "        fold_accuracy_values.append(accuracy_score(y_testCV, y_pred_svm_lin))\n",
        "\n",
        "    # Calculate the mean recall across all folds for the current C\n",
        "    mean_recall_svm_lin = np.mean(fold_recall_values)\n",
        "    recall_values_svm_lin.append(mean_recall_svm_lin)\n",
        "\n",
        "    # Calculate the mean recall across all folds for the current C\n",
        "    mean_accuracy_svm_lin = np.mean(fold_accuracy_values)\n",
        "    accuracy_values_svm_lin.append(mean_accuracy_svm_lin)\n",
        "\n",
        "    # Check if the current C has a higher recall than the best C found so far\n",
        "    if mean_recall_svm_lin > best_recall_svm_lin:\n",
        "        best_C_svm_lin = C\n",
        "        best_recall_svm_lin = mean_recall_svm_lin\n",
        "        best_model_svm_lin = svm_lin\n",
        "\n",
        "print(\"Best C:\", best_C_svm_lin)\n",
        "print(\"Best Recall:\", best_recall_svm_lin)\n",
        "print(\"Best Model:\", best_model_svm_lin)\n",
        "print(\"Checking Recall scores for differst C: \", recall_values_svm_lin)\n",
        "print(\"Checking Accuracy scores for differst C: \", accuracy_values_svm_lin)\n"
      ]
    },
    {
      "cell_type": "code",
      "execution_count": null,
      "metadata": {
        "id": "BSAue5sx44hj"
      },
      "outputs": [],
      "source": [
        "plt.plot(C_values, recall_values_svm_lin, marker='o', label='Mean Recall')\n",
        "plt.plot(C_values, accuracy_values_svm_lin, marker='x', label='Accuracy')\n",
        "\n",
        "plt.xlabel('C Values')\n",
        "plt.ylabel('Scores')\n",
        "plt.title('C Values vs. Mean Recall/Accuracy')\n",
        "plt.legend()\n",
        "plt.grid(True)\n",
        "plt.show()"
      ]
    },
    {
      "cell_type": "markdown",
      "metadata": {
        "id": "8f2QHOQB47KV"
      },
      "source": [
        "Performing a sporadic test with C = 2000 to see if there are improvements going further with higher C values, sice the best C found in the previous iteration was the C with the highest value"
      ]
    },
    {
      "cell_type": "code",
      "execution_count": null,
      "metadata": {
        "id": "SKU352J74_wJ"
      },
      "outputs": [],
      "source": [
        "C_values = [2000]  # List of C values to search\n",
        "n_folds = 5     # Number of folds for cross-validation\n",
        "\n",
        "# Initialize KFold with shuffle=True to randomize the data\n",
        "kf = KFold(n_splits=n_folds, shuffle=True, random_state=1234)\n",
        "\n",
        "# Initialize lists to store cross-validation results\n",
        "recall_values_svm_lin = []\n",
        "accuracy_values_svm_lin = []\n",
        "\n",
        "# Initialize variables to store the best recall score\n",
        "best_C_svm_lin = None\n",
        "best_recall_svm_lin = 0.0\n",
        "best_model_svm_lin = None\n",
        "\n",
        "# Perform cross-validation\n",
        "for C in C_values:\n",
        "    fold_recall_values = []\n",
        "    fold_accuracy_values = []\n",
        "    for train_index, test_index in kf.split(X_train_svm_b):\n",
        "        X_trainCV, X_testCV = X_train_svm_b.iloc[train_index],X_train_svm_b.iloc[test_index]\n",
        "        y_trainCV, y_testCV = y_train_svm_b.iloc[train_index], y_train_svm_b.iloc[test_index]\n",
        "\n",
        "        # Standardize the data using the training data's mean and standard deviation\n",
        "        scaler = StandardScaler()\n",
        "        X_trainCV_scaled = scaler.fit_transform(X_trainCV)\n",
        "        X_testCV_scaled = scaler.transform(X_testCV)\n",
        "\n",
        "        svm_lin = SVC(kernel='linear', C=C)\n",
        "        svm_lin.fit(X_trainCV_scaled, y_trainCV)\n",
        "\n",
        "        # Make predictions on the standardized testing data\n",
        "        y_pred_svm_lin = svm_lin.predict(X_testCV_scaled)\n",
        "\n",
        "        # Calculate the recall and accuracy for the current fold\n",
        "        fold_recall_values.append(recall_score(y_testCV, y_pred_svm_lin))\n",
        "        fold_accuracy_values.append(accuracy_score(y_testCV, y_pred_svm_lin))\n",
        "\n",
        "    # Calculate the mean recall across all folds for the current C\n",
        "    mean_recall_svm_lin = np.mean(fold_recall_values)\n",
        "    recall_values_svm_lin.append(mean_recall_svm_lin)\n",
        "\n",
        "    # Calculate the mean recall across all folds for the current C\n",
        "    mean_accuracy_svm_lin = np.mean(fold_accuracy_values)\n",
        "    accuracy_values_svm_lin.append(mean_accuracy_svm_lin)\n",
        "\n",
        "    # Check if the current C has a higher recall than the best C found so far\n",
        "    if mean_recall_svm_lin > best_recall_svm_lin:\n",
        "        best_C_svm_lin = C\n",
        "        best_recall_svm_lin = mean_recall_svm_lin\n",
        "        best_model_svm_lin = svm_lin\n",
        "\n",
        "print(\"Best C:\", best_C_svm_lin)\n",
        "print(\"Best Recall:\", best_recall_svm_lin)\n",
        "print(\"Best Model:\", best_model_svm_lin)\n",
        "print(\"Checking Recall values for differst C: \", recall_values_svm_lin)\n",
        "print(\"Checking Accuracy values for differst C: \", accuracy_values_svm_lin)"
      ]
    },
    {
      "cell_type": "markdown",
      "metadata": {
        "id": "m-ahomQC5Q6J"
      },
      "source": [
        "There seems to be almost no improvement, so we won't test any other C value."
      ]
    },
    {
      "cell_type": "markdown",
      "metadata": {
        "id": "ph0fSVmR5dZF"
      },
      "source": [
        "The best C (out of the tested ones) for the linear Kernel is 1000. We could test other C values but overall it seems that it doesn't really make a difference so for now lets consider 1000. The Recall score is still low suggesting that the linear kernel may not be the best alternative to use. Anyways lets fit the a model considering all the data."
      ]
    },
    {
      "cell_type": "code",
      "execution_count": null,
      "metadata": {
        "id": "jU3d3H545aW0"
      },
      "outputs": [],
      "source": [
        "# Fit the final Support Vector Machine model with the optimal C on the standardized dataset\n",
        "final_svm_lin = SVC(kernel='linear', C=1000)\n",
        "final_svm_lin.fit(X_train_svm_b_scaled, y_train_svm_b)\n",
        "\n",
        "# Make predictions on the standardized testing data\n",
        "final_svm_lin_pred = final_svm_lin.predict(X_test_svm_unb_scaled)\n",
        "\n",
        "# Calculating the recall score and accuracy of the model\n",
        "final_recall = recall_score(y_test_svm_unb, final_svm_lin_pred)\n",
        "final_accuracy = accuracy_score(y_test_svm_unb, final_svm_lin_pred)\n",
        "final_precision = precision_score(y_test_svm_unb, final_svm_lin_pred)\n",
        "final_f1 = f1_score(y_test_svm_unb, final_svm_lin_pred)\n",
        "\n",
        "print(\"Recall Score with linear kernel and C=1000:\", final_recall)\n",
        "print(\"Accuracy Score with linear kernel and C=1000:\", final_recall)\n",
        "print(\"Precision Score with linear kernel and C=1000:\", final_precision)\n",
        "print(\"F1 Score with linear kernel and C=1000:\", final_f1)"
      ]
    },
    {
      "cell_type": "code",
      "execution_count": null,
      "metadata": {
        "id": "Ga4i-E8C5ifo"
      },
      "outputs": [],
      "source": [
        "# Calculating and ploting the confusion matrix\n",
        "plot_confusion_matrix(y_test_svm_unb, final_svm_lin_pred)"
      ]
    },
    {
      "cell_type": "markdown",
      "metadata": {
        "id": "bq-BmClN5lBR"
      },
      "source": [
        "The model is still performing bad. I assume that the linear kernel is not ideal for this dataset, lets try the other options starting with the polynomial one"
      ]
    },
    {
      "cell_type": "markdown",
      "metadata": {
        "id": "CxaTnmcY5n9B"
      },
      "source": [
        "### SVM with Polynomial Kernel"
      ]
    },
    {
      "cell_type": "code",
      "execution_count": null,
      "metadata": {
        "id": "BrqNhzJx5neb"
      },
      "outputs": [],
      "source": [
        "#Defining a Cross Validation function to test with cross validation various values of d and C for the polynomial kernel\n",
        "def cross_validate_svm_poly(X_train, y_train, C_test, degree_test, n_folds=5):\n",
        "\n",
        "    # Initialize KFold with shuffle=True to randomize the data\n",
        "    kf = KFold(n_splits=n_folds, shuffle=True, random_state=1234)\n",
        "\n",
        "    # Initialize list to store cross-validation results\n",
        "    results_svm_poly = []\n",
        "\n",
        "    # Initialize variables to store the best hyperparameters and model\n",
        "    best_degree = None\n",
        "    best_C_poly = None\n",
        "    best_recall_svm_poly = 0.0\n",
        "    best_accuracy_svm_poly = 0.0\n",
        "    best_model_svm_poly = None\n",
        "\n",
        "    # Perform cross-validation\n",
        "    for degree in degree_values:\n",
        "        for C in C_values:\n",
        "            fold_recall_values = []\n",
        "            fold_accuracy_values = []\n",
        "            for train_index, test_index in kf.split(X_train_svm_b):\n",
        "                X_trainCV, X_testCV = X_train.iloc[train_index], X_train.iloc[test_index]\n",
        "                y_trainCV, y_testCV = y_train.iloc[train_index], y_train.iloc[test_index]\n",
        "\n",
        "                # Standardize the data using the training data's mean and standard deviation\n",
        "                scaler = StandardScaler()\n",
        "                X_trainCV_scaled = scaler.fit_transform(X_trainCV)\n",
        "                X_testCV_scaled = scaler.transform(X_testCV)\n",
        "\n",
        "                svm_poly = SVC(kernel='poly', degree=degree, C=C)\n",
        "                svm_poly.fit(X_trainCV_scaled, y_trainCV)\n",
        "\n",
        "                # Make predictions on the standardized testing data\n",
        "                y_pred_svm_poly = svm_poly.predict(X_testCV_scaled)\n",
        "\n",
        "                # Calculate the recall and accuracy for the current fold\n",
        "                fold_recall_values.append(recall_score(y_testCV, y_pred_svm_poly))\n",
        "                fold_accuracy_values.append(accuracy_score(y_testCV, y_pred_svm_poly))\n",
        "\n",
        "            # Calculate the mean recall and accuracy across all folds for the current hyperparameters\n",
        "            mean_recall_svm_poly = np.mean(fold_recall_values)\n",
        "            mean_accuracy_svm_poly = np.mean(fold_accuracy_values)\n",
        "            results_svm_poly.append((C, degree, mean_accuracy_svm_poly, mean_recall_svm_poly))\n",
        "\n",
        "            # Check if the current hyperparameters have a higher recall than the best found so far\n",
        "            if mean_accuracy_svm_poly > best_accuracy_svm_poly:\n",
        "                best_C_poly = C\n",
        "                best_degree = degree\n",
        "                best_accuracy_svm_poly = mean_accuracy_svm_poly\n",
        "                best_model_svm_poly = svm_poly\n",
        "\n",
        "    return  results_svm_poly, best_model_svm_poly, best_degree"
      ]
    },
    {
      "cell_type": "code",
      "execution_count": null,
      "metadata": {
        "id": "6eNJcUrw5sP7"
      },
      "outputs": [],
      "source": [
        "C_values = [0.1, 1, 10, 100]\n",
        "degree_values = [2, 3, 4]\n",
        "results = []\n",
        "results, best_model, b_degree = cross_validate_svm_poly(X_train_svm_b, y_train_svm_b, C_values, degree_values)\n",
        "for C, degree, accuracy, recall in results:\n",
        "    print(f\"C: {C}, degree: {degree}, accuracy: {accuracy}, recall: {recall}\")\n",
        "print(\"Best Model:\", best_model, b_degree)"
      ]
    },
    {
      "cell_type": "markdown",
      "metadata": {
        "id": "xk34Usvq56e4"
      },
      "source": [
        "This time we can notice a substancial improvement compared to the previous models. The best option for the polynomial Kernel is the one with degree=3 and C=100. But we must try other options for the degree (4, 5, ...) and especially for the C since we can observe that the C improves for degree = 3 from the smallest C to the highest one, hence we should test Cs that are higher than 100\n"
      ]
    },
    {
      "cell_type": "code",
      "execution_count": null,
      "metadata": {
        "id": "98n6uaEP6F2m"
      },
      "outputs": [],
      "source": [
        "#testing with other degree values\n",
        "C_values = [ 1, 10, 100]\n",
        "degree_values = [4,5]\n",
        "results = []\n",
        "results, best_model, b_degree = cross_validate_svm_poly(X_train_svm_b, y_train_svm_b, C_values, degree_values)\n",
        "for C, degree, accuracy, recall in results:\n",
        "    print(f\"C: {C}, degree: {degree}, accuracy: {accuracy}, recall: {recall}\")\n",
        "print(\"Best Model:\", best_model, b_degree)"
      ]
    },
    {
      "cell_type": "markdown",
      "metadata": {
        "id": "WhlqOs1O6nvf"
      },
      "source": [
        "Other degrees don't seem to be better that degree = 3. We should now test other C values for degree = 3"
      ]
    },
    {
      "cell_type": "code",
      "execution_count": null,
      "metadata": {
        "id": "3vzxKZKn6kjB"
      },
      "outputs": [],
      "source": [
        "C_values = [500, 1000, 1500]\n",
        "degree_values = [3]\n",
        "results = []\n",
        "results, best_model, b_degree = cross_validate_svm_poly(X_train_svm_b, y_train_svm_b, C_values, degree_values)\n",
        "for C, degree, accuracy, recall in results:\n",
        "    print(f\"C: {C}, degree: {degree}, accuracy: {accuracy}, recall: {recall}\")\n",
        "print(\"Best Model:\", best_model, b_degree)"
      ]
    },
    {
      "cell_type": "markdown",
      "metadata": {
        "id": "W3Par-MA6tPY"
      },
      "source": [
        "C=100 and degree=3 appears to be model that gives the best results (out of the tested ones). Lets now try to fit models with degree=3 and C that is close to 100"
      ]
    },
    {
      "cell_type": "code",
      "execution_count": null,
      "metadata": {
        "id": "cpNUenwI6xqY"
      },
      "outputs": [],
      "source": [
        "C_values = [70, 85, 95, 100, 95, 115, 130]\n",
        "degree_values = [3]\n",
        "results = []\n",
        "results, best_model, b_degree = cross_validate_svm_poly(X_train_svm_b, y_train_svm_b, C_values, degree_values)\n",
        "for C, degree, accuracy, recall in results:\n",
        "    print(f\"C: {C}, degree: {degree}, accuracy: {accuracy}, recall: {recall}\")\n",
        "print(\"Best Model:\", best_model, b_degree)"
      ]
    },
    {
      "cell_type": "markdown",
      "metadata": {
        "id": "hDIIilX961rh"
      },
      "source": [
        "The best SVM model with polinomia appears to be the one with degree=3 and C=95. Since most CV tests that have been executed did not change the results significantly we can consider those results to train a final model and test it with the test set."
      ]
    },
    {
      "cell_type": "code",
      "execution_count": null,
      "metadata": {
        "id": "zptjRXJb7At8"
      },
      "outputs": [],
      "source": [
        "# Fit the final Support Vector Machine model with the optimal C on the standardized dataset\n",
        "final_svm_poly = SVC(kernel='poly', degree=3, C=95)\n",
        "final_svm_poly.fit(X_train_svm_b_scaled, y_train_svm_b)\n",
        "\n",
        "# Make predictions on the standardized testing data\n",
        "final_svm_poly_pred = final_svm_poly.predict(X_test_svm_unb_scaled)\n",
        "\n",
        "# Calculating the Accuracy and Recall of the model\n",
        "final_accuracy = accuracy_score(y_test_svm_unb, final_svm_poly_pred)\n",
        "final_recall = recall_score(y_test_svm_unb, final_svm_poly_pred)\n",
        "final_precision = precision_score(y_test_svm_unb, final_svm_poly_pred)\n",
        "final_f1 = f1_score(y_test_svm_unb, final_svm_poly_pred)\n",
        "\n",
        "print(\"Accuracy Score with polynomial kernel with dimension=3 and C=100:\", final_accuracy)\n",
        "print(\"Recall Score with polynomial kernel with dimension=3 and C=100:\", final_recall)\n",
        "print(\"Precision Score with polynomial kernel with dimension=3 and C=100:\", final_precision)\n",
        "print(\"F1 Score with polynomial kernel with dimension=3 and C=100:\", final_f1)"
      ]
    },
    {
      "cell_type": "code",
      "execution_count": null,
      "metadata": {
        "id": "PznEM8oO7AI_"
      },
      "outputs": [],
      "source": [
        "# Calculating and ploting the confusion matrix\n",
        "plot_confusion_matrix(y_test_svm_unb, final_svm_poly_pred)"
      ]
    },
    {
      "cell_type": "markdown",
      "metadata": {
        "id": "GYkUXlQt7JY-"
      },
      "source": [
        "The Polynomial SVM Model is performing better that the linear one bu it's still far from being satisfying. No efficient investment decisions can be taken with these results We should now try to fit a SVM model using the Radial Kernel to see if results get better."
      ]
    },
    {
      "cell_type": "markdown",
      "metadata": {
        "id": "BW1AJRQO7Nu4"
      },
      "source": [
        "### SVM with Radial Kernel"
      ]
    },
    {
      "cell_type": "code",
      "execution_count": null,
      "metadata": {
        "id": "1Vjt4adX7VVo"
      },
      "outputs": [],
      "source": [
        "def cross_validate_svm_rbf(X_train, y_train, C_test, gamma_test, n_folds=5):\n",
        "\n",
        "    # Initialize KFold with shuffle=True to randomize the data\n",
        "    kf = KFold(n_splits=n_folds, shuffle=True, random_state=1234)\n",
        "\n",
        "    # Initialize list to store results\n",
        "    results_svm_rbf = []\n",
        "\n",
        "    # Initialize variables to store the best hyperparameters and model\n",
        "    best_C_rbf = None\n",
        "    best_gamma_rbf = None\n",
        "    best_recall_svm_rbf = 0.0\n",
        "    best_accuracy_svm_rbf = 0.0\n",
        "    best_model_svm_rbf = None\n",
        "\n",
        "    # Perform cross-validation\n",
        "    for C in C_test:\n",
        "        for gamma in gamma_test:\n",
        "            fold_recall_values = []\n",
        "            fold_accuracy_values = []\n",
        "            for train_index, test_index in kf.split(X_train):\n",
        "                X_trainCV, X_testCV = X_train.iloc[train_index], X_train.iloc[test_index]\n",
        "                y_trainCV, y_testCV = y_train.iloc[train_index], y_train.iloc[test_index]\n",
        "\n",
        "                # Standardize the data using the training data's mean and standard deviation\n",
        "                scaler = StandardScaler()\n",
        "                X_trainCV_scaled = scaler.fit_transform(X_trainCV)\n",
        "                X_testCV_scaled = scaler.transform(X_testCV)\n",
        "\n",
        "                svm_rbf = SVC(kernel='rbf', C=C, gamma=gamma)\n",
        "                svm_rbf.fit(X_trainCV_scaled, y_trainCV)\n",
        "\n",
        "                # Make predictions on the standardized testing data\n",
        "                y_pred_svm_rbf = svm_rbf.predict(X_testCV_scaled)\n",
        "\n",
        "                # Calculate the recall and accuracy for the current fold\n",
        "                fold_recall_values.append(recall_score(y_testCV, y_pred_svm_rbf))\n",
        "                fold_accuracy_values.append(accuracy_score(y_testCV, y_pred_svm_rbf))\n",
        "\n",
        "            # Calculate the mean recall and accuracy across all folds for the current hyperparameters\n",
        "            mean_recall_svm_rbf = np.mean(fold_recall_values)\n",
        "            mean_accuracy_svm_rbf = np.mean(fold_accuracy_values)\n",
        "            results_svm_rbf.append((C, gamma, mean_accuracy_svm_rbf, mean_recall_svm_rbf))\n",
        "\n",
        "            # Check if the current hyperparameters have a higher accuracy than the best found so far\n",
        "            if mean_accuracy_svm_rbf > best_accuracy_svm_rbf:\n",
        "                best_C_rbf = C\n",
        "                best_gamma_rbf = gamma\n",
        "                best_accuracy_svm_rbf = mean_accuracy_svm_rbf\n",
        "                best_model_svm_rbf = svm_rbf\n",
        "\n",
        "    return results_svm_rbf, best_model_svm_rbf"
      ]
    },
    {
      "cell_type": "markdown",
      "metadata": {
        "id": "tOybmXw07ZrR"
      },
      "source": [
        "Lets start by testing some values of Gamma and C for the Radial Kernel"
      ]
    },
    {
      "cell_type": "code",
      "execution_count": null,
      "metadata": {
        "id": "JCImYyS27eAB"
      },
      "outputs": [],
      "source": [
        "C_values = [0.1, 1, 10, 100]\n",
        "gamma_values = [0.01, 0.1, 1, 10, 100]\n",
        "results = []\n",
        "results, best_model = cross_validate_svm_rbf(X_train_svm_b, y_train_svm_b, C_values, gamma_values)\n",
        "for C, gamma, accuracy, recall in results:\n",
        "    print(f\"C: {C}, gamma: {gamma}, accuracy: {accuracy}, recall: {recall}\")\n",
        "print(\"Best Model:\", best_model)"
      ]
    },
    {
      "cell_type": "markdown",
      "metadata": {
        "id": "H-AANHTH7gi4"
      },
      "source": [
        "The best model out of the testes ones is the one with C=10 and gamma=0.1 lets try other values of gamma and C in the surroundings of the ones that we found so far."
      ]
    },
    {
      "cell_type": "code",
      "execution_count": null,
      "metadata": {
        "id": "IbTP_Pxh7hOX"
      },
      "outputs": [],
      "source": [
        "C_values = [7, 10, 15]\n",
        "gamma_values = [0.5, 0.1, 1.5]\n",
        "results = []\n",
        "results, best_model = cross_validate_svm_rbf(X_train_svm_b, y_train_svm_b, C_values, gamma_values)\n",
        "for C, gamma, accuracy, recall in results:\n",
        "    print(f\"C: {C}, gamma: {gamma}, accuracy: {accuracy}, recall: {recall}\")\n",
        "print(\"Best Model:\", best_model)"
      ]
    },
    {
      "cell_type": "code",
      "execution_count": null,
      "metadata": {
        "id": "60WHGnRt7kxB"
      },
      "outputs": [],
      "source": [
        "# Fit the final Support Vector Machine model with the optimal C on the standardized dataset\n",
        "final_svm_rbf = SVC(kernel='rbf', C=15, gamma=0.1)\n",
        "final_svm_rbf.fit(X_train_svm_b_scaled, y_train_svm_b)\n",
        "\n",
        "# Make predictions on the standardized testing data\n",
        "final_svm_rbf_pred = final_svm_rbf.predict(X_test_svm_unb_scaled)\n",
        "\n",
        "# Calculating the Recall and Accuracy of the model\n",
        "final_recall = recall_score(y_test_svm_unb, final_svm_rbf_pred)\n",
        "final_accuracy = accuracy_score(y_test_svm_unb, final_svm_rbf_pred)\n",
        "final_precision = precision_score(y_test_svm_unb, final_svm_rbf_pred)\n",
        "final_f1 = f1_score(y_test_svm_unb, final_svm_rbf_pred)\n",
        "\n",
        "print(\"Recall Score with radial kernel tuned with C=015 and gamma=0.1:\", final_recall)\n",
        "print(\"Accuracy Score with radial kernel tuned with C=015 and gamma=0.1:\", final_accuracy)\n",
        "print(\"Precision Score with radial kernel tuned with C=015 and gamma=0.1:\", final_precision)\n",
        "print(\"Accuracy Score with radial kernel tuned with C=015 and gamma=0.1:\", final_f1)"
      ]
    },
    {
      "cell_type": "code",
      "execution_count": null,
      "metadata": {
        "id": "ukuDFDyN7tMR"
      },
      "outputs": [],
      "source": [
        "# Calculating and ploting the confusion matrix\n",
        "plot_confusion_matrix(y_test_svm_unb, final_svm_rbf_pred)"
      ]
    },
    {
      "cell_type": "markdown",
      "metadata": {
        "id": "Vuvk2StP7v9S"
      },
      "source": [
        "Even when employing the radial kernel, the model's performance remains suboptimal for informing investment decisions. The predictive accuracy is only marginally better than chance, hovering slightly above a 50% probability of making a correct investment choice. This level of accuracy is tantamount to making random investment decisions."
      ]
    },
    {
      "cell_type": "markdown",
      "metadata": {
        "id": "qr4VcLrR7zBQ"
      },
      "source": [
        "Lets now try to re-train the models this time with an oversampled training dataset to see if we get to better results."
      ]
    }
  ],
  "metadata": {
    "colab": {
      "provenance": []
    },
    "kernelspec": {
      "display_name": "Python 3",
      "name": "python3"
    },
    "language_info": {
      "name": "python"
    }
  },
  "nbformat": 4,
  "nbformat_minor": 0
}